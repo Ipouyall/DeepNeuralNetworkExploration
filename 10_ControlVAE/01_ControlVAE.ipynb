{
 "metadata": {
  "kaggle": {
   "accelerator": "nvidiaTeslaT4",
   "dataSources": [
    {
     "sourceId": 7384022,
     "sourceType": "datasetVersion",
     "datasetId": 4291686
    }
   ],
   "dockerImageVersionId": 30635,
   "isInternetEnabled": true,
   "language": "python",
   "sourceType": "notebook",
   "isGpuEnabled": true
  },
  "kernelspec": {
   "name": "python3",
   "display_name": "Python 3"
  },
  "language_info": {
   "name": "python",
   "version": "3.10.12",
   "mimetype": "text/x-python",
   "codemirror_mode": {
    "name": "ipython",
    "version": 3
   },
   "pygments_lexer": "ipython3",
   "nbconvert_exporter": "python",
   "file_extension": ".py"
  },
  "colab": {
   "provenance": [],
   "gpuType": "T4"
  },
  "accelerator": "GPU",
  "widgets": {
   "application/vnd.jupyter.widget-state+json": {
    "4ffd81d5d59b461e8cf2b4a3543d9977": {
     "model_module": "@jupyter-widgets/controls",
     "model_name": "HBoxModel",
     "model_module_version": "1.5.0",
     "state": {
      "_dom_classes": [],
      "_model_module": "@jupyter-widgets/controls",
      "_model_module_version": "1.5.0",
      "_model_name": "HBoxModel",
      "_view_count": null,
      "_view_module": "@jupyter-widgets/controls",
      "_view_module_version": "1.5.0",
      "_view_name": "HBoxView",
      "box_style": "",
      "children": [
       "IPY_MODEL_04c40de134214ef9a0be24f1bc123fd8",
       "IPY_MODEL_0c92d738638246feb3b915e9be038dfd",
       "IPY_MODEL_9887893e70144da78e8184ffb032faaa"
      ],
      "layout": "IPY_MODEL_af3131d8e35f402499f846b0f3dee547"
     }
    },
    "04c40de134214ef9a0be24f1bc123fd8": {
     "model_module": "@jupyter-widgets/controls",
     "model_name": "HTMLModel",
     "model_module_version": "1.5.0",
     "state": {
      "_dom_classes": [],
      "_model_module": "@jupyter-widgets/controls",
      "_model_module_version": "1.5.0",
      "_model_name": "HTMLModel",
      "_view_count": null,
      "_view_module": "@jupyter-widgets/controls",
      "_view_module_version": "1.5.0",
      "_view_name": "HTMLView",
      "description": "",
      "description_tooltip": null,
      "layout": "IPY_MODEL_74124c0be73349a58072300bd7694f8b",
      "placeholder": "​",
      "style": "IPY_MODEL_d7b1808c951d4540be02a78e0d8d0582",
      "value": "(Training) Epoch [1/5]:  98%"
     }
    },
    "0c92d738638246feb3b915e9be038dfd": {
     "model_module": "@jupyter-widgets/controls",
     "model_name": "FloatProgressModel",
     "model_module_version": "1.5.0",
     "state": {
      "_dom_classes": [],
      "_model_module": "@jupyter-widgets/controls",
      "_model_module_version": "1.5.0",
      "_model_name": "FloatProgressModel",
      "_view_count": null,
      "_view_module": "@jupyter-widgets/controls",
      "_view_module_version": "1.5.0",
      "_view_name": "ProgressView",
      "bar_style": "",
      "description": "",
      "description_tooltip": null,
      "layout": "IPY_MODEL_66d972e856ab4f229cf05ab9dfbe4f74",
      "max": 130,
      "min": 0,
      "orientation": "horizontal",
      "style": "IPY_MODEL_37591670076e45cda607bafc3f24f148",
      "value": 130
     }
    },
    "9887893e70144da78e8184ffb032faaa": {
     "model_module": "@jupyter-widgets/controls",
     "model_name": "HTMLModel",
     "model_module_version": "1.5.0",
     "state": {
      "_dom_classes": [],
      "_model_module": "@jupyter-widgets/controls",
      "_model_module_version": "1.5.0",
      "_model_name": "HTMLModel",
      "_view_count": null,
      "_view_module": "@jupyter-widgets/controls",
      "_view_module_version": "1.5.0",
      "_view_name": "HTMLView",
      "description": "",
      "description_tooltip": null,
      "layout": "IPY_MODEL_5691fe165dca4475a310868a0cb7f262",
      "placeholder": "​",
      "style": "IPY_MODEL_965fafc8287a4769a52adcf2861c9ae6",
      "value": " 128/130 [00:03&lt;00:00, 38.04it/s, loss=625]"
     }
    },
    "af3131d8e35f402499f846b0f3dee547": {
     "model_module": "@jupyter-widgets/base",
     "model_name": "LayoutModel",
     "model_module_version": "1.2.0",
     "state": {
      "_model_module": "@jupyter-widgets/base",
      "_model_module_version": "1.2.0",
      "_model_name": "LayoutModel",
      "_view_count": null,
      "_view_module": "@jupyter-widgets/base",
      "_view_module_version": "1.2.0",
      "_view_name": "LayoutView",
      "align_content": null,
      "align_items": null,
      "align_self": null,
      "border": null,
      "bottom": null,
      "display": null,
      "flex": null,
      "flex_flow": null,
      "grid_area": null,
      "grid_auto_columns": null,
      "grid_auto_flow": null,
      "grid_auto_rows": null,
      "grid_column": null,
      "grid_gap": null,
      "grid_row": null,
      "grid_template_areas": null,
      "grid_template_columns": null,
      "grid_template_rows": null,
      "height": null,
      "justify_content": null,
      "justify_items": null,
      "left": null,
      "margin": null,
      "max_height": null,
      "max_width": null,
      "min_height": null,
      "min_width": null,
      "object_fit": null,
      "object_position": null,
      "order": null,
      "overflow": null,
      "overflow_x": null,
      "overflow_y": null,
      "padding": null,
      "right": null,
      "top": null,
      "visibility": "hidden",
      "width": null
     }
    },
    "74124c0be73349a58072300bd7694f8b": {
     "model_module": "@jupyter-widgets/base",
     "model_name": "LayoutModel",
     "model_module_version": "1.2.0",
     "state": {
      "_model_module": "@jupyter-widgets/base",
      "_model_module_version": "1.2.0",
      "_model_name": "LayoutModel",
      "_view_count": null,
      "_view_module": "@jupyter-widgets/base",
      "_view_module_version": "1.2.0",
      "_view_name": "LayoutView",
      "align_content": null,
      "align_items": null,
      "align_self": null,
      "border": null,
      "bottom": null,
      "display": null,
      "flex": null,
      "flex_flow": null,
      "grid_area": null,
      "grid_auto_columns": null,
      "grid_auto_flow": null,
      "grid_auto_rows": null,
      "grid_column": null,
      "grid_gap": null,
      "grid_row": null,
      "grid_template_areas": null,
      "grid_template_columns": null,
      "grid_template_rows": null,
      "height": null,
      "justify_content": null,
      "justify_items": null,
      "left": null,
      "margin": null,
      "max_height": null,
      "max_width": null,
      "min_height": null,
      "min_width": null,
      "object_fit": null,
      "object_position": null,
      "order": null,
      "overflow": null,
      "overflow_x": null,
      "overflow_y": null,
      "padding": null,
      "right": null,
      "top": null,
      "visibility": null,
      "width": null
     }
    },
    "d7b1808c951d4540be02a78e0d8d0582": {
     "model_module": "@jupyter-widgets/controls",
     "model_name": "DescriptionStyleModel",
     "model_module_version": "1.5.0",
     "state": {
      "_model_module": "@jupyter-widgets/controls",
      "_model_module_version": "1.5.0",
      "_model_name": "DescriptionStyleModel",
      "_view_count": null,
      "_view_module": "@jupyter-widgets/base",
      "_view_module_version": "1.2.0",
      "_view_name": "StyleView",
      "description_width": ""
     }
    },
    "66d972e856ab4f229cf05ab9dfbe4f74": {
     "model_module": "@jupyter-widgets/base",
     "model_name": "LayoutModel",
     "model_module_version": "1.2.0",
     "state": {
      "_model_module": "@jupyter-widgets/base",
      "_model_module_version": "1.2.0",
      "_model_name": "LayoutModel",
      "_view_count": null,
      "_view_module": "@jupyter-widgets/base",
      "_view_module_version": "1.2.0",
      "_view_name": "LayoutView",
      "align_content": null,
      "align_items": null,
      "align_self": null,
      "border": null,
      "bottom": null,
      "display": null,
      "flex": null,
      "flex_flow": null,
      "grid_area": null,
      "grid_auto_columns": null,
      "grid_auto_flow": null,
      "grid_auto_rows": null,
      "grid_column": null,
      "grid_gap": null,
      "grid_row": null,
      "grid_template_areas": null,
      "grid_template_columns": null,
      "grid_template_rows": null,
      "height": null,
      "justify_content": null,
      "justify_items": null,
      "left": null,
      "margin": null,
      "max_height": null,
      "max_width": null,
      "min_height": null,
      "min_width": null,
      "object_fit": null,
      "object_position": null,
      "order": null,
      "overflow": null,
      "overflow_x": null,
      "overflow_y": null,
      "padding": null,
      "right": null,
      "top": null,
      "visibility": null,
      "width": null
     }
    },
    "37591670076e45cda607bafc3f24f148": {
     "model_module": "@jupyter-widgets/controls",
     "model_name": "ProgressStyleModel",
     "model_module_version": "1.5.0",
     "state": {
      "_model_module": "@jupyter-widgets/controls",
      "_model_module_version": "1.5.0",
      "_model_name": "ProgressStyleModel",
      "_view_count": null,
      "_view_module": "@jupyter-widgets/base",
      "_view_module_version": "1.2.0",
      "_view_name": "StyleView",
      "bar_color": null,
      "description_width": ""
     }
    },
    "5691fe165dca4475a310868a0cb7f262": {
     "model_module": "@jupyter-widgets/base",
     "model_name": "LayoutModel",
     "model_module_version": "1.2.0",
     "state": {
      "_model_module": "@jupyter-widgets/base",
      "_model_module_version": "1.2.0",
      "_model_name": "LayoutModel",
      "_view_count": null,
      "_view_module": "@jupyter-widgets/base",
      "_view_module_version": "1.2.0",
      "_view_name": "LayoutView",
      "align_content": null,
      "align_items": null,
      "align_self": null,
      "border": null,
      "bottom": null,
      "display": null,
      "flex": null,
      "flex_flow": null,
      "grid_area": null,
      "grid_auto_columns": null,
      "grid_auto_flow": null,
      "grid_auto_rows": null,
      "grid_column": null,
      "grid_gap": null,
      "grid_row": null,
      "grid_template_areas": null,
      "grid_template_columns": null,
      "grid_template_rows": null,
      "height": null,
      "justify_content": null,
      "justify_items": null,
      "left": null,
      "margin": null,
      "max_height": null,
      "max_width": null,
      "min_height": null,
      "min_width": null,
      "object_fit": null,
      "object_position": null,
      "order": null,
      "overflow": null,
      "overflow_x": null,
      "overflow_y": null,
      "padding": null,
      "right": null,
      "top": null,
      "visibility": null,
      "width": null
     }
    },
    "965fafc8287a4769a52adcf2861c9ae6": {
     "model_module": "@jupyter-widgets/controls",
     "model_name": "DescriptionStyleModel",
     "model_module_version": "1.5.0",
     "state": {
      "_model_module": "@jupyter-widgets/controls",
      "_model_module_version": "1.5.0",
      "_model_name": "DescriptionStyleModel",
      "_view_count": null,
      "_view_module": "@jupyter-widgets/base",
      "_view_module_version": "1.2.0",
      "_view_name": "StyleView",
      "description_width": ""
     }
    },
    "f545780a9db442c1829a22e1c4919075": {
     "model_module": "@jupyter-widgets/controls",
     "model_name": "HBoxModel",
     "model_module_version": "1.5.0",
     "state": {
      "_dom_classes": [],
      "_model_module": "@jupyter-widgets/controls",
      "_model_module_version": "1.5.0",
      "_model_name": "HBoxModel",
      "_view_count": null,
      "_view_module": "@jupyter-widgets/controls",
      "_view_module_version": "1.5.0",
      "_view_name": "HBoxView",
      "box_style": "",
      "children": [
       "IPY_MODEL_ecefed8c1df546c3ade5ca51a579cb41",
       "IPY_MODEL_47c47f5dbd6a45adab0ca059f4175d39",
       "IPY_MODEL_c8df95b4f36146118e79ab7a7b0b8b1c"
      ],
      "layout": "IPY_MODEL_a86e4ba8445242caa97c9e01850cde5f"
     }
    },
    "ecefed8c1df546c3ade5ca51a579cb41": {
     "model_module": "@jupyter-widgets/controls",
     "model_name": "HTMLModel",
     "model_module_version": "1.5.0",
     "state": {
      "_dom_classes": [],
      "_model_module": "@jupyter-widgets/controls",
      "_model_module_version": "1.5.0",
      "_model_name": "HTMLModel",
      "_view_count": null,
      "_view_module": "@jupyter-widgets/controls",
      "_view_module_version": "1.5.0",
      "_view_name": "HTMLView",
      "description": "",
      "description_tooltip": null,
      "layout": "IPY_MODEL_0453f4978f1c44caac07be20bf5b804e",
      "placeholder": "​",
      "style": "IPY_MODEL_a6348f0170484a78ade3426885c0c8e1",
      "value": "(Eval):  67%"
     }
    },
    "47c47f5dbd6a45adab0ca059f4175d39": {
     "model_module": "@jupyter-widgets/controls",
     "model_name": "FloatProgressModel",
     "model_module_version": "1.5.0",
     "state": {
      "_dom_classes": [],
      "_model_module": "@jupyter-widgets/controls",
      "_model_module_version": "1.5.0",
      "_model_name": "FloatProgressModel",
      "_view_count": null,
      "_view_module": "@jupyter-widgets/controls",
      "_view_module_version": "1.5.0",
      "_view_name": "ProgressView",
      "bar_style": "",
      "description": "",
      "description_tooltip": null,
      "layout": "IPY_MODEL_867064e275004876900b2bc6fbc57a88",
      "max": 15,
      "min": 0,
      "orientation": "horizontal",
      "style": "IPY_MODEL_f49d6bf8efca4db5b946f34fc0072502",
      "value": 15
     }
    },
    "c8df95b4f36146118e79ab7a7b0b8b1c": {
     "model_module": "@jupyter-widgets/controls",
     "model_name": "HTMLModel",
     "model_module_version": "1.5.0",
     "state": {
      "_dom_classes": [],
      "_model_module": "@jupyter-widgets/controls",
      "_model_module_version": "1.5.0",
      "_model_name": "HTMLModel",
      "_view_count": null,
      "_view_module": "@jupyter-widgets/controls",
      "_view_module_version": "1.5.0",
      "_view_name": "HTMLView",
      "description": "",
      "description_tooltip": null,
      "layout": "IPY_MODEL_54132ecfaac743c4a825e1c6f087f7e8",
      "placeholder": "​",
      "style": "IPY_MODEL_4af0e8467b854c1390d9c54b0911d05d",
      "value": " 10/15 [00:00&lt;00:00, 47.07it/s, kd_div=3.61, rec_loss=0.422, total_loss=6.25]"
     }
    },
    "a86e4ba8445242caa97c9e01850cde5f": {
     "model_module": "@jupyter-widgets/base",
     "model_name": "LayoutModel",
     "model_module_version": "1.2.0",
     "state": {
      "_model_module": "@jupyter-widgets/base",
      "_model_module_version": "1.2.0",
      "_model_name": "LayoutModel",
      "_view_count": null,
      "_view_module": "@jupyter-widgets/base",
      "_view_module_version": "1.2.0",
      "_view_name": "LayoutView",
      "align_content": null,
      "align_items": null,
      "align_self": null,
      "border": null,
      "bottom": null,
      "display": null,
      "flex": null,
      "flex_flow": null,
      "grid_area": null,
      "grid_auto_columns": null,
      "grid_auto_flow": null,
      "grid_auto_rows": null,
      "grid_column": null,
      "grid_gap": null,
      "grid_row": null,
      "grid_template_areas": null,
      "grid_template_columns": null,
      "grid_template_rows": null,
      "height": null,
      "justify_content": null,
      "justify_items": null,
      "left": null,
      "margin": null,
      "max_height": null,
      "max_width": null,
      "min_height": null,
      "min_width": null,
      "object_fit": null,
      "object_position": null,
      "order": null,
      "overflow": null,
      "overflow_x": null,
      "overflow_y": null,
      "padding": null,
      "right": null,
      "top": null,
      "visibility": "hidden",
      "width": null
     }
    },
    "0453f4978f1c44caac07be20bf5b804e": {
     "model_module": "@jupyter-widgets/base",
     "model_name": "LayoutModel",
     "model_module_version": "1.2.0",
     "state": {
      "_model_module": "@jupyter-widgets/base",
      "_model_module_version": "1.2.0",
      "_model_name": "LayoutModel",
      "_view_count": null,
      "_view_module": "@jupyter-widgets/base",
      "_view_module_version": "1.2.0",
      "_view_name": "LayoutView",
      "align_content": null,
      "align_items": null,
      "align_self": null,
      "border": null,
      "bottom": null,
      "display": null,
      "flex": null,
      "flex_flow": null,
      "grid_area": null,
      "grid_auto_columns": null,
      "grid_auto_flow": null,
      "grid_auto_rows": null,
      "grid_column": null,
      "grid_gap": null,
      "grid_row": null,
      "grid_template_areas": null,
      "grid_template_columns": null,
      "grid_template_rows": null,
      "height": null,
      "justify_content": null,
      "justify_items": null,
      "left": null,
      "margin": null,
      "max_height": null,
      "max_width": null,
      "min_height": null,
      "min_width": null,
      "object_fit": null,
      "object_position": null,
      "order": null,
      "overflow": null,
      "overflow_x": null,
      "overflow_y": null,
      "padding": null,
      "right": null,
      "top": null,
      "visibility": null,
      "width": null
     }
    },
    "a6348f0170484a78ade3426885c0c8e1": {
     "model_module": "@jupyter-widgets/controls",
     "model_name": "DescriptionStyleModel",
     "model_module_version": "1.5.0",
     "state": {
      "_model_module": "@jupyter-widgets/controls",
      "_model_module_version": "1.5.0",
      "_model_name": "DescriptionStyleModel",
      "_view_count": null,
      "_view_module": "@jupyter-widgets/base",
      "_view_module_version": "1.2.0",
      "_view_name": "StyleView",
      "description_width": ""
     }
    },
    "867064e275004876900b2bc6fbc57a88": {
     "model_module": "@jupyter-widgets/base",
     "model_name": "LayoutModel",
     "model_module_version": "1.2.0",
     "state": {
      "_model_module": "@jupyter-widgets/base",
      "_model_module_version": "1.2.0",
      "_model_name": "LayoutModel",
      "_view_count": null,
      "_view_module": "@jupyter-widgets/base",
      "_view_module_version": "1.2.0",
      "_view_name": "LayoutView",
      "align_content": null,
      "align_items": null,
      "align_self": null,
      "border": null,
      "bottom": null,
      "display": null,
      "flex": null,
      "flex_flow": null,
      "grid_area": null,
      "grid_auto_columns": null,
      "grid_auto_flow": null,
      "grid_auto_rows": null,
      "grid_column": null,
      "grid_gap": null,
      "grid_row": null,
      "grid_template_areas": null,
      "grid_template_columns": null,
      "grid_template_rows": null,
      "height": null,
      "justify_content": null,
      "justify_items": null,
      "left": null,
      "margin": null,
      "max_height": null,
      "max_width": null,
      "min_height": null,
      "min_width": null,
      "object_fit": null,
      "object_position": null,
      "order": null,
      "overflow": null,
      "overflow_x": null,
      "overflow_y": null,
      "padding": null,
      "right": null,
      "top": null,
      "visibility": null,
      "width": null
     }
    },
    "f49d6bf8efca4db5b946f34fc0072502": {
     "model_module": "@jupyter-widgets/controls",
     "model_name": "ProgressStyleModel",
     "model_module_version": "1.5.0",
     "state": {
      "_model_module": "@jupyter-widgets/controls",
      "_model_module_version": "1.5.0",
      "_model_name": "ProgressStyleModel",
      "_view_count": null,
      "_view_module": "@jupyter-widgets/base",
      "_view_module_version": "1.2.0",
      "_view_name": "StyleView",
      "bar_color": null,
      "description_width": ""
     }
    },
    "54132ecfaac743c4a825e1c6f087f7e8": {
     "model_module": "@jupyter-widgets/base",
     "model_name": "LayoutModel",
     "model_module_version": "1.2.0",
     "state": {
      "_model_module": "@jupyter-widgets/base",
      "_model_module_version": "1.2.0",
      "_model_name": "LayoutModel",
      "_view_count": null,
      "_view_module": "@jupyter-widgets/base",
      "_view_module_version": "1.2.0",
      "_view_name": "LayoutView",
      "align_content": null,
      "align_items": null,
      "align_self": null,
      "border": null,
      "bottom": null,
      "display": null,
      "flex": null,
      "flex_flow": null,
      "grid_area": null,
      "grid_auto_columns": null,
      "grid_auto_flow": null,
      "grid_auto_rows": null,
      "grid_column": null,
      "grid_gap": null,
      "grid_row": null,
      "grid_template_areas": null,
      "grid_template_columns": null,
      "grid_template_rows": null,
      "height": null,
      "justify_content": null,
      "justify_items": null,
      "left": null,
      "margin": null,
      "max_height": null,
      "max_width": null,
      "min_height": null,
      "min_width": null,
      "object_fit": null,
      "object_position": null,
      "order": null,
      "overflow": null,
      "overflow_x": null,
      "overflow_y": null,
      "padding": null,
      "right": null,
      "top": null,
      "visibility": null,
      "width": null
     }
    },
    "4af0e8467b854c1390d9c54b0911d05d": {
     "model_module": "@jupyter-widgets/controls",
     "model_name": "DescriptionStyleModel",
     "model_module_version": "1.5.0",
     "state": {
      "_model_module": "@jupyter-widgets/controls",
      "_model_module_version": "1.5.0",
      "_model_name": "DescriptionStyleModel",
      "_view_count": null,
      "_view_module": "@jupyter-widgets/base",
      "_view_module_version": "1.2.0",
      "_view_name": "StyleView",
      "description_width": ""
     }
    },
    "891c75431237496d83aff327a90e4f78": {
     "model_module": "@jupyter-widgets/controls",
     "model_name": "HBoxModel",
     "model_module_version": "1.5.0",
     "state": {
      "_dom_classes": [],
      "_model_module": "@jupyter-widgets/controls",
      "_model_module_version": "1.5.0",
      "_model_name": "HBoxModel",
      "_view_count": null,
      "_view_module": "@jupyter-widgets/controls",
      "_view_module_version": "1.5.0",
      "_view_name": "HBoxView",
      "box_style": "",
      "children": [
       "IPY_MODEL_14a8f6b321cb4291a2640c119b87eb5e",
       "IPY_MODEL_33fa9595a0b04d65a159e850d7c9b4b1",
       "IPY_MODEL_ff6e011e6e404f1d811c679f525052bf"
      ],
      "layout": "IPY_MODEL_85496edee6f1408688a80079987f1713"
     }
    },
    "14a8f6b321cb4291a2640c119b87eb5e": {
     "model_module": "@jupyter-widgets/controls",
     "model_name": "HTMLModel",
     "model_module_version": "1.5.0",
     "state": {
      "_dom_classes": [],
      "_model_module": "@jupyter-widgets/controls",
      "_model_module_version": "1.5.0",
      "_model_name": "HTMLModel",
      "_view_count": null,
      "_view_module": "@jupyter-widgets/controls",
      "_view_module_version": "1.5.0",
      "_view_name": "HTMLView",
      "description": "",
      "description_tooltip": null,
      "layout": "IPY_MODEL_ea28dbb08ab842439e145e06bd045328",
      "placeholder": "​",
      "style": "IPY_MODEL_78c35086edf7416b8de0066df53935b3",
      "value": "(Eval):  80%"
     }
    },
    "33fa9595a0b04d65a159e850d7c9b4b1": {
     "model_module": "@jupyter-widgets/controls",
     "model_name": "FloatProgressModel",
     "model_module_version": "1.5.0",
     "state": {
      "_dom_classes": [],
      "_model_module": "@jupyter-widgets/controls",
      "_model_module_version": "1.5.0",
      "_model_name": "FloatProgressModel",
      "_view_count": null,
      "_view_module": "@jupyter-widgets/controls",
      "_view_module_version": "1.5.0",
      "_view_name": "ProgressView",
      "bar_style": "",
      "description": "",
      "description_tooltip": null,
      "layout": "IPY_MODEL_ccd46184b8fb458db5b302a9e6d91648",
      "max": 15,
      "min": 0,
      "orientation": "horizontal",
      "style": "IPY_MODEL_e57ec80225e5407d80a9026f704e06b6",
      "value": 15
     }
    },
    "ff6e011e6e404f1d811c679f525052bf": {
     "model_module": "@jupyter-widgets/controls",
     "model_name": "HTMLModel",
     "model_module_version": "1.5.0",
     "state": {
      "_dom_classes": [],
      "_model_module": "@jupyter-widgets/controls",
      "_model_module_version": "1.5.0",
      "_model_name": "HTMLModel",
      "_view_count": null,
      "_view_module": "@jupyter-widgets/controls",
      "_view_module_version": "1.5.0",
      "_view_name": "HTMLView",
      "description": "",
      "description_tooltip": null,
      "layout": "IPY_MODEL_fa1a45f8f6644253872b79e30d51f83e",
      "placeholder": "​",
      "style": "IPY_MODEL_42bad55fd0ed4c37b7821fb9b98a6055",
      "value": " 12/15 [00:00&lt;00:00, 38.26it/s, kd_div=2.55, rec_loss=0.23, total_loss=3.31]"
     }
    },
    "85496edee6f1408688a80079987f1713": {
     "model_module": "@jupyter-widgets/base",
     "model_name": "LayoutModel",
     "model_module_version": "1.2.0",
     "state": {
      "_model_module": "@jupyter-widgets/base",
      "_model_module_version": "1.2.0",
      "_model_name": "LayoutModel",
      "_view_count": null,
      "_view_module": "@jupyter-widgets/base",
      "_view_module_version": "1.2.0",
      "_view_name": "LayoutView",
      "align_content": null,
      "align_items": null,
      "align_self": null,
      "border": null,
      "bottom": null,
      "display": null,
      "flex": null,
      "flex_flow": null,
      "grid_area": null,
      "grid_auto_columns": null,
      "grid_auto_flow": null,
      "grid_auto_rows": null,
      "grid_column": null,
      "grid_gap": null,
      "grid_row": null,
      "grid_template_areas": null,
      "grid_template_columns": null,
      "grid_template_rows": null,
      "height": null,
      "justify_content": null,
      "justify_items": null,
      "left": null,
      "margin": null,
      "max_height": null,
      "max_width": null,
      "min_height": null,
      "min_width": null,
      "object_fit": null,
      "object_position": null,
      "order": null,
      "overflow": null,
      "overflow_x": null,
      "overflow_y": null,
      "padding": null,
      "right": null,
      "top": null,
      "visibility": "hidden",
      "width": null
     }
    },
    "ea28dbb08ab842439e145e06bd045328": {
     "model_module": "@jupyter-widgets/base",
     "model_name": "LayoutModel",
     "model_module_version": "1.2.0",
     "state": {
      "_model_module": "@jupyter-widgets/base",
      "_model_module_version": "1.2.0",
      "_model_name": "LayoutModel",
      "_view_count": null,
      "_view_module": "@jupyter-widgets/base",
      "_view_module_version": "1.2.0",
      "_view_name": "LayoutView",
      "align_content": null,
      "align_items": null,
      "align_self": null,
      "border": null,
      "bottom": null,
      "display": null,
      "flex": null,
      "flex_flow": null,
      "grid_area": null,
      "grid_auto_columns": null,
      "grid_auto_flow": null,
      "grid_auto_rows": null,
      "grid_column": null,
      "grid_gap": null,
      "grid_row": null,
      "grid_template_areas": null,
      "grid_template_columns": null,
      "grid_template_rows": null,
      "height": null,
      "justify_content": null,
      "justify_items": null,
      "left": null,
      "margin": null,
      "max_height": null,
      "max_width": null,
      "min_height": null,
      "min_width": null,
      "object_fit": null,
      "object_position": null,
      "order": null,
      "overflow": null,
      "overflow_x": null,
      "overflow_y": null,
      "padding": null,
      "right": null,
      "top": null,
      "visibility": null,
      "width": null
     }
    },
    "78c35086edf7416b8de0066df53935b3": {
     "model_module": "@jupyter-widgets/controls",
     "model_name": "DescriptionStyleModel",
     "model_module_version": "1.5.0",
     "state": {
      "_model_module": "@jupyter-widgets/controls",
      "_model_module_version": "1.5.0",
      "_model_name": "DescriptionStyleModel",
      "_view_count": null,
      "_view_module": "@jupyter-widgets/base",
      "_view_module_version": "1.2.0",
      "_view_name": "StyleView",
      "description_width": ""
     }
    },
    "ccd46184b8fb458db5b302a9e6d91648": {
     "model_module": "@jupyter-widgets/base",
     "model_name": "LayoutModel",
     "model_module_version": "1.2.0",
     "state": {
      "_model_module": "@jupyter-widgets/base",
      "_model_module_version": "1.2.0",
      "_model_name": "LayoutModel",
      "_view_count": null,
      "_view_module": "@jupyter-widgets/base",
      "_view_module_version": "1.2.0",
      "_view_name": "LayoutView",
      "align_content": null,
      "align_items": null,
      "align_self": null,
      "border": null,
      "bottom": null,
      "display": null,
      "flex": null,
      "flex_flow": null,
      "grid_area": null,
      "grid_auto_columns": null,
      "grid_auto_flow": null,
      "grid_auto_rows": null,
      "grid_column": null,
      "grid_gap": null,
      "grid_row": null,
      "grid_template_areas": null,
      "grid_template_columns": null,
      "grid_template_rows": null,
      "height": null,
      "justify_content": null,
      "justify_items": null,
      "left": null,
      "margin": null,
      "max_height": null,
      "max_width": null,
      "min_height": null,
      "min_width": null,
      "object_fit": null,
      "object_position": null,
      "order": null,
      "overflow": null,
      "overflow_x": null,
      "overflow_y": null,
      "padding": null,
      "right": null,
      "top": null,
      "visibility": null,
      "width": null
     }
    },
    "e57ec80225e5407d80a9026f704e06b6": {
     "model_module": "@jupyter-widgets/controls",
     "model_name": "ProgressStyleModel",
     "model_module_version": "1.5.0",
     "state": {
      "_model_module": "@jupyter-widgets/controls",
      "_model_module_version": "1.5.0",
      "_model_name": "ProgressStyleModel",
      "_view_count": null,
      "_view_module": "@jupyter-widgets/base",
      "_view_module_version": "1.2.0",
      "_view_name": "StyleView",
      "bar_color": null,
      "description_width": ""
     }
    },
    "fa1a45f8f6644253872b79e30d51f83e": {
     "model_module": "@jupyter-widgets/base",
     "model_name": "LayoutModel",
     "model_module_version": "1.2.0",
     "state": {
      "_model_module": "@jupyter-widgets/base",
      "_model_module_version": "1.2.0",
      "_model_name": "LayoutModel",
      "_view_count": null,
      "_view_module": "@jupyter-widgets/base",
      "_view_module_version": "1.2.0",
      "_view_name": "LayoutView",
      "align_content": null,
      "align_items": null,
      "align_self": null,
      "border": null,
      "bottom": null,
      "display": null,
      "flex": null,
      "flex_flow": null,
      "grid_area": null,
      "grid_auto_columns": null,
      "grid_auto_flow": null,
      "grid_auto_rows": null,
      "grid_column": null,
      "grid_gap": null,
      "grid_row": null,
      "grid_template_areas": null,
      "grid_template_columns": null,
      "grid_template_rows": null,
      "height": null,
      "justify_content": null,
      "justify_items": null,
      "left": null,
      "margin": null,
      "max_height": null,
      "max_width": null,
      "min_height": null,
      "min_width": null,
      "object_fit": null,
      "object_position": null,
      "order": null,
      "overflow": null,
      "overflow_x": null,
      "overflow_y": null,
      "padding": null,
      "right": null,
      "top": null,
      "visibility": null,
      "width": null
     }
    },
    "42bad55fd0ed4c37b7821fb9b98a6055": {
     "model_module": "@jupyter-widgets/controls",
     "model_name": "DescriptionStyleModel",
     "model_module_version": "1.5.0",
     "state": {
      "_model_module": "@jupyter-widgets/controls",
      "_model_module_version": "1.5.0",
      "_model_name": "DescriptionStyleModel",
      "_view_count": null,
      "_view_module": "@jupyter-widgets/base",
      "_view_module_version": "1.2.0",
      "_view_name": "StyleView",
      "description_width": ""
     }
    },
    "4160e4a03aaa4561861a419d9d85efa3": {
     "model_module": "@jupyter-widgets/controls",
     "model_name": "HBoxModel",
     "model_module_version": "1.5.0",
     "state": {
      "_dom_classes": [],
      "_model_module": "@jupyter-widgets/controls",
      "_model_module_version": "1.5.0",
      "_model_name": "HBoxModel",
      "_view_count": null,
      "_view_module": "@jupyter-widgets/controls",
      "_view_module_version": "1.5.0",
      "_view_name": "HBoxView",
      "box_style": "",
      "children": [
       "IPY_MODEL_71b859adaa82407a95b1c587c1214d4c",
       "IPY_MODEL_99a4bb64c28f4f29ab59fee728e6c917",
       "IPY_MODEL_7d0b68422a78484eab91d27d4bab957e"
      ],
      "layout": "IPY_MODEL_85991e906d034537a18f49c3b75e5d7b"
     }
    },
    "71b859adaa82407a95b1c587c1214d4c": {
     "model_module": "@jupyter-widgets/controls",
     "model_name": "HTMLModel",
     "model_module_version": "1.5.0",
     "state": {
      "_dom_classes": [],
      "_model_module": "@jupyter-widgets/controls",
      "_model_module_version": "1.5.0",
      "_model_name": "HTMLModel",
      "_view_count": null,
      "_view_module": "@jupyter-widgets/controls",
      "_view_module_version": "1.5.0",
      "_view_name": "HTMLView",
      "description": "",
      "description_tooltip": null,
      "layout": "IPY_MODEL_38b81707653c4abaac8a637134083990",
      "placeholder": "​",
      "style": "IPY_MODEL_9aa574d533734aff9544c68aad4998e6",
      "value": "(Eval):  67%"
     }
    },
    "99a4bb64c28f4f29ab59fee728e6c917": {
     "model_module": "@jupyter-widgets/controls",
     "model_name": "FloatProgressModel",
     "model_module_version": "1.5.0",
     "state": {
      "_dom_classes": [],
      "_model_module": "@jupyter-widgets/controls",
      "_model_module_version": "1.5.0",
      "_model_name": "FloatProgressModel",
      "_view_count": null,
      "_view_module": "@jupyter-widgets/controls",
      "_view_module_version": "1.5.0",
      "_view_name": "ProgressView",
      "bar_style": "",
      "description": "",
      "description_tooltip": null,
      "layout": "IPY_MODEL_5ec6e80ca58e485083801073a71809d9",
      "max": 15,
      "min": 0,
      "orientation": "horizontal",
      "style": "IPY_MODEL_cbaf2e69f0cd421a976ccf1aa1c9459c",
      "value": 15
     }
    },
    "7d0b68422a78484eab91d27d4bab957e": {
     "model_module": "@jupyter-widgets/controls",
     "model_name": "HTMLModel",
     "model_module_version": "1.5.0",
     "state": {
      "_dom_classes": [],
      "_model_module": "@jupyter-widgets/controls",
      "_model_module_version": "1.5.0",
      "_model_name": "HTMLModel",
      "_view_count": null,
      "_view_module": "@jupyter-widgets/controls",
      "_view_module_version": "1.5.0",
      "_view_name": "HTMLView",
      "description": "",
      "description_tooltip": null,
      "layout": "IPY_MODEL_cd90408da81447638f8918bc3bebc804",
      "placeholder": "​",
      "style": "IPY_MODEL_f5bdc8362a4b456f90c92fa55ae28753",
      "value": " 10/15 [00:00&lt;00:00, 46.67it/s, kd_div=1.91, rec_loss=0.209, total_loss=2.42]"
     }
    },
    "85991e906d034537a18f49c3b75e5d7b": {
     "model_module": "@jupyter-widgets/base",
     "model_name": "LayoutModel",
     "model_module_version": "1.2.0",
     "state": {
      "_model_module": "@jupyter-widgets/base",
      "_model_module_version": "1.2.0",
      "_model_name": "LayoutModel",
      "_view_count": null,
      "_view_module": "@jupyter-widgets/base",
      "_view_module_version": "1.2.0",
      "_view_name": "LayoutView",
      "align_content": null,
      "align_items": null,
      "align_self": null,
      "border": null,
      "bottom": null,
      "display": null,
      "flex": null,
      "flex_flow": null,
      "grid_area": null,
      "grid_auto_columns": null,
      "grid_auto_flow": null,
      "grid_auto_rows": null,
      "grid_column": null,
      "grid_gap": null,
      "grid_row": null,
      "grid_template_areas": null,
      "grid_template_columns": null,
      "grid_template_rows": null,
      "height": null,
      "justify_content": null,
      "justify_items": null,
      "left": null,
      "margin": null,
      "max_height": null,
      "max_width": null,
      "min_height": null,
      "min_width": null,
      "object_fit": null,
      "object_position": null,
      "order": null,
      "overflow": null,
      "overflow_x": null,
      "overflow_y": null,
      "padding": null,
      "right": null,
      "top": null,
      "visibility": "hidden",
      "width": null
     }
    },
    "38b81707653c4abaac8a637134083990": {
     "model_module": "@jupyter-widgets/base",
     "model_name": "LayoutModel",
     "model_module_version": "1.2.0",
     "state": {
      "_model_module": "@jupyter-widgets/base",
      "_model_module_version": "1.2.0",
      "_model_name": "LayoutModel",
      "_view_count": null,
      "_view_module": "@jupyter-widgets/base",
      "_view_module_version": "1.2.0",
      "_view_name": "LayoutView",
      "align_content": null,
      "align_items": null,
      "align_self": null,
      "border": null,
      "bottom": null,
      "display": null,
      "flex": null,
      "flex_flow": null,
      "grid_area": null,
      "grid_auto_columns": null,
      "grid_auto_flow": null,
      "grid_auto_rows": null,
      "grid_column": null,
      "grid_gap": null,
      "grid_row": null,
      "grid_template_areas": null,
      "grid_template_columns": null,
      "grid_template_rows": null,
      "height": null,
      "justify_content": null,
      "justify_items": null,
      "left": null,
      "margin": null,
      "max_height": null,
      "max_width": null,
      "min_height": null,
      "min_width": null,
      "object_fit": null,
      "object_position": null,
      "order": null,
      "overflow": null,
      "overflow_x": null,
      "overflow_y": null,
      "padding": null,
      "right": null,
      "top": null,
      "visibility": null,
      "width": null
     }
    },
    "9aa574d533734aff9544c68aad4998e6": {
     "model_module": "@jupyter-widgets/controls",
     "model_name": "DescriptionStyleModel",
     "model_module_version": "1.5.0",
     "state": {
      "_model_module": "@jupyter-widgets/controls",
      "_model_module_version": "1.5.0",
      "_model_name": "DescriptionStyleModel",
      "_view_count": null,
      "_view_module": "@jupyter-widgets/base",
      "_view_module_version": "1.2.0",
      "_view_name": "StyleView",
      "description_width": ""
     }
    },
    "5ec6e80ca58e485083801073a71809d9": {
     "model_module": "@jupyter-widgets/base",
     "model_name": "LayoutModel",
     "model_module_version": "1.2.0",
     "state": {
      "_model_module": "@jupyter-widgets/base",
      "_model_module_version": "1.2.0",
      "_model_name": "LayoutModel",
      "_view_count": null,
      "_view_module": "@jupyter-widgets/base",
      "_view_module_version": "1.2.0",
      "_view_name": "LayoutView",
      "align_content": null,
      "align_items": null,
      "align_self": null,
      "border": null,
      "bottom": null,
      "display": null,
      "flex": null,
      "flex_flow": null,
      "grid_area": null,
      "grid_auto_columns": null,
      "grid_auto_flow": null,
      "grid_auto_rows": null,
      "grid_column": null,
      "grid_gap": null,
      "grid_row": null,
      "grid_template_areas": null,
      "grid_template_columns": null,
      "grid_template_rows": null,
      "height": null,
      "justify_content": null,
      "justify_items": null,
      "left": null,
      "margin": null,
      "max_height": null,
      "max_width": null,
      "min_height": null,
      "min_width": null,
      "object_fit": null,
      "object_position": null,
      "order": null,
      "overflow": null,
      "overflow_x": null,
      "overflow_y": null,
      "padding": null,
      "right": null,
      "top": null,
      "visibility": null,
      "width": null
     }
    },
    "cbaf2e69f0cd421a976ccf1aa1c9459c": {
     "model_module": "@jupyter-widgets/controls",
     "model_name": "ProgressStyleModel",
     "model_module_version": "1.5.0",
     "state": {
      "_model_module": "@jupyter-widgets/controls",
      "_model_module_version": "1.5.0",
      "_model_name": "ProgressStyleModel",
      "_view_count": null,
      "_view_module": "@jupyter-widgets/base",
      "_view_module_version": "1.2.0",
      "_view_name": "StyleView",
      "bar_color": null,
      "description_width": ""
     }
    },
    "cd90408da81447638f8918bc3bebc804": {
     "model_module": "@jupyter-widgets/base",
     "model_name": "LayoutModel",
     "model_module_version": "1.2.0",
     "state": {
      "_model_module": "@jupyter-widgets/base",
      "_model_module_version": "1.2.0",
      "_model_name": "LayoutModel",
      "_view_count": null,
      "_view_module": "@jupyter-widgets/base",
      "_view_module_version": "1.2.0",
      "_view_name": "LayoutView",
      "align_content": null,
      "align_items": null,
      "align_self": null,
      "border": null,
      "bottom": null,
      "display": null,
      "flex": null,
      "flex_flow": null,
      "grid_area": null,
      "grid_auto_columns": null,
      "grid_auto_flow": null,
      "grid_auto_rows": null,
      "grid_column": null,
      "grid_gap": null,
      "grid_row": null,
      "grid_template_areas": null,
      "grid_template_columns": null,
      "grid_template_rows": null,
      "height": null,
      "justify_content": null,
      "justify_items": null,
      "left": null,
      "margin": null,
      "max_height": null,
      "max_width": null,
      "min_height": null,
      "min_width": null,
      "object_fit": null,
      "object_position": null,
      "order": null,
      "overflow": null,
      "overflow_x": null,
      "overflow_y": null,
      "padding": null,
      "right": null,
      "top": null,
      "visibility": null,
      "width": null
     }
    },
    "f5bdc8362a4b456f90c92fa55ae28753": {
     "model_module": "@jupyter-widgets/controls",
     "model_name": "DescriptionStyleModel",
     "model_module_version": "1.5.0",
     "state": {
      "_model_module": "@jupyter-widgets/controls",
      "_model_module_version": "1.5.0",
      "_model_name": "DescriptionStyleModel",
      "_view_count": null,
      "_view_module": "@jupyter-widgets/base",
      "_view_module_version": "1.2.0",
      "_view_name": "StyleView",
      "description_width": ""
     }
    },
    "ea69fab4501b4313bd9b8415dc4fd8a6": {
     "model_module": "@jupyter-widgets/controls",
     "model_name": "HBoxModel",
     "model_module_version": "1.5.0",
     "state": {
      "_dom_classes": [],
      "_model_module": "@jupyter-widgets/controls",
      "_model_module_version": "1.5.0",
      "_model_name": "HBoxModel",
      "_view_count": null,
      "_view_module": "@jupyter-widgets/controls",
      "_view_module_version": "1.5.0",
      "_view_name": "HBoxView",
      "box_style": "",
      "children": [
       "IPY_MODEL_6d79952003e14cb1aac94f1f8198d26a",
       "IPY_MODEL_bbe547a8b22646da8c2456b27cd449c2",
       "IPY_MODEL_468778dc60574a79bc20e6f4e0a5c691"
      ],
      "layout": "IPY_MODEL_59e0926e2a014bd4bdc35d353cc16733"
     }
    },
    "6d79952003e14cb1aac94f1f8198d26a": {
     "model_module": "@jupyter-widgets/controls",
     "model_name": "HTMLModel",
     "model_module_version": "1.5.0",
     "state": {
      "_dom_classes": [],
      "_model_module": "@jupyter-widgets/controls",
      "_model_module_version": "1.5.0",
      "_model_name": "HTMLModel",
      "_view_count": null,
      "_view_module": "@jupyter-widgets/controls",
      "_view_module_version": "1.5.0",
      "_view_name": "HTMLView",
      "description": "",
      "description_tooltip": null,
      "layout": "IPY_MODEL_10498743125049a1bc68b41d5bd3956d",
      "placeholder": "​",
      "style": "IPY_MODEL_639066162d5d4830a657ca0e9ac86429",
      "value": "(Eval):  73%"
     }
    },
    "bbe547a8b22646da8c2456b27cd449c2": {
     "model_module": "@jupyter-widgets/controls",
     "model_name": "FloatProgressModel",
     "model_module_version": "1.5.0",
     "state": {
      "_dom_classes": [],
      "_model_module": "@jupyter-widgets/controls",
      "_model_module_version": "1.5.0",
      "_model_name": "FloatProgressModel",
      "_view_count": null,
      "_view_module": "@jupyter-widgets/controls",
      "_view_module_version": "1.5.0",
      "_view_name": "ProgressView",
      "bar_style": "",
      "description": "",
      "description_tooltip": null,
      "layout": "IPY_MODEL_c8e244cdd12a4a76a813190f021e138d",
      "max": 15,
      "min": 0,
      "orientation": "horizontal",
      "style": "IPY_MODEL_f3a0cd1e54164bb8a7b751cae52a0764",
      "value": 15
     }
    },
    "468778dc60574a79bc20e6f4e0a5c691": {
     "model_module": "@jupyter-widgets/controls",
     "model_name": "HTMLModel",
     "model_module_version": "1.5.0",
     "state": {
      "_dom_classes": [],
      "_model_module": "@jupyter-widgets/controls",
      "_model_module_version": "1.5.0",
      "_model_name": "HTMLModel",
      "_view_count": null,
      "_view_module": "@jupyter-widgets/controls",
      "_view_module_version": "1.5.0",
      "_view_name": "HTMLView",
      "description": "",
      "description_tooltip": null,
      "layout": "IPY_MODEL_ef65224510e6492cb8b8555e582365e6",
      "placeholder": "​",
      "style": "IPY_MODEL_eb17c72c89f14e3f88c60c5c90f67eb9",
      "value": " 11/15 [00:00&lt;00:00, 51.89it/s, kd_div=0.853, rec_loss=0.342, total_loss=1.3]"
     }
    },
    "59e0926e2a014bd4bdc35d353cc16733": {
     "model_module": "@jupyter-widgets/base",
     "model_name": "LayoutModel",
     "model_module_version": "1.2.0",
     "state": {
      "_model_module": "@jupyter-widgets/base",
      "_model_module_version": "1.2.0",
      "_model_name": "LayoutModel",
      "_view_count": null,
      "_view_module": "@jupyter-widgets/base",
      "_view_module_version": "1.2.0",
      "_view_name": "LayoutView",
      "align_content": null,
      "align_items": null,
      "align_self": null,
      "border": null,
      "bottom": null,
      "display": null,
      "flex": null,
      "flex_flow": null,
      "grid_area": null,
      "grid_auto_columns": null,
      "grid_auto_flow": null,
      "grid_auto_rows": null,
      "grid_column": null,
      "grid_gap": null,
      "grid_row": null,
      "grid_template_areas": null,
      "grid_template_columns": null,
      "grid_template_rows": null,
      "height": null,
      "justify_content": null,
      "justify_items": null,
      "left": null,
      "margin": null,
      "max_height": null,
      "max_width": null,
      "min_height": null,
      "min_width": null,
      "object_fit": null,
      "object_position": null,
      "order": null,
      "overflow": null,
      "overflow_x": null,
      "overflow_y": null,
      "padding": null,
      "right": null,
      "top": null,
      "visibility": "hidden",
      "width": null
     }
    },
    "10498743125049a1bc68b41d5bd3956d": {
     "model_module": "@jupyter-widgets/base",
     "model_name": "LayoutModel",
     "model_module_version": "1.2.0",
     "state": {
      "_model_module": "@jupyter-widgets/base",
      "_model_module_version": "1.2.0",
      "_model_name": "LayoutModel",
      "_view_count": null,
      "_view_module": "@jupyter-widgets/base",
      "_view_module_version": "1.2.0",
      "_view_name": "LayoutView",
      "align_content": null,
      "align_items": null,
      "align_self": null,
      "border": null,
      "bottom": null,
      "display": null,
      "flex": null,
      "flex_flow": null,
      "grid_area": null,
      "grid_auto_columns": null,
      "grid_auto_flow": null,
      "grid_auto_rows": null,
      "grid_column": null,
      "grid_gap": null,
      "grid_row": null,
      "grid_template_areas": null,
      "grid_template_columns": null,
      "grid_template_rows": null,
      "height": null,
      "justify_content": null,
      "justify_items": null,
      "left": null,
      "margin": null,
      "max_height": null,
      "max_width": null,
      "min_height": null,
      "min_width": null,
      "object_fit": null,
      "object_position": null,
      "order": null,
      "overflow": null,
      "overflow_x": null,
      "overflow_y": null,
      "padding": null,
      "right": null,
      "top": null,
      "visibility": null,
      "width": null
     }
    },
    "639066162d5d4830a657ca0e9ac86429": {
     "model_module": "@jupyter-widgets/controls",
     "model_name": "DescriptionStyleModel",
     "model_module_version": "1.5.0",
     "state": {
      "_model_module": "@jupyter-widgets/controls",
      "_model_module_version": "1.5.0",
      "_model_name": "DescriptionStyleModel",
      "_view_count": null,
      "_view_module": "@jupyter-widgets/base",
      "_view_module_version": "1.2.0",
      "_view_name": "StyleView",
      "description_width": ""
     }
    },
    "c8e244cdd12a4a76a813190f021e138d": {
     "model_module": "@jupyter-widgets/base",
     "model_name": "LayoutModel",
     "model_module_version": "1.2.0",
     "state": {
      "_model_module": "@jupyter-widgets/base",
      "_model_module_version": "1.2.0",
      "_model_name": "LayoutModel",
      "_view_count": null,
      "_view_module": "@jupyter-widgets/base",
      "_view_module_version": "1.2.0",
      "_view_name": "LayoutView",
      "align_content": null,
      "align_items": null,
      "align_self": null,
      "border": null,
      "bottom": null,
      "display": null,
      "flex": null,
      "flex_flow": null,
      "grid_area": null,
      "grid_auto_columns": null,
      "grid_auto_flow": null,
      "grid_auto_rows": null,
      "grid_column": null,
      "grid_gap": null,
      "grid_row": null,
      "grid_template_areas": null,
      "grid_template_columns": null,
      "grid_template_rows": null,
      "height": null,
      "justify_content": null,
      "justify_items": null,
      "left": null,
      "margin": null,
      "max_height": null,
      "max_width": null,
      "min_height": null,
      "min_width": null,
      "object_fit": null,
      "object_position": null,
      "order": null,
      "overflow": null,
      "overflow_x": null,
      "overflow_y": null,
      "padding": null,
      "right": null,
      "top": null,
      "visibility": null,
      "width": null
     }
    },
    "f3a0cd1e54164bb8a7b751cae52a0764": {
     "model_module": "@jupyter-widgets/controls",
     "model_name": "ProgressStyleModel",
     "model_module_version": "1.5.0",
     "state": {
      "_model_module": "@jupyter-widgets/controls",
      "_model_module_version": "1.5.0",
      "_model_name": "ProgressStyleModel",
      "_view_count": null,
      "_view_module": "@jupyter-widgets/base",
      "_view_module_version": "1.2.0",
      "_view_name": "StyleView",
      "bar_color": null,
      "description_width": ""
     }
    },
    "ef65224510e6492cb8b8555e582365e6": {
     "model_module": "@jupyter-widgets/base",
     "model_name": "LayoutModel",
     "model_module_version": "1.2.0",
     "state": {
      "_model_module": "@jupyter-widgets/base",
      "_model_module_version": "1.2.0",
      "_model_name": "LayoutModel",
      "_view_count": null,
      "_view_module": "@jupyter-widgets/base",
      "_view_module_version": "1.2.0",
      "_view_name": "LayoutView",
      "align_content": null,
      "align_items": null,
      "align_self": null,
      "border": null,
      "bottom": null,
      "display": null,
      "flex": null,
      "flex_flow": null,
      "grid_area": null,
      "grid_auto_columns": null,
      "grid_auto_flow": null,
      "grid_auto_rows": null,
      "grid_column": null,
      "grid_gap": null,
      "grid_row": null,
      "grid_template_areas": null,
      "grid_template_columns": null,
      "grid_template_rows": null,
      "height": null,
      "justify_content": null,
      "justify_items": null,
      "left": null,
      "margin": null,
      "max_height": null,
      "max_width": null,
      "min_height": null,
      "min_width": null,
      "object_fit": null,
      "object_position": null,
      "order": null,
      "overflow": null,
      "overflow_x": null,
      "overflow_y": null,
      "padding": null,
      "right": null,
      "top": null,
      "visibility": null,
      "width": null
     }
    },
    "eb17c72c89f14e3f88c60c5c90f67eb9": {
     "model_module": "@jupyter-widgets/controls",
     "model_name": "DescriptionStyleModel",
     "model_module_version": "1.5.0",
     "state": {
      "_model_module": "@jupyter-widgets/controls",
      "_model_module_version": "1.5.0",
      "_model_name": "DescriptionStyleModel",
      "_view_count": null,
      "_view_module": "@jupyter-widgets/base",
      "_view_module_version": "1.2.0",
      "_view_name": "StyleView",
      "description_width": ""
     }
    },
    "a3e7735b6bad476783905c5e8a679da2": {
     "model_module": "@jupyter-widgets/controls",
     "model_name": "HBoxModel",
     "model_module_version": "1.5.0",
     "state": {
      "_dom_classes": [],
      "_model_module": "@jupyter-widgets/controls",
      "_model_module_version": "1.5.0",
      "_model_name": "HBoxModel",
      "_view_count": null,
      "_view_module": "@jupyter-widgets/controls",
      "_view_module_version": "1.5.0",
      "_view_name": "HBoxView",
      "box_style": "",
      "children": [
       "IPY_MODEL_156cd6c1e4fe45989543a24b74fd2032",
       "IPY_MODEL_d07949d0624b4a35b5cf7e2aaddcfbc4",
       "IPY_MODEL_a92e7297a6ea4713991e524a04056152"
      ],
      "layout": "IPY_MODEL_dcd4e816be494e048901c2f847ef39f8"
     }
    },
    "156cd6c1e4fe45989543a24b74fd2032": {
     "model_module": "@jupyter-widgets/controls",
     "model_name": "HTMLModel",
     "model_module_version": "1.5.0",
     "state": {
      "_dom_classes": [],
      "_model_module": "@jupyter-widgets/controls",
      "_model_module_version": "1.5.0",
      "_model_name": "HTMLModel",
      "_view_count": null,
      "_view_module": "@jupyter-widgets/controls",
      "_view_module_version": "1.5.0",
      "_view_name": "HTMLView",
      "description": "",
      "description_tooltip": null,
      "layout": "IPY_MODEL_39f6a5fc237142fe9ffe9c7cbf00db68",
      "placeholder": "​",
      "style": "IPY_MODEL_80742e0ada71450db0539ab3de586201",
      "value": "(Eval):  67%"
     }
    },
    "d07949d0624b4a35b5cf7e2aaddcfbc4": {
     "model_module": "@jupyter-widgets/controls",
     "model_name": "FloatProgressModel",
     "model_module_version": "1.5.0",
     "state": {
      "_dom_classes": [],
      "_model_module": "@jupyter-widgets/controls",
      "_model_module_version": "1.5.0",
      "_model_name": "FloatProgressModel",
      "_view_count": null,
      "_view_module": "@jupyter-widgets/controls",
      "_view_module_version": "1.5.0",
      "_view_name": "ProgressView",
      "bar_style": "",
      "description": "",
      "description_tooltip": null,
      "layout": "IPY_MODEL_7229fdc495ca4433bfe8d78ebdcaec26",
      "max": 15,
      "min": 0,
      "orientation": "horizontal",
      "style": "IPY_MODEL_ccf6636e292d4c769a5c8608bd1b101d",
      "value": 15
     }
    },
    "a92e7297a6ea4713991e524a04056152": {
     "model_module": "@jupyter-widgets/controls",
     "model_name": "HTMLModel",
     "model_module_version": "1.5.0",
     "state": {
      "_dom_classes": [],
      "_model_module": "@jupyter-widgets/controls",
      "_model_module_version": "1.5.0",
      "_model_name": "HTMLModel",
      "_view_count": null,
      "_view_module": "@jupyter-widgets/controls",
      "_view_module_version": "1.5.0",
      "_view_name": "HTMLView",
      "description": "",
      "description_tooltip": null,
      "layout": "IPY_MODEL_db9a4892a7ca487185a5e1b3fecc6091",
      "placeholder": "​",
      "style": "IPY_MODEL_1f8e684926e3465e895ea0bb5e251fd0",
      "value": " 10/15 [00:00&lt;00:00, 49.18it/s, kd_div=0.0064, rec_loss=0.979, total_loss=0.303]"
     }
    },
    "dcd4e816be494e048901c2f847ef39f8": {
     "model_module": "@jupyter-widgets/base",
     "model_name": "LayoutModel",
     "model_module_version": "1.2.0",
     "state": {
      "_model_module": "@jupyter-widgets/base",
      "_model_module_version": "1.2.0",
      "_model_name": "LayoutModel",
      "_view_count": null,
      "_view_module": "@jupyter-widgets/base",
      "_view_module_version": "1.2.0",
      "_view_name": "LayoutView",
      "align_content": null,
      "align_items": null,
      "align_self": null,
      "border": null,
      "bottom": null,
      "display": null,
      "flex": null,
      "flex_flow": null,
      "grid_area": null,
      "grid_auto_columns": null,
      "grid_auto_flow": null,
      "grid_auto_rows": null,
      "grid_column": null,
      "grid_gap": null,
      "grid_row": null,
      "grid_template_areas": null,
      "grid_template_columns": null,
      "grid_template_rows": null,
      "height": null,
      "justify_content": null,
      "justify_items": null,
      "left": null,
      "margin": null,
      "max_height": null,
      "max_width": null,
      "min_height": null,
      "min_width": null,
      "object_fit": null,
      "object_position": null,
      "order": null,
      "overflow": null,
      "overflow_x": null,
      "overflow_y": null,
      "padding": null,
      "right": null,
      "top": null,
      "visibility": "hidden",
      "width": null
     }
    },
    "39f6a5fc237142fe9ffe9c7cbf00db68": {
     "model_module": "@jupyter-widgets/base",
     "model_name": "LayoutModel",
     "model_module_version": "1.2.0",
     "state": {
      "_model_module": "@jupyter-widgets/base",
      "_model_module_version": "1.2.0",
      "_model_name": "LayoutModel",
      "_view_count": null,
      "_view_module": "@jupyter-widgets/base",
      "_view_module_version": "1.2.0",
      "_view_name": "LayoutView",
      "align_content": null,
      "align_items": null,
      "align_self": null,
      "border": null,
      "bottom": null,
      "display": null,
      "flex": null,
      "flex_flow": null,
      "grid_area": null,
      "grid_auto_columns": null,
      "grid_auto_flow": null,
      "grid_auto_rows": null,
      "grid_column": null,
      "grid_gap": null,
      "grid_row": null,
      "grid_template_areas": null,
      "grid_template_columns": null,
      "grid_template_rows": null,
      "height": null,
      "justify_content": null,
      "justify_items": null,
      "left": null,
      "margin": null,
      "max_height": null,
      "max_width": null,
      "min_height": null,
      "min_width": null,
      "object_fit": null,
      "object_position": null,
      "order": null,
      "overflow": null,
      "overflow_x": null,
      "overflow_y": null,
      "padding": null,
      "right": null,
      "top": null,
      "visibility": null,
      "width": null
     }
    },
    "80742e0ada71450db0539ab3de586201": {
     "model_module": "@jupyter-widgets/controls",
     "model_name": "DescriptionStyleModel",
     "model_module_version": "1.5.0",
     "state": {
      "_model_module": "@jupyter-widgets/controls",
      "_model_module_version": "1.5.0",
      "_model_name": "DescriptionStyleModel",
      "_view_count": null,
      "_view_module": "@jupyter-widgets/base",
      "_view_module_version": "1.2.0",
      "_view_name": "StyleView",
      "description_width": ""
     }
    },
    "7229fdc495ca4433bfe8d78ebdcaec26": {
     "model_module": "@jupyter-widgets/base",
     "model_name": "LayoutModel",
     "model_module_version": "1.2.0",
     "state": {
      "_model_module": "@jupyter-widgets/base",
      "_model_module_version": "1.2.0",
      "_model_name": "LayoutModel",
      "_view_count": null,
      "_view_module": "@jupyter-widgets/base",
      "_view_module_version": "1.2.0",
      "_view_name": "LayoutView",
      "align_content": null,
      "align_items": null,
      "align_self": null,
      "border": null,
      "bottom": null,
      "display": null,
      "flex": null,
      "flex_flow": null,
      "grid_area": null,
      "grid_auto_columns": null,
      "grid_auto_flow": null,
      "grid_auto_rows": null,
      "grid_column": null,
      "grid_gap": null,
      "grid_row": null,
      "grid_template_areas": null,
      "grid_template_columns": null,
      "grid_template_rows": null,
      "height": null,
      "justify_content": null,
      "justify_items": null,
      "left": null,
      "margin": null,
      "max_height": null,
      "max_width": null,
      "min_height": null,
      "min_width": null,
      "object_fit": null,
      "object_position": null,
      "order": null,
      "overflow": null,
      "overflow_x": null,
      "overflow_y": null,
      "padding": null,
      "right": null,
      "top": null,
      "visibility": null,
      "width": null
     }
    },
    "ccf6636e292d4c769a5c8608bd1b101d": {
     "model_module": "@jupyter-widgets/controls",
     "model_name": "ProgressStyleModel",
     "model_module_version": "1.5.0",
     "state": {
      "_model_module": "@jupyter-widgets/controls",
      "_model_module_version": "1.5.0",
      "_model_name": "ProgressStyleModel",
      "_view_count": null,
      "_view_module": "@jupyter-widgets/base",
      "_view_module_version": "1.2.0",
      "_view_name": "StyleView",
      "bar_color": null,
      "description_width": ""
     }
    },
    "db9a4892a7ca487185a5e1b3fecc6091": {
     "model_module": "@jupyter-widgets/base",
     "model_name": "LayoutModel",
     "model_module_version": "1.2.0",
     "state": {
      "_model_module": "@jupyter-widgets/base",
      "_model_module_version": "1.2.0",
      "_model_name": "LayoutModel",
      "_view_count": null,
      "_view_module": "@jupyter-widgets/base",
      "_view_module_version": "1.2.0",
      "_view_name": "LayoutView",
      "align_content": null,
      "align_items": null,
      "align_self": null,
      "border": null,
      "bottom": null,
      "display": null,
      "flex": null,
      "flex_flow": null,
      "grid_area": null,
      "grid_auto_columns": null,
      "grid_auto_flow": null,
      "grid_auto_rows": null,
      "grid_column": null,
      "grid_gap": null,
      "grid_row": null,
      "grid_template_areas": null,
      "grid_template_columns": null,
      "grid_template_rows": null,
      "height": null,
      "justify_content": null,
      "justify_items": null,
      "left": null,
      "margin": null,
      "max_height": null,
      "max_width": null,
      "min_height": null,
      "min_width": null,
      "object_fit": null,
      "object_position": null,
      "order": null,
      "overflow": null,
      "overflow_x": null,
      "overflow_y": null,
      "padding": null,
      "right": null,
      "top": null,
      "visibility": null,
      "width": null
     }
    },
    "1f8e684926e3465e895ea0bb5e251fd0": {
     "model_module": "@jupyter-widgets/controls",
     "model_name": "DescriptionStyleModel",
     "model_module_version": "1.5.0",
     "state": {
      "_model_module": "@jupyter-widgets/controls",
      "_model_module_version": "1.5.0",
      "_model_name": "DescriptionStyleModel",
      "_view_count": null,
      "_view_module": "@jupyter-widgets/base",
      "_view_module_version": "1.2.0",
      "_view_name": "StyleView",
      "description_width": ""
     }
    }
   }
  }
 },
 "nbformat_minor": 0,
 "nbformat": 4,
 "cells": [
  {
   "cell_type": "markdown",
   "source": [
    "# Prepare notebook"
   ],
   "metadata": {
    "id": "Mxwl9TU9wE7S"
   }
  },
  {
   "cell_type": "code",
   "source": [
    "!pip install gdown -q"
   ],
   "metadata": {
    "id": "YG4olhzry8N8"
   },
   "execution_count": 1,
   "outputs": []
  },
  {
   "cell_type": "code",
   "source": [
    "!gdown 18KIvMBWD031oDvg0DVebI06SMwKuTp4l -O sh3_sc6_y32_x32_imgs.npz"
   ],
   "metadata": {
    "colab": {
     "base_uri": "https://localhost:8080/"
    },
    "id": "dkvUlqPGzLKD",
    "outputId": "eeba46c9-c9e8-4322-fb83-712535d07d06"
   },
   "execution_count": 2,
   "outputs": [
    {
     "output_type": "stream",
     "name": "stdout",
     "text": [
      "Downloading...\n",
      "From (original): https://drive.google.com/uc?id=18KIvMBWD031oDvg0DVebI06SMwKuTp4l\n",
      "From (redirected): https://drive.google.com/uc?id=18KIvMBWD031oDvg0DVebI06SMwKuTp4l&confirm=t&uuid=914b602e-0fc3-46e8-bd8e-6808968fb550\n",
      "To: /content/sh3_sc6_y32_x32_imgs.npz\n",
      "100% 75.5M/75.5M [00:00<00:00, 122MB/s]\n"
     ]
    }
   ]
  },
  {
   "cell_type": "code",
   "source": [
    "!pip install -q pytorch_fid"
   ],
   "metadata": {
    "id": "Yy-cn-BWuUEz"
   },
   "execution_count": 4,
   "outputs": []
  },
  {
   "cell_type": "code",
   "source": [
    "import numpy as np\n",
    "import matplotlib.pyplot as plt\n",
    "import os\n",
    "from tqdm.auto import tqdm\n",
    "\n",
    "import torch\n",
    "from torch import nn, optim\n",
    "import torch.nn.functional as F\n",
    "from torch.utils.data import Dataset, DataLoader, random_split\n",
    "from torchvision import transforms\n",
    "\n",
    "from pytorch_fid import fid_score\n",
    "\n",
    "import gc"
   ],
   "metadata": {
    "execution": {
     "iopub.status.busy": "2024-01-11T23:23:18.657066Z",
     "iopub.execute_input": "2024-01-11T23:23:18.657572Z",
     "iopub.status.idle": "2024-01-11T23:23:18.664566Z",
     "shell.execute_reply.started": "2024-01-11T23:23:18.657536Z",
     "shell.execute_reply": "2024-01-11T23:23:18.663412Z"
    },
    "trusted": true,
    "id": "FZnWD3NiwE7U"
   },
   "execution_count": 5,
   "outputs": []
  },
  {
   "cell_type": "code",
   "source": [
    "DEVICE = torch.device(\"cuda\" if torch.cuda.is_available() else \"cpu\")\n",
    "print(DEVICE)"
   ],
   "metadata": {
    "execution": {
     "iopub.status.busy": "2024-01-11T23:23:18.669822Z",
     "iopub.execute_input": "2024-01-11T23:23:18.670807Z",
     "iopub.status.idle": "2024-01-11T23:23:18.676618Z",
     "shell.execute_reply.started": "2024-01-11T23:23:18.670773Z",
     "shell.execute_reply": "2024-01-11T23:23:18.675521Z"
    },
    "trusted": true,
    "colab": {
     "base_uri": "https://localhost:8080/"
    },
    "id": "oI1oTzCIwE7V",
    "outputId": "0fb370b0-7653-4c9f-d95f-c4374e0f33ef"
   },
   "execution_count": 6,
   "outputs": [
    {
     "output_type": "stream",
     "name": "stdout",
     "text": [
      "cuda\n"
     ]
    }
   ]
  },
  {
   "cell_type": "markdown",
   "source": [
    "### Constants"
   ],
   "metadata": {
    "id": "u9fxAil5wE7V"
   }
  },
  {
   "cell_type": "code",
   "source": [
    "DATA_PATH = './sh3_sc6_y32_x32_imgs.npz'\n",
    "TRAIN_RATIO = 0.9\n",
    "\n",
    "LATENT_DIM = 256\n",
    "Z_DIM = 10\n",
    "\n",
    "BETA_1 = 0.9\n",
    "BETA_2 = 0.99\n",
    "LEARNING_RATE = 1e-3\n",
    "\n",
    "BATCH_SIZE = 128\n",
    "TRAIN_EPOCHS = 30\n",
    "\n",
    "W_KL = 1\n",
    "W_SCALE = 100"
   ],
   "metadata": {
    "execution": {
     "iopub.status.busy": "2024-01-11T23:23:18.678534Z",
     "iopub.execute_input": "2024-01-11T23:23:18.678899Z",
     "iopub.status.idle": "2024-01-11T23:23:18.685494Z",
     "shell.execute_reply.started": "2024-01-11T23:23:18.678860Z",
     "shell.execute_reply": "2024-01-11T23:23:18.684529Z"
    },
    "trusted": true,
    "id": "qnitLHLfwE7W"
   },
   "execution_count": 27,
   "outputs": []
  },
  {
   "cell_type": "markdown",
   "source": [
    "## Data"
   ],
   "metadata": {
    "id": "bcRk_ixHwE7W"
   }
  },
  {
   "cell_type": "code",
   "source": [
    "class DspritesDataset(Dataset):\n",
    "\n",
    "    def __init__(self, npz_path, transform=None):\n",
    "        data = np.load(npz_path, allow_pickle=True, encoding='latin1')\n",
    "        self.transform = transform\n",
    "        self.images = data['imgs']\n",
    "\n",
    "        if self.transform is None:\n",
    "          self.transform = transforms.ToTensor()\n",
    "\n",
    "    def __len__(self):\n",
    "        return len(self.images)\n",
    "\n",
    "    def __getitem__(self, idx):\n",
    "        image = self.images[idx]\n",
    "        image = self.transform(image)\n",
    "        return image\n"
   ],
   "metadata": {
    "execution": {
     "iopub.status.busy": "2024-01-11T23:23:18.692200Z",
     "iopub.execute_input": "2024-01-11T23:23:18.692586Z",
     "iopub.status.idle": "2024-01-11T23:23:18.700971Z",
     "shell.execute_reply.started": "2024-01-11T23:23:18.692549Z",
     "shell.execute_reply": "2024-01-11T23:23:18.699780Z"
    },
    "trusted": true,
    "id": "avTmNmdgwE7W"
   },
   "execution_count": 8,
   "outputs": []
  },
  {
   "cell_type": "code",
   "source": [
    "raw_dataset = DspritesDataset(DATA_PATH)\n",
    "print(len(raw_dataset))"
   ],
   "metadata": {
    "execution": {
     "iopub.status.busy": "2024-01-11T23:23:18.702771Z",
     "iopub.execute_input": "2024-01-11T23:23:18.703061Z",
     "iopub.status.idle": "2024-01-11T23:23:18.824131Z",
     "shell.execute_reply.started": "2024-01-11T23:23:18.703034Z",
     "shell.execute_reply": "2024-01-11T23:23:18.822892Z"
    },
    "trusted": true,
    "colab": {
     "base_uri": "https://localhost:8080/"
    },
    "id": "vfc2AMjtwE7W",
    "outputId": "9caca9dc-2732-4948-e067-9327989f4aed"
   },
   "execution_count": 9,
   "outputs": [
    {
     "output_type": "stream",
     "name": "stdout",
     "text": [
      "18432\n"
     ]
    }
   ]
  },
  {
   "cell_type": "code",
   "source": [
    "train_size = int(TRAIN_RATIO * len(raw_dataset))\n",
    "test_size = len(raw_dataset) - train_size\n",
    "lengths = [train_size, test_size]\n",
    "\n",
    "train_dataset, test_dataset = random_split(raw_dataset, lengths)"
   ],
   "metadata": {
    "execution": {
     "iopub.status.busy": "2024-01-11T23:23:18.826083Z",
     "iopub.execute_input": "2024-01-11T23:23:18.826486Z",
     "iopub.status.idle": "2024-01-11T23:23:18.833483Z",
     "shell.execute_reply.started": "2024-01-11T23:23:18.826455Z",
     "shell.execute_reply": "2024-01-11T23:23:18.832196Z"
    },
    "trusted": true,
    "id": "pB1DlUicwE7W"
   },
   "execution_count": 10,
   "outputs": []
  },
  {
   "cell_type": "code",
   "source": [
    "print(f'Train size: {len(train_dataset)}')\n",
    "print(f'Test size: {len(test_dataset)}')"
   ],
   "metadata": {
    "execution": {
     "iopub.status.busy": "2024-01-11T23:23:18.834686Z",
     "iopub.execute_input": "2024-01-11T23:23:18.835046Z",
     "iopub.status.idle": "2024-01-11T23:23:18.844343Z",
     "shell.execute_reply.started": "2024-01-11T23:23:18.835004Z",
     "shell.execute_reply": "2024-01-11T23:23:18.843227Z"
    },
    "trusted": true,
    "colab": {
     "base_uri": "https://localhost:8080/"
    },
    "id": "ZClb7YtawE7W",
    "outputId": "af8cb7a9-fa98-4206-96ba-25217be49535"
   },
   "execution_count": 11,
   "outputs": [
    {
     "output_type": "stream",
     "name": "stdout",
     "text": [
      "Train size: 16588\n",
      "Test size: 1844\n"
     ]
    }
   ]
  },
  {
   "cell_type": "code",
   "source": [
    "import random\n",
    "\n",
    "plt.figure(figsize=(10, 10))\n",
    "for i in range(25):\n",
    "    plt.subplot(5, 5, i+1)\n",
    "    idx = random.randint(0, len(train_dataset)-1)\n",
    "    plt.imshow(train_dataset[idx].squeeze(), cmap='gray')\n",
    "    plt.axis('off')"
   ],
   "metadata": {
    "execution": {
     "iopub.status.busy": "2024-01-11T23:23:18.846981Z",
     "iopub.execute_input": "2024-01-11T23:23:18.847401Z",
     "iopub.status.idle": "2024-01-11T23:23:19.965315Z",
     "shell.execute_reply.started": "2024-01-11T23:23:18.847371Z",
     "shell.execute_reply": "2024-01-11T23:23:19.964302Z"
    },
    "trusted": true,
    "colab": {
     "base_uri": "https://localhost:8080/",
     "height": 807
    },
    "id": "OPVQLBWOwE7X",
    "outputId": "9111fb2e-f82f-405e-f312-73986fb4496c"
   },
   "execution_count": 12,
   "outputs": [
    {
     "output_type": "display_data",
     "data": {
      "text/plain": [
       "<Figure size 1000x1000 with 25 Axes>"
      ],
      "image/png": "[encoded data removed]"
     },
     "metadata": {}
    }
   ]
  },
  {
   "cell_type": "markdown",
   "source": [
    "## VariationalAutoEncoder Model"
   ],
   "metadata": {
    "id": "oNHaKh1dwE7X"
   }
  },
  {
   "cell_type": "code",
   "source": [
    "class VAE(nn.Module):\n",
    "    def __init__(self, latent_dim, z_dim):\n",
    "        super(VAE, self).__init__()\n",
    "        self.latent_dim = latent_dim\n",
    "        self.encoder = nn.Sequential(\n",
    "            nn.Conv2d(in_channels=1, out_channels=32, kernel_size=4, stride=2, padding=1),\n",
    "            nn.ReLU(),\n",
    "            nn.Conv2d(in_channels=32, out_channels=32, kernel_size=4, stride=2, padding=1),\n",
    "            nn.ReLU(),\n",
    "            nn.Conv2d(in_channels=32, out_channels=64, kernel_size=4, stride=2, padding=1),\n",
    "            nn.ReLU(),\n",
    "            nn.Conv2d(in_channels=64, out_channels=64, kernel_size=4, stride=2, padding=1),\n",
    "            nn.ReLU(),\n",
    "            nn.Conv2d(in_channels=64, out_channels=latent_dim, kernel_size=4, stride=1),\n",
    "            nn.ReLU(),\n",
    "        )\n",
    "        self.fc_encoder = nn.Linear(latent_dim, latent_dim)\n",
    "        self.fc_mu = nn.Linear(latent_dim, z_dim)\n",
    "        self.fc_sigma = nn.Linear(latent_dim, z_dim)\n",
    "\n",
    "        self.decoder = nn.Sequential(\n",
    "            nn.ConvTranspose2d(in_channels=latent_dim, out_channels=64, kernel_size=4),\n",
    "            nn.ReLU(),\n",
    "            nn.ConvTranspose2d(in_channels=64, out_channels=64, kernel_size=4, stride=2, padding=1),\n",
    "            nn.ReLU(),\n",
    "            nn.ConvTranspose2d(in_channels=64, out_channels=32, kernel_size=4, stride=2, padding=1),\n",
    "            nn.ReLU(),\n",
    "            nn.ConvTranspose2d(in_channels=32, out_channels=32, kernel_size=4, stride=2, padding=1),\n",
    "            nn.ReLU(),\n",
    "            nn.ConvTranspose2d(in_channels=32, out_channels=1, kernel_size=4, stride=2, padding=1),\n",
    "        )\n",
    "        self.fc_decoder = nn.Linear(z_dim, latent_dim)\n",
    "\n",
    "    def reparameterize(self, mu, sigma):\n",
    "        std = torch.exp(sigma / 2.)\n",
    "        eps = torch.randn_like(mu).to(mu.get_device())\n",
    "        return mu + std * eps\n",
    "\n",
    "    def encode(self, x):\n",
    "        h = self.encoder(x)\n",
    "        h = h.view(-1, self.latent_dim)\n",
    "        h = self.fc_encoder(h)\n",
    "        mu = self.fc_mu(h)\n",
    "        sigma = self.fc_sigma(h)\n",
    "        return h, mu, sigma\n",
    "\n",
    "    def decode(self, z):\n",
    "        h = self.fc_decoder(z)\n",
    "        h = h.view(-1, 256, 1, 1)\n",
    "        x = self.decoder(h)\n",
    "        x = F.sigmoid(x)\n",
    "        return x\n",
    "\n",
    "    def forward(self, x):\n",
    "        _, mu, sigma = self.encode(x)\n",
    "        z = self.reparameterize(mu, sigma)\n",
    "        x = self.decode(z)\n",
    "        return x, mu, sigma\n"
   ],
   "metadata": {
    "execution": {
     "iopub.status.busy": "2024-01-11T23:23:19.976017Z",
     "iopub.execute_input": "2024-01-11T23:23:19.976448Z",
     "iopub.status.idle": "2024-01-11T23:23:19.994828Z",
     "shell.execute_reply.started": "2024-01-11T23:23:19.976410Z",
     "shell.execute_reply": "2024-01-11T23:23:19.993628Z"
    },
    "trusted": true,
    "id": "H99oljq-wE7X"
   },
   "execution_count": 24,
   "outputs": []
  },
  {
   "cell_type": "markdown",
   "source": [
    "## Train utils"
   ],
   "metadata": {
    "collapsed": false,
    "id": "zAgU9ShA64rW"
   }
  },
  {
   "cell_type": "code",
   "source": [
    "def kl_divergence(mu, sigma):\n",
    "    return W_SCALE * (-0.5 * (1 + sigma - mu.pow(2) - sigma.exp())).sum(dim=1).mean()"
   ],
   "metadata": {
    "execution": {
     "iopub.status.busy": "2024-01-11T23:23:19.996028Z",
     "iopub.execute_input": "2024-01-11T23:23:19.996415Z",
     "iopub.status.idle": "2024-01-11T23:23:20.008649Z",
     "shell.execute_reply.started": "2024-01-11T23:23:19.996386Z",
     "shell.execute_reply": "2024-01-11T23:23:20.007620Z"
    },
    "trusted": true,
    "id": "alOeG2zRwE7X"
   },
   "execution_count": 68,
   "outputs": []
  },
  {
   "cell_type": "code",
   "source": [
    "def reconstruction_loss(x, x_hat):\n",
    "    batch_size = x.size(0)\n",
    "    return W_SCALE * F.mse_loss(x_hat, x, reduction='sum')\n",
    "    # return W_SCALE * F.binary_cross_entropy_with_logits(x_hat, x, reduction='sum')"
   ],
   "metadata": {
    "execution": {
     "iopub.status.busy": "2024-01-11T23:23:20.010239Z",
     "iopub.execute_input": "2024-01-11T23:23:20.010737Z",
     "iopub.status.idle": "2024-01-11T23:23:20.017132Z",
     "shell.execute_reply.started": "2024-01-11T23:23:20.010692Z",
     "shell.execute_reply": "2024-01-11T23:23:20.015923Z"
    },
    "trusted": true,
    "id": "5kABAhHpwE7X"
   },
   "execution_count": 69,
   "outputs": []
  },
  {
   "cell_type": "code",
   "source": [
    "def vae_loss(x, x_hat, mu, sigma):\n",
    "    return  (reconstruction_loss(x, x_hat) + W_KL * kl_divergence(mu, sigma))"
   ],
   "metadata": {
    "execution": {
     "iopub.status.busy": "2024-01-11T23:23:20.018520Z",
     "iopub.execute_input": "2024-01-11T23:23:20.019063Z",
     "iopub.status.idle": "2024-01-11T23:23:20.025346Z",
     "shell.execute_reply.started": "2024-01-11T23:23:20.019023Z",
     "shell.execute_reply": "2024-01-11T23:23:20.024413Z"
    },
    "trusted": true,
    "id": "HXjmqkefwE7Y"
   },
   "execution_count": 70,
   "outputs": []
  },
  {
   "cell_type": "code",
   "execution_count": 17,
   "outputs": [],
   "source": [
    "@torch.no_grad()\n",
    "def model_eval(model, loader, criterion):\n",
    "  \"\"\"Returns total_loss, reconstruction loss, kld_loss\"\"\"\n",
    "  total_loss = 0.0\n",
    "  rec_loss = 0.0\n",
    "  kl_loss = 0.0\n",
    "  total_samples = 0\n",
    "\n",
    "  model.eval()\n",
    "  itr = tqdm(loader, total=len(loader), leave=False)\n",
    "\n",
    "  for batch in itr:\n",
    "      total_samples += len(batch)\n",
    "      batch = batch.to(DEVICE)\n",
    "\n",
    "      _x, _mu, _sigma = model(batch)\n",
    "      \n",
    "      kl = kl_divergence(_mu, _sigma).item()\n",
    "      kl_loss += kl\n",
    "      rec = reconstruction_loss(batch, _x).item()\n",
    "      rec_loss += rec\n",
    "      \n",
    "      loss = criterion(batch, _x, _mu, _sigma)\n",
    "      total_loss += loss.item()\n",
    "\n",
    "\n",
    "      itr.set_description(\"(Eval)\")\n",
    "      itr.set_postfix(\n",
    "          total_loss=round(total_loss/total_samples, 4),\n",
    "          kd_div=round(kl_loss/total_samples, 4),\n",
    "          rec_loss=round(rec_loss/total_loss, 4),\n",
    "      )\n",
    "\n",
    "  total_loss = total_loss / total_samples\n",
    "  rec_loss = rec_loss / total_samples\n",
    "  kl_loss = kl_loss / total_samples\n",
    "\n",
    "  return total_loss, rec_loss, kl_loss\n"
   ],
   "metadata": {
    "id": "Fl2PWJGB64ra"
   }
  },
  {
   "cell_type": "code",
   "execution_count": 18,
   "outputs": [],
   "source": [
    "def train_model(\n",
    "        model,\n",
    "        batch_size,\n",
    "        epochs,\n",
    "        criterion,\n",
    "        train_set,\n",
    "        test_set,\n",
    "        lr=2e-5,\n",
    "        use_PI=False, \n",
    "        pi_kw_args={},\n",
    "):\n",
    "    \n",
    "  global W_KL\n",
    "\n",
    "  train_total_losses = []\n",
    "  test_total_losses = []\n",
    "\n",
    "  train_kl_losses = []\n",
    "  test_kl_losses = []\n",
    "\n",
    "  train_rec_losses = []\n",
    "  test_rec_losses = []\n",
    "  \n",
    "  if use_PI:\n",
    "      assert 'des_kl' in pi_kw_args, \"des_kl is required for PI\"\n",
    "      assert 'kp' in pi_kw_args, \"kp is required for PI\"\n",
    "      assert 'ki' in pi_kw_args, \"ki is required for PI\"\n",
    "      PI = PIDControl()\n",
    "\n",
    "  train_loader = DataLoader(train_set, batch_size=batch_size, shuffle=True)\n",
    "  test_loader  = DataLoader(test_set, batch_size=batch_size, shuffle=False)\n",
    "\n",
    "  optimizer = optim.Adam(model.parameters(), lr=lr, betas=(BETA_1, BETA_2))\n",
    "\n",
    "  itr = tqdm(train_loader, total=len(train_loader), leave=False)\n",
    "\n",
    "  for epoch in range(epochs):\n",
    "      model.train()\n",
    "      epoch_total_loss = 0\n",
    "      epoch_kl_loss = 0\n",
    "      epoch_rec_loss = 0\n",
    "      epoch_samples = 0\n",
    "      for batch in itr:\n",
    "          epoch_samples += len(batch)\n",
    "          batch = batch.to(DEVICE)\n",
    "\n",
    "          _x, _mu, _sigma = model(batch)\n",
    "          \n",
    "          kl_loss = kl_divergence(_mu, _sigma)\n",
    "          rec_loss = reconstruction_loss(batch, _x)\n",
    "          \n",
    "          if use_PI:\n",
    "              wkl = PI.pid(kl_div=kl_loss, **pi_kw_args)[0]\n",
    "              W_KL = wkl\n",
    "          \n",
    "          loss = criterion(batch, _x, _mu, _sigma)\n",
    "          epoch_total_loss += loss.item()\n",
    "\n",
    "          optimizer.zero_grad()\n",
    "          loss.backward()\n",
    "          optimizer.step()\n",
    "\n",
    "          epoch_kl_loss += kl_loss.item()\n",
    "          epoch_rec_loss += rec_loss.item()\n",
    "\n",
    "          itr.set_description(f\"(Training) Epoch [{epoch + 1}/{epochs}]\")\n",
    "          itr.set_postfix(\n",
    "            loss=round(loss.item(), 5),\n",
    "          )\n",
    "\n",
    "      train_total_losses.append(epoch_total_loss/epoch_samples)\n",
    "      train_kl_losses.append(epoch_kl_loss/epoch_samples)\n",
    "      train_rec_losses.append(epoch_rec_loss/epoch_samples)\n",
    "\n",
    "\n",
    "      model.eval()\n",
    "      test_total_loss, test_rec_loss, test_kl_loss = model_eval(\n",
    "          model=model,\n",
    "          loader=test_loader,\n",
    "          criterion=criterion,\n",
    "      )\n",
    "      test_total_losses.append(test_total_loss)\n",
    "      test_kl_losses.append(test_kl_loss)\n",
    "      test_rec_losses.append(test_rec_loss)\n",
    "\n",
    "\n",
    "  history = {\n",
    "    \"Train_Total_Loss\": train_total_losses,\n",
    "    \"Train_Rec_Loss\": train_rec_losses,\n",
    "    \"Train_KL_Loss\": train_kl_losses,\n",
    "\n",
    "    \"Test_Total_Loss\": test_total_losses,\n",
    "    \"Test_Rec_Loss\": test_rec_losses,\n",
    "    \"Test_KL_Loss\": test_kl_losses,\n",
    "  }\n",
    "  return history"
   ],
   "metadata": {
    "id": "-OaPn3e864rb"
   }
  },
  {
   "cell_type": "code",
   "source": [
    "def plot_reconstructions(model, dataset, n=5):\n",
    "    test_dataloader = DataLoader(dataset, batch_size=BATCH_SIZE, shuffle=False)\n",
    "    model.eval()\n",
    "    with torch.no_grad():\n",
    "        batch = iter(test_dataloader).__next__().to(DEVICE)\n",
    "        x_hat, *_ = model(batch)\n",
    "\n",
    "    plt.figure(figsize=(4*n, 6))\n",
    "    for i in range(n):\n",
    "        plt.subplot(2, n, i+1)\n",
    "        plt.imshow(batch[i][0].detach().cpu(), cmap='gray')\n",
    "        plt.title(\"Original\")\n",
    "        plt.axis('off')\n",
    "        plt.subplot(2, n, i+1+n)\n",
    "        plt.imshow(x_hat[i][0].detach().cpu(), cmap='gray')\n",
    "        plt.title(\"Reconstructed\")\n",
    "        plt.axis('off')\n",
    "    plt.show()"
   ],
   "metadata": {
    "id": "58tgCBfr8j1W"
   },
   "execution_count": 19,
   "outputs": []
  },
  {
   "cell_type": "code",
   "source": [
    "def trend_plot_helper(pobj):\n",
    "    plt.figure(figsize=(8*len(pobj), 6))\n",
    "    for idx, (titler, plots) in enumerate(pobj.items(), start=1):\n",
    "        plt.subplot(1, len(pobj), idx)\n",
    "        for label, trend in plots:\n",
    "            plt.plot(range(1, len(trend)+1), trend, label=label)\n",
    "        yt, xt = titler.split(' - ')\n",
    "        plt.xlabel(xt)\n",
    "        plt.ylabel(yt)\n",
    "        plt.legend()"
   ],
   "metadata": {
    "execution": {
     "iopub.status.busy": "2024-01-11T23:23:20.029794Z",
     "iopub.execute_input": "2024-01-11T23:23:20.030279Z",
     "iopub.status.idle": "2024-01-11T23:23:20.044845Z",
     "shell.execute_reply.started": "2024-01-11T23:23:20.030248Z",
     "shell.execute_reply": "2024-01-11T23:23:20.043764Z"
    },
    "trusted": true,
    "id": "MDvPj-n3wE7Y"
   },
   "execution_count": 20,
   "outputs": []
  },
  {
   "cell_type": "markdown",
   "source": [
    "## Ordinary VAE"
   ],
   "metadata": {
    "collapsed": false,
    "id": "evQI-nkY64rd"
   }
  },
  {
   "cell_type": "code",
   "execution_count": 71,
   "outputs": [],
   "source": [
    "model_ovae = VAE(LATENT_DIM, Z_DIM).to(DEVICE)"
   ],
   "metadata": {
    "id": "78ofY_Sl64re"
   }
  },
  {
   "cell_type": "code",
   "execution_count": 72,
   "outputs": [
    {
     "output_type": "display_data",
     "data": {
      "text/plain": [
       "  0%|          | 0/130 [00:00<?, ?it/s]"
      ],
      "application/vnd.jupyter.widget-view+json": {
       "version_major": 2,
       "version_minor": 0,
       "model_id": "4ffd81d5d59b461e8cf2b4a3543d9977"
      }
     },
     "metadata": {}
    },
    {
     "output_type": "display_data",
     "data": {
      "text/plain": [
       "  0%|          | 0/15 [00:00<?, ?it/s]"
      ],
      "application/vnd.jupyter.widget-view+json": {
       "version_major": 2,
       "version_minor": 0,
       "model_id": "f545780a9db442c1829a22e1c4919075"
      }
     },
     "metadata": {}
    },
    {
     "output_type": "display_data",
     "data": {
      "text/plain": [
       "  0%|          | 0/15 [00:00<?, ?it/s]"
      ],
      "application/vnd.jupyter.widget-view+json": {
       "version_major": 2,
       "version_minor": 0,
       "model_id": "891c75431237496d83aff327a90e4f78"
      }
     },
     "metadata": {}
    },
    {
     "output_type": "display_data",
     "data": {
      "text/plain": [
       "  0%|          | 0/15 [00:00<?, ?it/s]"
      ],
      "application/vnd.jupyter.widget-view+json": {
       "version_major": 2,
       "version_minor": 0,
       "model_id": "4160e4a03aaa4561861a419d9d85efa3"
      }
     },
     "metadata": {}
    },
    {
     "output_type": "display_data",
     "data": {
      "text/plain": [
       "  0%|          | 0/15 [00:00<?, ?it/s]"
      ],
      "application/vnd.jupyter.widget-view+json": {
       "version_major": 2,
       "version_minor": 0,
       "model_id": "ea69fab4501b4313bd9b8415dc4fd8a6"
      }
     },
     "metadata": {}
    },
    {
     "output_type": "display_data",
     "data": {
      "text/plain": [
       "  0%|          | 0/15 [00:00<?, ?it/s]"
      ],
      "application/vnd.jupyter.widget-view+json": {
       "version_major": 2,
       "version_minor": 0,
       "model_id": "a3e7735b6bad476783905c5e8a679da2"
      }
     },
     "metadata": {}
    }
   ],
   "source": [
    "history = train_model(\n",
    "        model=model_ovae,\n",
    "        batch_size=BATCH_SIZE,\n",
    "        epochs=TRAIN_EPOCHS,\n",
    "        criterion=vae_loss,\n",
    "        train_set=train_dataset,\n",
    "        test_set=test_dataset,\n",
    "        lr=LEARNING_RATE,\n",
    ")"
   ],
   "metadata": {
    "colab": {
     "base_uri": "https://localhost:8080/",
     "height": 17,
     "referenced_widgets": [
      "4ffd81d5d59b461e8cf2b4a3543d9977",
      "04c40de134214ef9a0be24f1bc123fd8",
      "0c92d738638246feb3b915e9be038dfd",
      "9887893e70144da78e8184ffb032faaa",
      "af3131d8e35f402499f846b0f3dee547",
      "74124c0be73349a58072300bd7694f8b",
      "d7b1808c951d4540be02a78e0d8d0582",
      "66d972e856ab4f229cf05ab9dfbe4f74",
      "37591670076e45cda607bafc3f24f148",
      "5691fe165dca4475a310868a0cb7f262",
      "965fafc8287a4769a52adcf2861c9ae6",
      "f545780a9db442c1829a22e1c4919075",
      "ecefed8c1df546c3ade5ca51a579cb41",
      "47c47f5dbd6a45adab0ca059f4175d39",
      "c8df95b4f36146118e79ab7a7b0b8b1c",
      "a86e4ba8445242caa97c9e01850cde5f",
      "0453f4978f1c44caac07be20bf5b804e",
      "a6348f0170484a78ade3426885c0c8e1",
      "867064e275004876900b2bc6fbc57a88",
      "f49d6bf8efca4db5b946f34fc0072502",
      "54132ecfaac743c4a825e1c6f087f7e8",
      "4af0e8467b854c1390d9c54b0911d05d",
      "891c75431237496d83aff327a90e4f78",
      "14a8f6b321cb4291a2640c119b87eb5e",
      "33fa9595a0b04d65a159e850d7c9b4b1",
      "ff6e011e6e404f1d811c679f525052bf",
      "85496edee6f1408688a80079987f1713",
      "ea28dbb08ab842439e145e06bd045328",
      "78c35086edf7416b8de0066df53935b3",
      "ccd46184b8fb458db5b302a9e6d91648",
      "e57ec80225e5407d80a9026f704e06b6",
      "fa1a45f8f6644253872b79e30d51f83e",
      "42bad55fd0ed4c37b7821fb9b98a6055",
      "4160e4a03aaa4561861a419d9d85efa3",
      "71b859adaa82407a95b1c587c1214d4c",
      "99a4bb64c28f4f29ab59fee728e6c917",
      "7d0b68422a78484eab91d27d4bab957e",
      "85991e906d034537a18f49c3b75e5d7b",
      "38b81707653c4abaac8a637134083990",
      "9aa574d533734aff9544c68aad4998e6",
      "5ec6e80ca58e485083801073a71809d9",
      "cbaf2e69f0cd421a976ccf1aa1c9459c",
      "cd90408da81447638f8918bc3bebc804",
      "f5bdc8362a4b456f90c92fa55ae28753",
      "ea69fab4501b4313bd9b8415dc4fd8a6",
      "6d79952003e14cb1aac94f1f8198d26a",
      "bbe547a8b22646da8c2456b27cd449c2",
      "468778dc60574a79bc20e6f4e0a5c691",
      "59e0926e2a014bd4bdc35d353cc16733",
      "10498743125049a1bc68b41d5bd3956d",
      "639066162d5d4830a657ca0e9ac86429",
      "c8e244cdd12a4a76a813190f021e138d",
      "f3a0cd1e54164bb8a7b751cae52a0764",
      "ef65224510e6492cb8b8555e582365e6",
      "eb17c72c89f14e3f88c60c5c90f67eb9",
      "a3e7735b6bad476783905c5e8a679da2",
      "156cd6c1e4fe45989543a24b74fd2032",
      "d07949d0624b4a35b5cf7e2aaddcfbc4",
      "a92e7297a6ea4713991e524a04056152",
      "dcd4e816be494e048901c2f847ef39f8",
      "39f6a5fc237142fe9ffe9c7cbf00db68",
      "80742e0ada71450db0539ab3de586201",
      "7229fdc495ca4433bfe8d78ebdcaec26",
      "ccf6636e292d4c769a5c8608bd1b101d",
      "db9a4892a7ca487185a5e1b3fecc6091",
      "1f8e684926e3465e895ea0bb5e251fd0"
     ]
    },
    "id": "4YAXkqKh64re",
    "outputId": "2afaa299-aa5f-4149-bbb4-93222c1ec824"
   }
  },
  {
   "cell_type": "code",
   "source": [
    "trend_plot_helper(\n",
    "    {\n",
    "        \"Train Loss - Epoch\": [\n",
    "            (\"Total\", history[\"Train_Total_Loss\"]),\n",
    "            (\"KL Dive\", history[\"Train_KL_Loss\"]),\n",
    "            (\"Reconstruction\", history[\"Train_Rec_Loss\"]),\n",
    "        ],\n",
    "        \"Test Loss - Epoch\": [\n",
    "            (\"Total\", history[\"Test_Total_Loss\"]),\n",
    "            (\"KL Dive\", history[\"Test_KL_Loss\"]),\n",
    "            (\"Reconstruction\", history[\"Test_Rec_Loss\"]),\n",
    "        ]\n",
    "    }\n",
    ")"
   ],
   "metadata": {
    "execution": {
     "iopub.status.busy": "2024-01-11T23:23:54.893121Z",
     "iopub.execute_input": "2024-01-11T23:23:54.893487Z",
     "iopub.status.idle": "2024-01-11T23:23:55.252248Z",
     "shell.execute_reply.started": "2024-01-11T23:23:54.893457Z",
     "shell.execute_reply": "2024-01-11T23:23:55.251125Z"
    },
    "trusted": true,
    "id": "0za_i2gzwE7Y",
    "outputId": "566a71df-4508-4cb9-f2e3-c5e70365cfa2",
    "colab": {
     "base_uri": "https://localhost:8080/",
     "height": 539
    }
   },
   "execution_count": 73,
   "outputs": [
    {
     "output_type": "display_data",
     "data": {
      "text/plain": [
       "<Figure size 1600x600 with 2 Axes>"
      ],
      "image/png": "[encoded data removed]"
     },
     "metadata": {}
    }
   ]
  },
  {
   "cell_type": "markdown",
   "source": [
    "### Generate samples"
   ],
   "metadata": {
    "collapsed": false,
    "id": "l8hE6YZnuJD9"
   }
  },
  {
   "cell_type": "code",
   "source": [
    "plot_reconstructions(model_ovae, test_dataset)"
   ],
   "metadata": {
    "execution": {
     "iopub.status.busy": "2024-01-11T23:23:55.636012Z",
     "iopub.execute_input": "2024-01-11T23:23:55.636460Z",
     "iopub.status.idle": "2024-01-11T23:23:56.303312Z",
     "shell.execute_reply.started": "2024-01-11T23:23:55.636432Z",
     "shell.execute_reply": "2024-01-11T23:23:56.302231Z"
    },
    "trusted": true,
    "id": "cUyT9q6ywE7Z",
    "outputId": "bc0aff56-a402-4b56-9fb1-c001bbc70691",
    "colab": {
     "base_uri": "https://localhost:8080/",
     "height": 456
    }
   },
   "execution_count": 74,
   "outputs": [
    {
     "output_type": "display_data",
     "data": {
      "text/plain": [
       "<Figure size 2000x600 with 10 Axes>"
      ],
      "image/png": "[encoded data removed]"
     },
     "metadata": {}
    }
   ]
  },
  {
   "cell_type": "markdown",
   "source": [
    "### FID score"
   ],
   "metadata": {
    "collapsed": false,
    "id": "wBvv22P1uJD9"
   }
  },
  {
   "cell_type": "code",
   "source": [
    "import shutil\n",
    "\n",
    "num_train_samples = 3500\n",
    "num_test_samples = 1500\n",
    "\n",
    "train_indices = torch.randperm(len(train_dataset))[:num_train_samples]\n",
    "test_indices = torch.randperm(len(test_dataset))[:num_test_samples]\n",
    "\n",
    "train_sampler = SubsetRandomSampler(train_indices)\n",
    "test_sampler = SubsetRandomSampler(test_indices)\n",
    "\n",
    "fid_train_dataloader = DataLoader(train_dataset, batch_size=1, sampler=train_sampler)\n",
    "fid_test_dataloader = DataLoader(test_dataset, batch_size=1, sampler=test_sampler)\n",
    "\n",
    "ORIGINAL_DIR = 'original_samples'\n",
    "GENERATED_DIR = 'generated_samples'\n",
    "\n",
    "if os.path.exists(ORIGINAL_DIR):\n",
    "    shutil.rmtree(ORIGINAL_DIR)\n",
    "if os.path.exists(GENERATED_DIR):\n",
    "    shutil.rmtree(GENERATED_DIR)\n",
    "os.mkdir(ORIGINAL_DIR)\n",
    "os.mkdir(GENERATED_DIR)\n",
    "\n",
    "model.eval()\n",
    "with torch.no_grad():\n",
    "    for i, batch in enumerate(fid_train_dataloader):\n",
    "        image = batch[0][0]\n",
    "        image = image * 255\n",
    "        image = image.byte()\n",
    "        image = transforms.ToPILImage()(image)\n",
    "        image.save(os.path.join(ORIGINAL_DIR, f'train_{i}.png'))\n",
    "\n",
    "        batch = batch.to(device)\n",
    "        x_hat, _, _ = model(batch)\n",
    "        x_hat = torch.round(x_hat)\n",
    "        image = x_hat[0][0]\n",
    "        image = image * 255\n",
    "        image = image.byte()\n",
    "        image = transforms.ToPILImage()(image)\n",
    "        image.save(os.path.join(GENERATED_DIR, f'train_{i}.png'))\n",
    "\n",
    "    for i, batch in enumerate(fid_test_dataloader):\n",
    "        image = batch[0][0]\n",
    "        image = image * 255\n",
    "        image = image.byte()\n",
    "        image = transforms.ToPILImage()(image)\n",
    "        image.save(os.path.join(ORIGINAL_DIR, f'test_{i}.png'))\n",
    "\n",
    "        batch = batch.to(device)\n",
    "        x_hat, _, _ = model(batch)\n",
    "        x_hat = torch.round(x_hat)\n",
    "        image = x_hat[0][0]\n",
    "        image = image * 255\n",
    "        image = image.byte()\n",
    "        image = transforms.ToPILImage()(image)\n",
    "        image.save(os.path.join(GENERATED_DIR, f'test_{i}.png'))\n"
   ],
   "metadata": {
    "id": "OFUdwy4h7dLn"
   },
   "execution_count": null,
   "outputs": []
  },
  {
   "cell_type": "code",
   "execution_count": 23,
   "outputs": [
    {
     "output_type": "error",
     "ename": "NameError",
     "evalue": "name 'ORIGINAL_DIR' is not defined",
     "traceback": [
      "\u001B[0;31m---------------------------------------------------------------------------\u001B[0m",
      "\u001B[0;31mNameError\u001B[0m                                 Traceback (most recent call last)",
      "\u001B[0;32m<ipython-input-23-216e786bde1b>\u001B[0m in \u001B[0;36m<cell line: 1>\u001B[0;34m()\u001B[0m\n\u001B[0;32m----> 1\u001B[0;31m \u001B[0mfid_score\u001B[0m \u001B[0;34m=\u001B[0m \u001B[0mfid_score\u001B[0m\u001B[0;34m.\u001B[0m\u001B[0mcalculate_fid_given_paths\u001B[0m\u001B[0;34m(\u001B[0m\u001B[0;34m[\u001B[0m\u001B[0mORIGINAL_DIR\u001B[0m\u001B[0;34m,\u001B[0m \u001B[0mGENERATED_DIR\u001B[0m\u001B[0;34m]\u001B[0m\u001B[0;34m,\u001B[0m \u001B[0mbatch_size\u001B[0m\u001B[0;34m=\u001B[0m\u001B[0;36m50\u001B[0m\u001B[0;34m,\u001B[0m \u001B[0mdevice\u001B[0m\u001B[0;34m=\u001B[0m\u001B[0mDEVICE\u001B[0m\u001B[0;34m,\u001B[0m \u001B[0mdims\u001B[0m\u001B[0;34m=\u001B[0m\u001B[0;36m2048\u001B[0m\u001B[0;34m)\u001B[0m\u001B[0;34m\u001B[0m\u001B[0;34m\u001B[0m\u001B[0m\n\u001B[0m\u001B[1;32m      2\u001B[0m \u001B[0mprint\u001B[0m\u001B[0;34m(\u001B[0m\u001B[0mfid_score\u001B[0m\u001B[0;34m)\u001B[0m\u001B[0;34m\u001B[0m\u001B[0;34m\u001B[0m\u001B[0m\n",
      "\u001B[0;31mNameError\u001B[0m: name 'ORIGINAL_DIR' is not defined"
     ]
    }
   ],
   "source": [
    "fid_score = fid_score.calculate_fid_given_paths([ORIGINAL_DIR, GENERATED_DIR], batch_size=50, device=DEVICE, dims=2048)\n",
    "print(fid_score)"
   ],
   "metadata": {
    "colab": {
     "base_uri": "https://localhost:8080/",
     "height": 191
    },
    "id": "Yxs9Onj6uJD-",
    "outputId": "d32406c5-134f-44ba-fd75-6821541e5098"
   }
  },
  {
   "cell_type": "code",
   "execution_count": null,
   "outputs": [],
   "source": [
    "del model_ovae\n",
    "if torch.cuda.is_available():\n",
    "    torch.cuda.empty_cache()\n",
    "gc.collect()"
   ],
   "metadata": {
    "collapsed": false
   }
  },
  {
   "cell_type": "markdown",
   "source": [
    "## ControlVAE"
   ],
   "metadata": {
    "collapsed": false,
    "id": "T6IHXKtQuJD-"
   }
  },
  {
   "cell_type": "markdown",
   "source": [
    "### PID Controller"
   ],
   "metadata": {
    "collapsed": false,
    "id": "gU5CcoH3uJD-"
   }
  },
  {
   "cell_type": "code",
   "execution_count": null,
   "outputs": [],
   "source": [
    "def _kp_util(err, scale=1.0):\n",
    "    return 1.0 / (1.0 + scale * torch.exp(err))\n",
    "\n",
    "\n",
    "class PIDControl:\n",
    "    def __init__(self):\n",
    "        self.i_k1 = 0.0\n",
    "        self.w_k1 = 0.0\n",
    "\n",
    "    def pid(self, des_kl, kl_div, kp=0.001, ki=-0.001):\n",
    "        error_k = des_kl - kl_div\n",
    "\n",
    "        pk = kp * _kp_util(error_k)\n",
    "        ik = self.i_k1 + ki * error_k\n",
    "\n",
    "        if 0 > self.w_k1 >= 1:\n",
    "            ik = self.i_k1\n",
    "\n",
    "        wk = pk + ik\n",
    "\n",
    "        self.w_k1 = wk\n",
    "        self.i_k1 = ik\n",
    "\n",
    "        wk = torch.clamp(wk, 0.0, 1.0)\n",
    "\n",
    "        return wk\n"
   ],
   "metadata": {
    "id": "tQ-AJWMduJD-"
   }
  },
  {
   "cell_type": "markdown",
   "source": [
    "### train controlVAE"
   ],
   "metadata": {
    "collapsed": false
   }
  },
  {
   "cell_type": "code",
   "execution_count": null,
   "outputs": [],
   "source": [
    "base_conf = {\n",
    "    'kp': 1e-2,\n",
    "    'ki': 1e-3,\n",
    "}"
   ],
   "metadata": {
    "collapsed": false
   }
  },
  {
   "cell_type": "markdown",
   "source": [
    "#### Set point = 8"
   ],
   "metadata": {
    "collapsed": false
   }
  },
  {
   "cell_type": "code",
   "execution_count": null,
   "outputs": [],
   "source": [
    "model_pid_8 = VAE(LATENT_DIM, Z_DIM).to(DEVICE)\n",
    "\n",
    "config_pid_8 = {\n",
    "    'des_kl': 8,\n",
    "    **base_conf,\n",
    "}"
   ],
   "metadata": {
    "collapsed": false
   }
  },
  {
   "cell_type": "code",
   "execution_count": null,
   "outputs": [],
   "source": [
    "history_pid_8 = train_model(\n",
    "        model=model_pid_8,\n",
    "        batch_size=BATCH_SIZE,\n",
    "        epochs=TRAIN_EPOCHS,\n",
    "        criterion=vae_loss,\n",
    "        train_set=train_dataset,\n",
    "        test_set=test_dataset,\n",
    "        lr=LEARNING_RATE,\n",
    "        use_PI=True,\n",
    "        pi_kw_args=config_pid_8,\n",
    ")"
   ],
   "metadata": {
    "collapsed": false
   }
  },
  {
   "cell_type": "code",
   "execution_count": null,
   "outputs": [],
   "source": [
    "trend_plot_helper(\n",
    "    {\n",
    "        \"Train Loss - Epoch\": [\n",
    "            (\"Total\", history_pid_8[\"Train_Total_Loss\"]),\n",
    "            (\"KL Dive\", history_pid_8[\"Train_KL_Loss\"]),\n",
    "            (\"Reconstruction\", history_pid_8[\"Train_Rec_Loss\"]),\n",
    "        ],\n",
    "        \"Test Loss - Epoch\": [\n",
    "            (\"Total\", history_pid_8[\"Test_Total_Loss\"]),\n",
    "            (\"KL Dive\", history_pid_8[\"Test_KL_Loss\"]),\n",
    "            (\"Reconstruction\", history_pid_8[\"Test_Rec_Loss\"]),\n",
    "        ]\n",
    "    }\n",
    ")"
   ],
   "metadata": {
    "collapsed": false
   }
  },
  {
   "cell_type": "code",
   "execution_count": null,
   "outputs": [],
   "source": [],
   "metadata": {
    "collapsed": false
   }
  },
  {
   "cell_type": "code",
   "execution_count": null,
   "outputs": [],
   "source": [
    "del model_pid_8\n",
    "if torch.cuda.is_available():\n",
    "    torch.cuda.empty_cache()\n",
    "gc.collect()"
   ],
   "metadata": {
    "collapsed": false
   }
  },
  {
   "cell_type": "markdown",
   "source": [
    "#### Set point = 14"
   ],
   "metadata": {
    "collapsed": false
   }
  },
  {
   "cell_type": "code",
   "execution_count": null,
   "outputs": [],
   "source": [
    "model_pid_14 = VAE(LATENT_DIM, Z_DIM).to(DEVICE)\n",
    "\n",
    "config_pid_14 = {\n",
    "    'des_kl': 14,\n",
    "    **base_conf,\n",
    "}"
   ],
   "metadata": {
    "collapsed": false
   }
  },
  {
   "cell_type": "code",
   "execution_count": null,
   "outputs": [],
   "source": [
    "history_pid_14 = train_model(\n",
    "        model=model_pid_14,\n",
    "        batch_size=BATCH_SIZE,\n",
    "        epochs=TRAIN_EPOCHS,\n",
    "        criterion=vae_loss,\n",
    "        train_set=train_dataset,\n",
    "        test_set=test_dataset,\n",
    "        lr=LEARNING_RATE,\n",
    "        use_PI=True,\n",
    "        pi_kw_args=config_pid_14,\n",
    ")"
   ],
   "metadata": {
    "collapsed": false
   }
  },
  {
   "cell_type": "code",
   "execution_count": null,
   "outputs": [],
   "source": [
    "trend_plot_helper(\n",
    "    {\n",
    "        \"Train Loss - Epoch\": [\n",
    "            (\"Total\", history_pid_14[\"Train_Total_Loss\"]),\n",
    "            (\"KL Dive\", history_pid_14[\"Train_KL_Loss\"]),\n",
    "            (\"Reconstruction\", history_pid_14[\"Train_Rec_Loss\"]),\n",
    "        ],\n",
    "        \"Test Loss - Epoch\": [\n",
    "            (\"Total\", history_pid_14[\"Test_Total_Loss\"]),\n",
    "            (\"KL Dive\", history_pid_14[\"Test_KL_Loss\"]),\n",
    "            (\"Reconstruction\", history_pid_14[\"Test_Rec_Loss\"]),\n",
    "        ]\n",
    "    }\n",
    ")"
   ],
   "metadata": {
    "collapsed": false
   }
  },
  {
   "cell_type": "code",
   "execution_count": null,
   "outputs": [],
   "source": [],
   "metadata": {
    "collapsed": false
   }
  },
  {
   "cell_type": "code",
   "execution_count": null,
   "outputs": [],
   "source": [
    "del model_pid_14\n",
    "if torch.cuda.is_available():\n",
    "    torch.cuda.empty_cache()\n",
    "gc.collect()"
   ],
   "metadata": {
    "collapsed": false
   }
  },
  {
   "cell_type": "markdown",
   "source": [
    "#### Conclusion plot\n",
    "\n",
    "we plot different loss from training on the same plot for both set points"
   ],
   "metadata": {
    "collapsed": false
   }
  },
  {
   "cell_type": "code",
   "execution_count": null,
   "outputs": [],
   "source": [
    "trend_plot_helper(\n",
    "    {\n",
    "        \"Train KL Loss - Epoch\": [\n",
    "            (\"Set Point = 8\", history_pid_8[\"Train_KL_Loss\"]),\n",
    "            (\"Set Point = 14\", history_pid_14[\"Train_KL_Loss\"]),\n",
    "        ],\n",
    "        \"Test KL Loss - Epoch\": [\n",
    "            (\"Set Point = 8\", history_pid_8[\"Test_KL_Loss\"]),\n",
    "            (\"Set Point = 14\", history_pid_14[\"Test_KL_Loss\"]),\n",
    "        ]\n",
    "    }\n",
    ")"
   ],
   "metadata": {
    "collapsed": false
   }
  },
  {
   "cell_type": "code",
   "execution_count": null,
   "outputs": [],
   "source": [
    "trend_plot_helper(\n",
    "    {\n",
    "        \"Train Rec Loss - Epoch\": [\n",
    "            (\"Set Point = 8\", history_pid_8[\"Train_Rec_Loss\"]),\n",
    "            (\"Set Point = 14\", history_pid_14[\"Train_Rec_Loss\"]),\n",
    "        ],\n",
    "        \"Test Rec Loss - Epoch\": [\n",
    "            (\"Set Point = 8\", history_pid_8[\"Test_Rec_Loss\"]),\n",
    "            (\"Set Point = 14\", history_pid_14[\"Test_Rec_Loss\"]),\n",
    "        ]\n",
    "    }\n",
    ")"
   ],
   "metadata": {
    "collapsed": false
   }
  },
  {
   "cell_type": "code",
   "execution_count": null,
   "outputs": [],
   "source": [
    "trend_plot_helper(\n",
    "    {\n",
    "        \"Train Total Loss - Epoch\": [\n",
    "            (\"Set Point = 8\", history_pid_8[\"Train_Total_Loss\"]),\n",
    "            (\"Set Point = 14\", history_pid_14[\"Train_Total_Loss\"]),\n",
    "        ],\n",
    "        \"Test Total Loss - Epoch\": [\n",
    "            (\"Set Point = 8\", history_pid_8[\"Test_Total_Loss\"]),\n",
    "            (\"Set Point = 14\", history_pid_14[\"Test_Total_Loss\"]),\n",
    "        ]\n",
    "    }\n",
    ")"
   ],
   "metadata": {
    "collapsed": false
   }
  },
  {
   "cell_type": "markdown",
   "source": [],
   "metadata": {
    "collapsed": false
   }
  }
 ]
}
