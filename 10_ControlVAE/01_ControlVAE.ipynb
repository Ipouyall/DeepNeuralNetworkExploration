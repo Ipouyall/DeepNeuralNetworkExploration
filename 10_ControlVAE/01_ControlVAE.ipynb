{
 "metadata": {
  "kaggle": {
   "accelerator": "nvidiaTeslaT4",
   "dataSources": [
    {
     "sourceId": 7384022,
     "sourceType": "datasetVersion",
     "datasetId": 4291686
    }
   ],
   "dockerImageVersionId": 30635,
   "isInternetEnabled": true,
   "language": "python",
   "sourceType": "notebook",
   "isGpuEnabled": true
  },
  "kernelspec": {
   "name": "python3",
   "display_name": "Python 3"
  },
  "language_info": {
   "name": "python",
   "version": "3.10.12",
   "mimetype": "text/x-python",
   "codemirror_mode": {
    "name": "ipython",
    "version": 3
   },
   "pygments_lexer": "ipython3",
   "nbconvert_exporter": "python",
   "file_extension": ".py"
  },
  "colab": {
   "provenance": [],
   "gpuType": "T4"
  },
  "accelerator": "GPU"
 },
 "nbformat_minor": 0,
 "nbformat": 4,
 "cells": [
  {
   "cell_type": "markdown",
   "source": [
    "# Prepare notebook"
   ],
   "metadata": {
    "id": "Mxwl9TU9wE7S"
   }
  },
  {
   "cell_type": "code",
   "source": [
    "!pip install gdown -q"
   ],
   "metadata": {
    "id": "YG4olhzry8N8"
   },
   "execution_count": null,
   "outputs": []
  },
  {
   "cell_type": "code",
   "source": [
    "!gdown 18KIvMBWD031oDvg0DVebI06SMwKuTp4l -O sh3_sc6_y32_x32_imgs.npz"
   ],
   "metadata": {
    "colab": {
     "base_uri": "https://localhost:8080/"
    },
    "id": "dkvUlqPGzLKD",
    "outputId": "b3fa22d2-3565-4a49-9146-ba517bee1e7c"
   },
   "execution_count": null,
   "outputs": []
  },
  {
   "cell_type": "code",
   "source": [
    "import numpy as np\n",
    "import matplotlib.pyplot as plt\n",
    "import os\n",
    "import tqdm\n",
    "\n",
    "import torch\n",
    "from torch import nn, optim\n",
    "import torch.nn.functional as F\n",
    "from torch.utils.data import Dataset, DataLoader, random_split\n",
    "from torchvision import transforms"
   ],
   "metadata": {
    "execution": {
     "iopub.status.busy": "2024-01-11T23:23:18.657066Z",
     "iopub.execute_input": "2024-01-11T23:23:18.657572Z",
     "iopub.status.idle": "2024-01-11T23:23:18.664566Z",
     "shell.execute_reply.started": "2024-01-11T23:23:18.657536Z",
     "shell.execute_reply": "2024-01-11T23:23:18.663412Z"
    },
    "trusted": true,
    "id": "FZnWD3NiwE7U"
   },
   "execution_count": null,
   "outputs": []
  },
  {
   "cell_type": "code",
   "source": [
    "DEVICE = torch.device(\"cuda\" if torch.cuda.is_available() else \"cpu\")\n",
    "print(DEVICE)"
   ],
   "metadata": {
    "execution": {
     "iopub.status.busy": "2024-01-11T23:23:18.669822Z",
     "iopub.execute_input": "2024-01-11T23:23:18.670807Z",
     "iopub.status.idle": "2024-01-11T23:23:18.676618Z",
     "shell.execute_reply.started": "2024-01-11T23:23:18.670773Z",
     "shell.execute_reply": "2024-01-11T23:23:18.675521Z"
    },
    "trusted": true,
    "colab": {
     "base_uri": "https://localhost:8080/"
    },
    "id": "oI1oTzCIwE7V",
    "outputId": "b9003234-48dc-4ebb-d5ef-4917948d48d6"
   },
   "execution_count": null,
   "outputs": []
  },
  {
   "cell_type": "markdown",
   "source": [
    "### Constants"
   ],
   "metadata": {
    "id": "u9fxAil5wE7V"
   }
  },
  {
   "cell_type": "code",
   "source": [
    "DATA_PATH = './sh3_sc6_y32_x32_imgs.npz'\n",
    "TRAIN_RATIO = 0.9\n",
    "\n",
    "LATENT_DIM = 256\n",
    "Z_DIM = 10\n",
    "\n",
    "BETA_1 = 0.9\n",
    "BETA_2 = 0.99\n",
    "LEARNING_RATE = 1e-4\n",
    "\n",
    "BATCH_SIZE = 128\n",
    "TRAIN_EPOCHS = 10\n",
    "\n",
    "W_KL = 1\n",
    "W_REC = 1"
   ],
   "metadata": {
    "execution": {
     "iopub.status.busy": "2024-01-11T23:23:18.678534Z",
     "iopub.execute_input": "2024-01-11T23:23:18.678899Z",
     "iopub.status.idle": "2024-01-11T23:23:18.685494Z",
     "shell.execute_reply.started": "2024-01-11T23:23:18.678860Z",
     "shell.execute_reply": "2024-01-11T23:23:18.684529Z"
    },
    "trusted": true,
    "id": "qnitLHLfwE7W"
   },
   "execution_count": null,
   "outputs": []
  },
  {
   "cell_type": "markdown",
   "source": [
    "## Data"
   ],
   "metadata": {
    "id": "bcRk_ixHwE7W"
   }
  },
  {
   "cell_type": "code",
   "source": [
    "class DspritesDataset(Dataset):\n",
    "\n",
    "    def __init__(self, npz_path, transform=None):\n",
    "        data = np.load(npz_path, allow_pickle=True, encoding='latin1')\n",
    "        self.transform = transform\n",
    "        self.images = data['imgs']\n",
    "\n",
    "        if self.transform is None:\n",
    "          self.transform = transforms.ToTensor()\n",
    "\n",
    "    def __len__(self):\n",
    "        return len(self.images)\n",
    "\n",
    "    def __getitem__(self, idx):\n",
    "        image = self.images[idx]\n",
    "        image = self.transform(image)\n",
    "        return image\n"
   ],
   "metadata": {
    "execution": {
     "iopub.status.busy": "2024-01-11T23:23:18.692200Z",
     "iopub.execute_input": "2024-01-11T23:23:18.692586Z",
     "iopub.status.idle": "2024-01-11T23:23:18.700971Z",
     "shell.execute_reply.started": "2024-01-11T23:23:18.692549Z",
     "shell.execute_reply": "2024-01-11T23:23:18.699780Z"
    },
    "trusted": true,
    "id": "avTmNmdgwE7W"
   },
   "execution_count": null,
   "outputs": []
  },
  {
   "cell_type": "code",
   "source": [
    "raw_dataset = DspritesDataset(DATA_PATH)\n",
    "print(len(raw_dataset))"
   ],
   "metadata": {
    "execution": {
     "iopub.status.busy": "2024-01-11T23:23:18.702771Z",
     "iopub.execute_input": "2024-01-11T23:23:18.703061Z",
     "iopub.status.idle": "2024-01-11T23:23:18.824131Z",
     "shell.execute_reply.started": "2024-01-11T23:23:18.703034Z",
     "shell.execute_reply": "2024-01-11T23:23:18.822892Z"
    },
    "trusted": true,
    "colab": {
     "base_uri": "https://localhost:8080/"
    },
    "id": "vfc2AMjtwE7W",
    "outputId": "54623396-f330-4799-a149-e813e4ac4a68"
   },
   "execution_count": null,
   "outputs": []
  },
  {
   "cell_type": "code",
   "source": [
    "train_size = int(TRAIN_RATIO * len(raw_dataset))\n",
    "test_size = len(raw_dataset) - train_size\n",
    "lengths = [train_size, test_size]\n",
    "\n",
    "train_dataset, test_dataset = random_split(raw_dataset, lengths)"
   ],
   "metadata": {
    "execution": {
     "iopub.status.busy": "2024-01-11T23:23:18.826083Z",
     "iopub.execute_input": "2024-01-11T23:23:18.826486Z",
     "iopub.status.idle": "2024-01-11T23:23:18.833483Z",
     "shell.execute_reply.started": "2024-01-11T23:23:18.826455Z",
     "shell.execute_reply": "2024-01-11T23:23:18.832196Z"
    },
    "trusted": true,
    "id": "pB1DlUicwE7W"
   },
   "execution_count": null,
   "outputs": []
  },
  {
   "cell_type": "code",
   "source": [
    "print(f'Train size: {len(train_dataset)}')\n",
    "print(f'Test size: {len(test_dataset)}')"
   ],
   "metadata": {
    "execution": {
     "iopub.status.busy": "2024-01-11T23:23:18.834686Z",
     "iopub.execute_input": "2024-01-11T23:23:18.835046Z",
     "iopub.status.idle": "2024-01-11T23:23:18.844343Z",
     "shell.execute_reply.started": "2024-01-11T23:23:18.835004Z",
     "shell.execute_reply": "2024-01-11T23:23:18.843227Z"
    },
    "trusted": true,
    "colab": {
     "base_uri": "https://localhost:8080/"
    },
    "id": "ZClb7YtawE7W",
    "outputId": "d96d1459-a7a7-40b9-ec16-c377ae7d2e20"
   },
   "execution_count": null,
   "outputs": []
  },
  {
   "cell_type": "code",
   "source": [
    "import random\n",
    "\n",
    "plt.figure(figsize=(10, 10))\n",
    "for i in range(25):\n",
    "    plt.subplot(5, 5, i+1)\n",
    "    idx = random.randint(0, len(train_dataset))\n",
    "    plt.imshow(train_dataset[idx].squeeze(), cmap='gray')\n",
    "    plt.axis('off')"
   ],
   "metadata": {
    "execution": {
     "iopub.status.busy": "2024-01-11T23:23:18.846981Z",
     "iopub.execute_input": "2024-01-11T23:23:18.847401Z",
     "iopub.status.idle": "2024-01-11T23:23:19.965315Z",
     "shell.execute_reply.started": "2024-01-11T23:23:18.847371Z",
     "shell.execute_reply": "2024-01-11T23:23:19.964302Z"
    },
    "trusted": true,
    "colab": {
     "base_uri": "https://localhost:8080/",
     "height": 807
    },
    "id": "OPVQLBWOwE7X",
    "outputId": "244cefb5-eb86-4850-d946-81b7cf3f08f4"
   },
   "execution_count": null,
   "outputs": []
  },
  {
   "cell_type": "markdown",
   "source": [
    "## VariationalAutoEncoder Model"
   ],
   "metadata": {
    "id": "oNHaKh1dwE7X"
   }
  },
  {
   "cell_type": "code",
   "source": [
    "class VAE(nn.Module):\n",
    "    def __init__(self, latent_dim, z_dim):\n",
    "        super(VAE, self).__init__()\n",
    "        self.latent_dim = latent_dim\n",
    "        self.encoder = nn.Sequential(\n",
    "            nn.Conv2d(in_channels=1, out_channels=32, kernel_size=4, stride=2, padding=1),\n",
    "            nn.ReLU(),\n",
    "            nn.Conv2d(in_channels=32, out_channels=32, kernel_size=4, stride=2, padding=1),\n",
    "            nn.ReLU(),\n",
    "            nn.Conv2d(in_channels=32, out_channels=64, kernel_size=4, stride=2, padding=1),\n",
    "            nn.ReLU(),\n",
    "            nn.Conv2d(in_channels=64, out_channels=64, kernel_size=4, stride=2, padding=1),\n",
    "            nn.ReLU(),\n",
    "            nn.Conv2d(in_channels=64, out_channels=256, kernel_size=4, stride=1),\n",
    "            nn.ReLU(),\n",
    "        )\n",
    "        self.fc_mu = nn.Linear(latent_dim, z_dim)\n",
    "        self.fc_sigma = nn.Linear(latent_dim, z_dim)\n",
    "        self.fc_decoder = nn.Linear(z_dim, latent_dim)\n",
    "        self.decoder = nn.Sequential(\n",
    "            nn.ConvTranspose2d(in_channels=256, out_channels=64, kernel_size=4),\n",
    "            nn.ReLU(),\n",
    "            nn.ConvTranspose2d(in_channels=64, out_channels=64, kernel_size=4, stride=2, padding=1),\n",
    "            nn.ReLU(),\n",
    "            nn.ConvTranspose2d(in_channels=64, out_channels=32, kernel_size=4, stride=2, padding=1),\n",
    "            nn.ReLU(),\n",
    "            nn.ConvTranspose2d(in_channels=32, out_channels=32, kernel_size=4, stride=2, padding=1),\n",
    "            nn.ReLU(),\n",
    "            nn.ConvTranspose2d(in_channels=32, out_channels=1, kernel_size=4, stride=2, padding=1),\n",
    "        )\n",
    "\n",
    "    def reparameterize(self, mu, sigma):\n",
    "        std = torch.exp(sigma / 2.)\n",
    "        eps = torch.randn_like(mu).to(mu.get_device())\n",
    "        return mu + std * eps\n",
    "\n",
    "    def encode(self, x):\n",
    "        h = self.encoder(x)\n",
    "        h = h.view(-1, 256)\n",
    "        mu = self.fc_mu(h)\n",
    "        sigma = self.fc_sigma(h)\n",
    "        return h, mu, sigma\n",
    "\n",
    "    def decode(self, z):\n",
    "        h = self.fc_decoder(z)\n",
    "        h = h.view(-1, 256, 1, 1)\n",
    "        x = self.decoder(h)\n",
    "        return x\n",
    "\n",
    "    def forward(self, x):\n",
    "        _, mu, sigma = self.encode(x)\n",
    "        z = self.reparameterize(mu, sigma)\n",
    "        x = self.decode(z)\n",
    "        return x, mu, sigma\n"
   ],
   "metadata": {
    "execution": {
     "iopub.status.busy": "2024-01-11T23:23:19.976017Z",
     "iopub.execute_input": "2024-01-11T23:23:19.976448Z",
     "iopub.status.idle": "2024-01-11T23:23:19.994828Z",
     "shell.execute_reply.started": "2024-01-11T23:23:19.976410Z",
     "shell.execute_reply": "2024-01-11T23:23:19.993628Z"
    },
    "trusted": true,
    "id": "H99oljq-wE7X"
   },
   "execution_count": null,
   "outputs": []
  },
  {
   "cell_type": "markdown",
   "source": [
    "## Train utils"
   ],
   "metadata": {
    "collapsed": false
   }
  },
  {
   "cell_type": "code",
   "source": [
    "def kl_divergence(mu, sigma):\n",
    "    return -0.5 * torch.mean(1 + sigma - mu.pow(2) - sigma.exp())"
   ],
   "metadata": {
    "execution": {
     "iopub.status.busy": "2024-01-11T23:23:19.996028Z",
     "iopub.execute_input": "2024-01-11T23:23:19.996415Z",
     "iopub.status.idle": "2024-01-11T23:23:20.008649Z",
     "shell.execute_reply.started": "2024-01-11T23:23:19.996386Z",
     "shell.execute_reply": "2024-01-11T23:23:20.007620Z"
    },
    "trusted": true,
    "id": "alOeG2zRwE7X"
   },
   "execution_count": null,
   "outputs": []
  },
  {
   "cell_type": "code",
   "source": [
    "def reconstruction_loss(x, x_hat):\n",
    "    return F.binary_cross_entropy_with_logits(x_hat, x, reduction='mean')"
   ],
   "metadata": {
    "execution": {
     "iopub.status.busy": "2024-01-11T23:23:20.010239Z",
     "iopub.execute_input": "2024-01-11T23:23:20.010737Z",
     "iopub.status.idle": "2024-01-11T23:23:20.017132Z",
     "shell.execute_reply.started": "2024-01-11T23:23:20.010692Z",
     "shell.execute_reply": "2024-01-11T23:23:20.015923Z"
    },
    "trusted": true,
    "id": "5kABAhHpwE7X"
   },
   "execution_count": null,
   "outputs": []
  },
  {
   "cell_type": "code",
   "source": [
    "def vae_loss(x, x_hat, mu, sigma):\n",
    "    return W_REC * reconstruction_loss(x, x_hat) + W_KL * kl_divergence(mu, sigma)"
   ],
   "metadata": {
    "execution": {
     "iopub.status.busy": "2024-01-11T23:23:20.018520Z",
     "iopub.execute_input": "2024-01-11T23:23:20.019063Z",
     "iopub.status.idle": "2024-01-11T23:23:20.025346Z",
     "shell.execute_reply.started": "2024-01-11T23:23:20.019023Z",
     "shell.execute_reply": "2024-01-11T23:23:20.024413Z"
    },
    "trusted": true,
    "id": "HXjmqkefwE7Y"
   },
   "execution_count": null,
   "outputs": []
  },
  {
   "cell_type": "code",
   "execution_count": null,
   "outputs": [],
   "source": [
    "@torch.no_grad()\n",
    "def model_eval(model, loader, criterion):\n",
    "  \"\"\"Returns total_loss, reconstruction loss, kld_loss\"\"\"\n",
    "  total_loss = 0.0\n",
    "  rec_loss = 0.0\n",
    "  kl_loss = 0.0\n",
    "  total_samples = 0\n",
    "\n",
    "  model.eval()\n",
    "  itr = tqdm(loader, total=len(loader), leave=False)\n",
    "\n",
    "  for batch in itr:\n",
    "      total_samples += len(batch)\n",
    "      batch = batch.to(DEVICE)\n",
    "\n",
    "      _x, _mu, _sigma = model(batch)\n",
    "\n",
    "      loss = criterion(batch, _x, _mu, _sigma)\n",
    "\n",
    "      total_loss += loss.item()\n",
    "      kl_loss += kl_divergence(_mu, _sigma).item()\n",
    "      rec_loss += reconstruction_loss(batch, _x).item()\n",
    "     \n",
    "\n",
    "      itr.set_description(\"(Eval)\")\n",
    "      itr.set_postfix(\n",
    "          total_loss=round(total_loss/total_samples, 4),\n",
    "          kd_div=round(kl_loss/total_samples, 4),\n",
    "          rec_loss=round(rec_loss/total_loss, 4),\n",
    "      )\n",
    "\n",
    "  total_loss = total_loss / total_samples\n",
    "  rec_loss = rec_loss / total_samples\n",
    "  kl_loss = kl_loss / total_samples\n",
    "\n",
    "  return total_loss, rec_loss, kl_loss\n"
   ],
   "metadata": {
    "collapsed": false
   }
  },
  {
   "cell_type": "code",
   "execution_count": null,
   "outputs": [],
   "source": [
    "def train_model(\n",
    "        model,\n",
    "        batch_size,\n",
    "        epochs,\n",
    "        criterion,\n",
    "        train_set,\n",
    "        test_set,\n",
    "        lr=2e-5,\n",
    "):\n",
    "\n",
    "  train_total_losses = []\n",
    "  test_total_losses = []\n",
    "\n",
    "  train_kl_losses = []\n",
    "  test_kl_losses = []\n",
    "\n",
    "  train_rec_losses = []\n",
    "  test_rec_losses = []\n",
    "\n",
    "  train_loader = DataLoader(train_set, batch_size=batch_size, shuffle=True)\n",
    "  test_loader  = DataLoader(test_set, batch_size=batch_size, shuffle=False)\n",
    "\n",
    "  optimizer = optim.Adam(model.parameters(), lr=lr, betas=(BETA_1, BETA_2))\n",
    "\n",
    "  itr = tqdm(train_loader, total=len(train_loader), leave=False)\n",
    "\n",
    "  for epoch in range(epochs):\n",
    "      model.train()\n",
    "      epoch_total_loss = 0\n",
    "      epoch_kl_loss = 0\n",
    "      epoch_rec_loss = 0\n",
    "      epoch_samples = 0\n",
    "      for idx, batch in itr:\n",
    "          epoch_samples += len(batch)\n",
    "          batch = batch.to(DEVICE)\n",
    "\n",
    "          _x, _mu, _sigma = model(batch)\n",
    "          loss = criterion(batch, _x, _mu, _sigma)\n",
    "\n",
    "          epoch_total_loss += loss.item()\n",
    "          \n",
    "          optimizer.zero_grad()\n",
    "          loss.backward()\n",
    "          optimizer.step()\n",
    "\n",
    "          epoch_kl_loss += kl_divergence(_mu, _sigma).item()\n",
    "          epoch_rec_loss += reconstruction_loss(batch, _x).item()\n",
    "\n",
    "          itr.set_description(f\"(Training) Epoch [{epoch + 1}/{epochs}]\")\n",
    "          itr.set_postfix(\n",
    "            loss=round(loss.item(), 5),\n",
    "          )\n",
    "          \n",
    "      train_total_losses.append(epoch_total_loss/epoch_samples)\n",
    "      train_kl_losses.append(epoch_kl_loss/epoch_samples)\n",
    "      train_rec_losses.append(epoch_rec_loss/epoch_samples)\n",
    "      \n",
    "\n",
    "      model.eval()\n",
    "      test_total_loss, test_rec_loss, test_kl_loss = model_eval(\n",
    "          model=model,\n",
    "          loader=test_loader,\n",
    "          criterion=criterion,\n",
    "      )\n",
    "      test_total_losses.append(test_total_loss)\n",
    "      test_kl_losses.append(test_kl_loss)\n",
    "      test_rec_losses.append(test_rec_loss)\n",
    "\n",
    "\n",
    "  history = {\n",
    "    \"Train_Total_Loss\": train_total_losses,\n",
    "    \"Train_Rec_Loss\": train_rec_losses,\n",
    "    \"Train_KL_Loss\": train_kl_losses,\n",
    "      \n",
    "    \"Test_Total_Loss\": test_total_losses,\n",
    "    \"Test_Rec_Loss\": test_rec_losses,\n",
    "    \"Test_KL_Loss\": test_kl_losses,\n",
    "  }\n",
    "  return history"
   ],
   "metadata": {
    "collapsed": false
   }
  },
  {
   "cell_type": "code",
   "source": [
    "def trend_plot_helper(pobj):\n",
    "    plt.figure(figsize=(5*len(pobj), 5))\n",
    "    for idx, (titler, plots) in enumerate(pobj.items(), start=1):\n",
    "        plt.subplot(1, len(pobj), idx)\n",
    "        for label, trend in plots:\n",
    "            plt.plot(range(1, len(trend)+1), trend, label=label)\n",
    "        yt, xt = titler.split(' - ')\n",
    "        plt.xlabel(xt)\n",
    "        plt.ylabel(yt)\n",
    "        plt.legend()"
   ],
   "metadata": {
    "execution": {
     "iopub.status.busy": "2024-01-11T23:23:20.029794Z",
     "iopub.execute_input": "2024-01-11T23:23:20.030279Z",
     "iopub.status.idle": "2024-01-11T23:23:20.044845Z",
     "shell.execute_reply.started": "2024-01-11T23:23:20.030248Z",
     "shell.execute_reply": "2024-01-11T23:23:20.043764Z"
    },
    "trusted": true,
    "id": "MDvPj-n3wE7Y"
   },
   "execution_count": null,
   "outputs": []
  },
  {
   "cell_type": "markdown",
   "source": [
    "## Ordinary VAE"
   ],
   "metadata": {
    "collapsed": false
   }
  },
  {
   "cell_type": "code",
   "execution_count": null,
   "outputs": [],
   "source": [
    "model_ovae = VAE(LATENT_DIM, Z_DIM).to(DEVICE)"
   ],
   "metadata": {
    "collapsed": false
   }
  },
  {
   "cell_type": "code",
   "execution_count": null,
   "outputs": [],
   "source": [
    "history = train_model(\n",
    "        model=model_ovae,\n",
    "        batch_size=BATCH_SIZE,\n",
    "        epochs=TRAIN_EPOCHS,\n",
    "        criterion=vae_loss,\n",
    "        train_set=train_dataset,\n",
    "        test_set=test_dataset,\n",
    "        lr=LEARNING_RATE,\n",
    ")"
   ],
   "metadata": {
    "collapsed": false
   }
  },
  {
   "cell_type": "code",
   "source": [
    "trend_plot_helper(\n",
    "    {\n",
    "        \"Train Loss - Epoch\": [\n",
    "            (\"Total\", history[\"Train_Total_Loss\"]),\n",
    "            (\"KL Dive\", history[\"Train_KL_Loss\"]),\n",
    "            (\"Reconstruction\", history[\"Train_Rec_Loss\"]),\n",
    "        ],\n",
    "        \"Test Loss - Epoch\": [\n",
    "            (\"Total\", history[\"Test_Total_Loss\"]),\n",
    "            (\"KL Dive\", history[\"Test_KL_Loss\"]),\n",
    "            (\"Reconstruction\", history[\"Test_Rec_Loss\"]),\n",
    "        ]\n",
    "    }\n",
    ")"
   ],
   "metadata": {
    "execution": {
     "iopub.status.busy": "2024-01-11T23:23:54.893121Z",
     "iopub.execute_input": "2024-01-11T23:23:54.893487Z",
     "iopub.status.idle": "2024-01-11T23:23:55.252248Z",
     "shell.execute_reply.started": "2024-01-11T23:23:54.893457Z",
     "shell.execute_reply": "2024-01-11T23:23:55.251125Z"
    },
    "trusted": true,
    "id": "0za_i2gzwE7Y",
    "outputId": "0403abd5-fd8c-47fa-f4f7-356c257c1627",
    "colab": {
     "base_uri": "https://localhost:8080/",
     "height": 487
    }
   },
   "execution_count": null,
   "outputs": []
  },
  {
   "cell_type": "code",
   "source": [
    "def plot_reconstructions(model, test_dataset, n=5):\n",
    "    test_dataloader = DataLoader(test_dataset, batch_size=BATCH_SIZE, shuffle=False)\n",
    "    model.eval()\n",
    "    with torch.no_grad():\n",
    "        batch = iter(test_dataloader).__next__()\n",
    "        x_hat, _, _ = model(batch)\n",
    "\n",
    "    plt.figure(figsize=(3*n, 5))\n",
    "    for i in range(n):\n",
    "        plt.subplot(2, n, i+1)\n",
    "        plt.imshow(batch[i][0].cpu(), cmap='gray')\n",
    "        plt.title(\"Original\")\n",
    "        plt.subplot(2, n, i+1+n)\n",
    "        plt.imshow(x_hat[i][0].cpu(), cmap='gray')\n",
    "        plt.title(\"Reconstructed\")\n",
    "    plt.axis('off')\n",
    "    plt.show()"
   ],
   "metadata": {
    "execution": {
     "iopub.status.busy": "2024-01-11T23:23:55.626405Z",
     "iopub.execute_input": "2024-01-11T23:23:55.626734Z",
     "iopub.status.idle": "2024-01-11T23:23:55.634747Z",
     "shell.execute_reply.started": "2024-01-11T23:23:55.626705Z",
     "shell.execute_reply": "2024-01-11T23:23:55.633674Z"
    },
    "trusted": true,
    "id": "g94LBIr9wE7Y"
   },
   "execution_count": null,
   "outputs": []
  },
  {
   "cell_type": "code",
   "source": [
    "plot_reconstructions(model_ovae, test_dataset)"
   ],
   "metadata": {
    "execution": {
     "iopub.status.busy": "2024-01-11T23:23:55.636012Z",
     "iopub.execute_input": "2024-01-11T23:23:55.636460Z",
     "iopub.status.idle": "2024-01-11T23:23:56.303312Z",
     "shell.execute_reply.started": "2024-01-11T23:23:55.636432Z",
     "shell.execute_reply": "2024-01-11T23:23:56.302231Z"
    },
    "trusted": true,
    "id": "cUyT9q6ywE7Z",
    "outputId": "f0931a50-f9a5-424c-a9d9-c2014bd1ce5f",
    "colab": {
     "base_uri": "https://localhost:8080/",
     "height": 338
    }
   },
   "execution_count": null,
   "outputs": []
  }
 ]
}
