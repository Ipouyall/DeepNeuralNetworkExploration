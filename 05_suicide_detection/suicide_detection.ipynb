{
 "cells": [
  {
   "cell_type": "code",
   "execution_count": 1,
   "outputs": [],
   "source": [
    "# !pip install gensim -q"
   ],
   "metadata": {
    "collapsed": false,
    "ExecuteTime": {
     "end_time": "2023-12-18T17:52:22.010485Z",
     "start_time": "2023-12-18T17:52:21.076905Z"
    }
   },
   "id": "fec65989e04597f0"
  },
  {
   "cell_type": "code",
   "execution_count": 1,
   "id": "initial_id",
   "metadata": {
    "collapsed": true,
    "ExecuteTime": {
     "end_time": "2023-12-18T18:59:09.172977Z",
     "start_time": "2023-12-18T18:59:07.765599Z"
    }
   },
   "outputs": [],
   "source": [
    "import string\n",
    "\n",
    "import pandas as pd\n",
    "import torch\n",
    "from torch import nn\n",
    "from torch.utils.data import DataLoader, Dataset\n",
    "from torchsummary import summary\n",
    "\n",
    "import gensim\n",
    "from IPython.display import clear_output\n",
    "\n",
    "import torchvision\n",
    "from torchvision import transforms\n",
    "\n",
    "from sklearn.model_selection import train_test_split\n",
    "import sklearn.metrics as metrics\n",
    "\n",
    "import matplotlib.pyplot as plt\n",
    "import seaborn as sns\n",
    "import numpy as np\n",
    "from tqdm import tqdm\n",
    "import gc\n",
    "import os\n",
    "\n",
    "import ssl\n",
    "ssl._create_default_https_context = ssl._create_unverified_context"
   ]
  },
  {
   "cell_type": "code",
   "execution_count": 4,
   "outputs": [],
   "source": [
    "MODE = \"local\" # valid modes are 'local', 'colab' and 'kaggle'\n",
    "SAMPLE_NUMBERS = 4"
   ],
   "metadata": {
    "collapsed": false,
    "ExecuteTime": {
     "end_time": "2023-12-18T18:59:13.731008Z",
     "start_time": "2023-12-18T18:59:13.707961Z"
    }
   },
   "id": "7a284f33993328c"
  },
  {
   "cell_type": "code",
   "execution_count": 5,
   "outputs": [],
   "source": [
    "if   MODE == \"local\":\n",
    "    BASE_PATH = \".\"\n",
    "elif MODE == \"colab\":\n",
    "    BASE_PATH = \"/content/drive/MyDrive/Deep Neural Network - UT/CA 04/suicide_detection.ipynb\"\n",
    "else:\n",
    "    print(f\"Unknown mode {MODE}\")\n",
    "    exit(1)"
   ],
   "metadata": {
    "collapsed": false,
    "ExecuteTime": {
     "end_time": "2023-12-18T18:59:14.031343Z",
     "start_time": "2023-12-18T18:59:14.016052Z"
    }
   },
   "id": "183e3ae190990fe3"
  },
  {
   "cell_type": "code",
   "execution_count": 6,
   "outputs": [],
   "source": [
    "DATA_PATH = os.path.join(BASE_PATH, \"twitter-suicidal_data.csv\")\n",
    "\n",
    "W2V_PATH = os.path.join(BASE_PATH, \"w2v_vectors.kv\")\n"
   ],
   "metadata": {
    "collapsed": false,
    "ExecuteTime": {
     "end_time": "2023-12-18T18:59:14.857686Z",
     "start_time": "2023-12-18T18:59:14.838867Z"
    }
   },
   "id": "b1f939dd5898a0b6"
  },
  {
   "cell_type": "markdown",
   "source": [
    "# Data Exploration"
   ],
   "metadata": {
    "collapsed": false
   },
   "id": "27110752c038c1d0"
  },
  {
   "cell_type": "markdown",
   "source": [
    "## Load Data"
   ],
   "metadata": {
    "collapsed": false
   },
   "id": "32b050729991fec9"
  },
  {
   "cell_type": "code",
   "execution_count": 7,
   "outputs": [],
   "source": [
    "df = pd.read_csv(DATA_PATH)"
   ],
   "metadata": {
    "collapsed": false,
    "ExecuteTime": {
     "end_time": "2023-12-18T18:59:18.633238Z",
     "start_time": "2023-12-18T18:59:18.582141Z"
    }
   },
   "id": "88e92f34d72c6f62"
  },
  {
   "cell_type": "markdown",
   "source": [
    "## Data statistics"
   ],
   "metadata": {
    "collapsed": false
   },
   "id": "194e8bd73f51d23b"
  },
  {
   "cell_type": "code",
   "execution_count": 7,
   "outputs": [
    {
     "data": {
      "text/plain": "                                               tweet  intention\n0  my life is meaningless i just want to end my l...          1\n1  muttering i wanna die to myself daily for a fe...          1\n2  work slave i really feel like my only purpose ...          1\n3  i did something on the 2 of october i overdose...          1\n4  i feel like no one cares i just want to die ma...          1",
      "text/html": "<div>\n<style scoped>\n    .dataframe tbody tr th:only-of-type {\n        vertical-align: middle;\n    }\n\n    .dataframe tbody tr th {\n        vertical-align: top;\n    }\n\n    .dataframe thead th {\n        text-align: right;\n    }\n</style>\n<table border=\"1\" class=\"dataframe\">\n  <thead>\n    <tr style=\"text-align: right;\">\n      <th></th>\n      <th>tweet</th>\n      <th>intention</th>\n    </tr>\n  </thead>\n  <tbody>\n    <tr>\n      <th>0</th>\n      <td>my life is meaningless i just want to end my l...</td>\n      <td>1</td>\n    </tr>\n    <tr>\n      <th>1</th>\n      <td>muttering i wanna die to myself daily for a fe...</td>\n      <td>1</td>\n    </tr>\n    <tr>\n      <th>2</th>\n      <td>work slave i really feel like my only purpose ...</td>\n      <td>1</td>\n    </tr>\n    <tr>\n      <th>3</th>\n      <td>i did something on the 2 of october i overdose...</td>\n      <td>1</td>\n    </tr>\n    <tr>\n      <th>4</th>\n      <td>i feel like no one cares i just want to die ma...</td>\n      <td>1</td>\n    </tr>\n  </tbody>\n</table>\n</div>"
     },
     "execution_count": 7,
     "metadata": {},
     "output_type": "execute_result"
    }
   ],
   "source": [
    "df.head(5)"
   ],
   "metadata": {
    "collapsed": false,
    "ExecuteTime": {
     "end_time": "2023-12-18T17:52:23.575974Z",
     "start_time": "2023-12-18T17:52:23.536082Z"
    }
   },
   "id": "eaa0e791280d469b"
  },
  {
   "cell_type": "code",
   "execution_count": 8,
   "outputs": [
    {
     "name": "stdout",
     "output_type": "stream",
     "text": [
      "<class 'pandas.core.frame.DataFrame'>\n",
      "RangeIndex: 9119 entries, 0 to 9118\n",
      "Data columns (total 2 columns):\n",
      " #   Column     Non-Null Count  Dtype \n",
      "---  ------     --------------  ----- \n",
      " 0   tweet      9119 non-null   object\n",
      " 1   intention  9119 non-null   int64 \n",
      "dtypes: int64(1), object(1)\n",
      "memory usage: 142.6+ KB\n"
     ]
    }
   ],
   "source": [
    "df.info()"
   ],
   "metadata": {
    "collapsed": false,
    "ExecuteTime": {
     "end_time": "2023-12-18T17:52:23.577667Z",
     "start_time": "2023-12-18T17:52:23.544560Z"
    }
   },
   "id": "9f8728ed33e76432"
  },
  {
   "cell_type": "code",
   "execution_count": 9,
   "outputs": [
    {
     "name": "stdout",
     "output_type": "stream",
     "text": [
      "Number of samples: 9119\n"
     ]
    }
   ],
   "source": [
    "print(f\"Number of samples: {len(df)}\")"
   ],
   "metadata": {
    "collapsed": false,
    "ExecuteTime": {
     "end_time": "2023-12-18T17:52:23.577909Z",
     "start_time": "2023-12-18T17:52:23.551657Z"
    }
   },
   "id": "be081ae5bbcd06a6"
  },
  {
   "cell_type": "code",
   "execution_count": 10,
   "outputs": [
    {
     "data": {
      "text/plain": "<Figure size 700x500 with 1 Axes>",
      "image/png": "[encoded data removed]"
     },
     "metadata": {},
     "output_type": "display_data"
    }
   ],
   "source": [
    "intentions = df[\"intention\"].value_counts()\n",
    "\n",
    "plt.figure(figsize=(7, 5))\n",
    "sns.barplot(x=intentions.index, y=intentions.values)\n",
    "plt.title(\"Intentions Distribution\")\n",
    "plt.show()"
   ],
   "metadata": {
    "collapsed": false,
    "ExecuteTime": {
     "end_time": "2023-12-18T17:52:24.019469Z",
     "start_time": "2023-12-18T17:52:23.554455Z"
    }
   },
   "id": "7b8c06e8ae4c8406"
  },
  {
   "cell_type": "markdown",
   "source": [
    "# Data Preprocessing"
   ],
   "metadata": {
    "collapsed": false
   },
   "id": "57f7552c58ea498e"
  },
  {
   "cell_type": "code",
   "execution_count": 11,
   "outputs": [
    {
     "name": "stderr",
     "output_type": "stream",
     "text": [
      "[nltk_data] Downloading package stopwords to\n",
      "[nltk_data]     /Users/pooyasadeghi/nltk_data...\n",
      "[nltk_data]   Package stopwords is already up-to-date!\n",
      "[nltk_data] Downloading package punkt to\n",
      "[nltk_data]     /Users/pooyasadeghi/nltk_data...\n",
      "[nltk_data]   Package punkt is already up-to-date!\n",
      "[nltk_data] Downloading package wordnet to\n",
      "[nltk_data]     /Users/pooyasadeghi/nltk_data...\n",
      "[nltk_data]   Package wordnet is already up-to-date!\n"
     ]
    },
    {
     "data": {
      "text/plain": "True"
     },
     "execution_count": 11,
     "metadata": {},
     "output_type": "execute_result"
    }
   ],
   "source": [
    "import nltk\n",
    "import emoji\n",
    "import re\n",
    "\n",
    "nltk.download([\"stopwords\", \"punkt\", \"wordnet\"])"
   ],
   "metadata": {
    "collapsed": false,
    "ExecuteTime": {
     "end_time": "2023-12-18T17:52:26.406222Z",
     "start_time": "2023-12-18T17:52:23.721079Z"
    }
   },
   "id": "f16efd0184e90f40"
  },
  {
   "cell_type": "code",
   "execution_count": 12,
   "outputs": [],
   "source": [
    "def convert_emoji_to_text(text):\n",
    "    return emoji.demojize(text, delimiters=(\" \", \" \"))\n",
    "\n",
    "stopwords = nltk.corpus.stopwords.words(\"english\")\n",
    "lemmatizer = nltk.stem.WordNetLemmatizer()\n",
    "\n",
    "def nltk_pos_tagger(nltk_tag):\n",
    "    if nltk_tag.startswith('J'):\n",
    "        return 'a'\n",
    "    elif nltk_tag.startswith('V'):\n",
    "        return 'v'\n",
    "    elif nltk_tag.startswith('N'):\n",
    "        return 'n'\n",
    "    elif nltk_tag.startswith('R'):\n",
    "        return 'r'\n",
    "    else:          \n",
    "        return 'n'\n",
    "\n",
    "def preprocess_data(text: str):\n",
    "    \"\"\"\n",
    "    Preprocessing steps are as follows:\n",
    "    0. concatenation of the text (not necessary)\n",
    "    1. lowercase the text\n",
    "    2. remove punctuation\n",
    "    3. remove numbers\n",
    "    4. remove urls\n",
    "    5. remove usernames\n",
    "    6. remove extra spaces\n",
    "    7. convert emojis to text\n",
    "    8. remove non-word characters\n",
    "    9. lemmatization and tokenization of the text\n",
    "    10. remove stopwords\n",
    "    :param text: str\n",
    "    :return: tokens: list[str]\n",
    "    \"\"\"\n",
    "    # text = ''.join(text)\n",
    "    # lowercase the text\n",
    "    text = text.lower()\n",
    "    # remove punctuation\n",
    "    text = re.sub(r\"[^\\w\\s]\", \"\", text)\n",
    "    # remove numbers\n",
    "    text = re.sub(r\"\\d+\", \"\", text)\n",
    "    # remove urls,\n",
    "    text = re.sub(r'http\\S+|www\\S+|https\\S+', '', text)\n",
    "    # remove usernames\n",
    "    text = re.sub(r'@\\S+', '', text)\n",
    "    # remove extra spaces\n",
    "    text = re.sub(r'\\s+', ' ', text)\n",
    "    # convert emojis to text\n",
    "    text = convert_emoji_to_text(text)\n",
    "    # remove non-word characters\n",
    "    text = re.sub(r\"[^\\w\\s]\", \"\", text)\n",
    "    # lemmatization and tokenization of the text\n",
    "    tokenized = nltk.word_tokenize(text)\n",
    "    pos_tag = nltk.pos_tag(tokenized)\n",
    "    tokens = [\n",
    "        lemmatizer.lemmatize(token, nltk_pos_tagger(tag))\n",
    "        for token, tag in pos_tag\n",
    "    ]\n",
    "    # remove stopwords\n",
    "    tokens = [token for token in tokens if token not in stopwords]\n",
    "    \n",
    "    return tokens\n",
    "    "
   ],
   "metadata": {
    "collapsed": false,
    "ExecuteTime": {
     "end_time": "2023-12-18T17:52:26.411755Z",
     "start_time": "2023-12-18T17:52:26.407248Z"
    }
   },
   "id": "dbe50f445aa09ecc"
  },
  {
   "cell_type": "code",
   "execution_count": 13,
   "outputs": [],
   "source": [
    "def format_length_bound(text: str, length:int):\n",
    "    if len(text) <= length:\n",
    "        return text\n",
    "    mm = length // 2 - 3\n",
    "    rr = length - mm - 5\n",
    "    return text[:mm] + \"|...|\" + text[-rr:]\n",
    "    \n",
    "def draw_sample_processing(dataframe: pd.DataFrame, sample_numbers: int = SAMPLE_NUMBERS, show=True):\n",
    "    sample_text = dataframe.sample(sample_numbers)\n",
    "    label_rawT_procT = [\n",
    "        (label, tweet, preprocess_data(tweet)) \n",
    "        for tweet, label in zip(sample_text[\"tweet\"], sample_text[\"intention\"])\n",
    "    ]\n",
    "    if show:\n",
    "        for idx, (label, rawT, procT) in enumerate(label_rawT_procT, start=1):\n",
    "            procT = str(procT)\n",
    "            print(f\"Sample {idx}:\")\n",
    "            print(f\":::::::Label          : {label}\")\n",
    "            print(f\":::::::Raw Tweet      : {format_length_bound(rawT, 50):<50} ({len(rawT)})\")\n",
    "            print(f\":::::::Processed Tweet: {format_length_bound(procT, 50):<50} ({len(procT)})\")\n",
    "        return \n",
    "    return pd.DataFrame(label_rawT_procT, columns=[\"Intention\", \"Raw Tweet\", \"Processed Tweet\"])"
   ],
   "metadata": {
    "collapsed": false,
    "ExecuteTime": {
     "end_time": "2023-12-18T17:52:26.426470Z",
     "start_time": "2023-12-18T17:52:26.416562Z"
    }
   },
   "id": "11ac7d394e03d9f"
  },
  {
   "cell_type": "code",
   "execution_count": 14,
   "outputs": [
    {
     "name": "stdout",
     "output_type": "stream",
     "text": [
      "Sample 1:\n",
      ":::::::Label          : 0\n",
      ":::::::Raw Tweet      : i m tryna get on twitt|...| t let me use the comp  (83)\n",
      ":::::::Processed Tweet: ['tryna', 'get', 'twit|...|, 'let', 'use', 'comp'] (90)\n",
      "Sample 2:\n",
      ":::::::Label          : 0\n",
      ":::::::Raw Tweet      :  i m looking for it my|...|forecast for later too  (67)\n",
      ":::::::Processed Tweet: ['look', 'rain', 'forecast', 'later']              (37)\n",
      "Sample 3:\n",
      ":::::::Label          : 0\n",
      ":::::::Raw Tweet      : i want to die                                      (13)\n",
      ":::::::Processed Tweet: ['want', 'die']                                    (15)\n",
      "Sample 4:\n",
      ":::::::Label          : 0\n",
      ":::::::Raw Tweet      : in pain right now expecting more pain in due time  (50)\n",
      ":::::::Processed Tweet: ['pain', 'right', 'expect', 'pain', 'due', 'time'] (50)\n"
     ]
    }
   ],
   "source": [
    "draw_sample_processing(df, show=True)"
   ],
   "metadata": {
    "collapsed": false,
    "ExecuteTime": {
     "end_time": "2023-12-18T17:52:27.197042Z",
     "start_time": "2023-12-18T17:52:26.425286Z"
    }
   },
   "id": "6a757363e6e6cbf"
  },
  {
   "cell_type": "code",
   "execution_count": 14,
   "outputs": [],
   "source": [],
   "metadata": {
    "collapsed": false,
    "ExecuteTime": {
     "end_time": "2023-12-18T17:52:27.199427Z",
     "start_time": "2023-12-18T17:52:27.196560Z"
    }
   },
   "id": "3a8f603c1fba10ee"
  },
  {
   "cell_type": "markdown",
   "source": [
    "# Word2Vec - Word Embedding"
   ],
   "metadata": {
    "collapsed": false
   },
   "id": "2e129c7a31663741"
  },
  {
   "cell_type": "code",
   "execution_count": 15,
   "outputs": [
    {
     "name": "stdout",
     "output_type": "stream",
     "text": [
      "['fasttext-wiki-news-subwords-300', 'conceptnet-numberbatch-17-06-300', 'word2vec-ruscorpora-300', 'word2vec-google-news-300', 'glove-wiki-gigaword-50', 'glove-wiki-gigaword-100', 'glove-wiki-gigaword-200', 'glove-wiki-gigaword-300', 'glove-twitter-25', 'glove-twitter-50', 'glove-twitter-100', 'glove-twitter-200', '__testing_word2vec-matrix-synopsis']\n"
     ]
    }
   ],
   "source": [
    "# print available word2vec models\n",
    "import gensim.downloader as api\n",
    "print(list(api.info()['models'].keys()))"
   ],
   "metadata": {
    "collapsed": false,
    "ExecuteTime": {
     "end_time": "2023-12-18T17:52:29.432735Z",
     "start_time": "2023-12-18T17:52:27.199018Z"
    }
   },
   "id": "8d15b31459fd1e5"
  },
  {
   "cell_type": "code",
   "execution_count": 16,
   "outputs": [
    {
     "name": "stdout",
     "output_type": "stream",
     "text": [
      "Downloading Word2Vec model...\n"
     ]
    },
    {
     "ename": "KeyboardInterrupt",
     "evalue": "",
     "output_type": "error",
     "traceback": [
      "\u001B[0;31m---------------------------------------------------------------------------\u001B[0m",
      "\u001B[0;31mKeyboardInterrupt\u001B[0m                         Traceback (most recent call last)",
      "Cell \u001B[0;32mIn[16], line 6\u001B[0m\n\u001B[1;32m      4\u001B[0m \u001B[38;5;28;01melse\u001B[39;00m:\n\u001B[1;32m      5\u001B[0m     \u001B[38;5;28mprint\u001B[39m(\u001B[38;5;124m\"\u001B[39m\u001B[38;5;124mDownloading Word2Vec model...\u001B[39m\u001B[38;5;124m\"\u001B[39m)\n\u001B[0;32m----> 6\u001B[0m     w2v_model \u001B[38;5;241m=\u001B[39m \u001B[43mapi\u001B[49m\u001B[38;5;241;43m.\u001B[39;49m\u001B[43mload\u001B[49m\u001B[43m(\u001B[49m\u001B[38;5;124;43m\"\u001B[39;49m\u001B[38;5;124;43mword2vec-google-news-300\u001B[39;49m\u001B[38;5;124;43m\"\u001B[39;49m\u001B[43m)\u001B[49m\n\u001B[1;32m      7\u001B[0m     \u001B[38;5;28mprint\u001B[39m(\u001B[38;5;124m\"\u001B[39m\u001B[38;5;124mSaving Word2Vec model...\u001B[39m\u001B[38;5;124m\"\u001B[39m)\n\u001B[1;32m      8\u001B[0m     w2v_model\u001B[38;5;241m.\u001B[39msave(W2V_PATH)\n",
      "File \u001B[0;32m~/PycharmProjects/CNN-exploration/venvv/lib/python3.11/site-packages/gensim/downloader.py:496\u001B[0m, in \u001B[0;36mload\u001B[0;34m(name, return_path)\u001B[0m\n\u001B[1;32m    494\u001B[0m path \u001B[38;5;241m=\u001B[39m os\u001B[38;5;241m.\u001B[39mpath\u001B[38;5;241m.\u001B[39mjoin(folder_dir, file_name)\n\u001B[1;32m    495\u001B[0m \u001B[38;5;28;01mif\u001B[39;00m \u001B[38;5;129;01mnot\u001B[39;00m os\u001B[38;5;241m.\u001B[39mpath\u001B[38;5;241m.\u001B[39mexists(folder_dir):\n\u001B[0;32m--> 496\u001B[0m     \u001B[43m_download\u001B[49m\u001B[43m(\u001B[49m\u001B[43mname\u001B[49m\u001B[43m)\u001B[49m\n\u001B[1;32m    498\u001B[0m \u001B[38;5;28;01mif\u001B[39;00m return_path:\n\u001B[1;32m    499\u001B[0m     \u001B[38;5;28;01mreturn\u001B[39;00m path\n",
      "File \u001B[0;32m~/PycharmProjects/CNN-exploration/venvv/lib/python3.11/site-packages/gensim/downloader.py:366\u001B[0m, in \u001B[0;36m_download\u001B[0;34m(name)\u001B[0m\n\u001B[1;32m    364\u001B[0m init_path \u001B[38;5;241m=\u001B[39m os\u001B[38;5;241m.\u001B[39mpath\u001B[38;5;241m.\u001B[39mjoin(tmp_dir, \u001B[38;5;124m\"\u001B[39m\u001B[38;5;124m__init__.py\u001B[39m\u001B[38;5;124m\"\u001B[39m)\n\u001B[1;32m    365\u001B[0m urllib\u001B[38;5;241m.\u001B[39murlretrieve(url_load_file, init_path)\n\u001B[0;32m--> 366\u001B[0m total_parts \u001B[38;5;241m=\u001B[39m \u001B[43m_get_parts\u001B[49m\u001B[43m(\u001B[49m\u001B[43mname\u001B[49m\u001B[43m)\u001B[49m\n\u001B[1;32m    367\u001B[0m \u001B[38;5;28;01mif\u001B[39;00m total_parts \u001B[38;5;241m>\u001B[39m \u001B[38;5;241m1\u001B[39m:\n\u001B[1;32m    368\u001B[0m     concatenated_folder_name \u001B[38;5;241m=\u001B[39m \u001B[38;5;124m\"\u001B[39m\u001B[38;5;132;01m{fname}\u001B[39;00m\u001B[38;5;124m.gz\u001B[39m\u001B[38;5;124m\"\u001B[39m\u001B[38;5;241m.\u001B[39mformat(fname\u001B[38;5;241m=\u001B[39mname)\n",
      "File \u001B[0;32m~/PycharmProjects/CNN-exploration/venvv/lib/python3.11/site-packages/gensim/downloader.py:337\u001B[0m, in \u001B[0;36m_get_parts\u001B[0;34m(name)\u001B[0m\n\u001B[1;32m    323\u001B[0m \u001B[38;5;28;01mdef\u001B[39;00m \u001B[38;5;21m_get_parts\u001B[39m(name):\n\u001B[1;32m    324\u001B[0m \u001B[38;5;250m    \u001B[39m\u001B[38;5;124;03m\"\"\"Retrieve the number of parts in which dataset/model has been split.\u001B[39;00m\n\u001B[1;32m    325\u001B[0m \n\u001B[1;32m    326\u001B[0m \u001B[38;5;124;03m    Parameters\u001B[39;00m\n\u001B[0;32m   (...)\u001B[0m\n\u001B[1;32m    335\u001B[0m \n\u001B[1;32m    336\u001B[0m \u001B[38;5;124;03m    \"\"\"\u001B[39;00m\n\u001B[0;32m--> 337\u001B[0m     information \u001B[38;5;241m=\u001B[39m \u001B[43minfo\u001B[49m\u001B[43m(\u001B[49m\u001B[43m)\u001B[49m\n\u001B[1;32m    338\u001B[0m     corpora \u001B[38;5;241m=\u001B[39m information[\u001B[38;5;124m'\u001B[39m\u001B[38;5;124mcorpora\u001B[39m\u001B[38;5;124m'\u001B[39m]\n\u001B[1;32m    339\u001B[0m     models \u001B[38;5;241m=\u001B[39m information[\u001B[38;5;124m'\u001B[39m\u001B[38;5;124mmodels\u001B[39m\u001B[38;5;124m'\u001B[39m]\n",
      "File \u001B[0;32m~/PycharmProjects/CNN-exploration/venvv/lib/python3.11/site-packages/gensim/downloader.py:268\u001B[0m, in \u001B[0;36minfo\u001B[0;34m(name, show_only_latest, name_only)\u001B[0m\n\u001B[1;32m    228\u001B[0m \u001B[38;5;28;01mdef\u001B[39;00m \u001B[38;5;21minfo\u001B[39m(name\u001B[38;5;241m=\u001B[39m\u001B[38;5;28;01mNone\u001B[39;00m, show_only_latest\u001B[38;5;241m=\u001B[39m\u001B[38;5;28;01mTrue\u001B[39;00m, name_only\u001B[38;5;241m=\u001B[39m\u001B[38;5;28;01mFalse\u001B[39;00m):\n\u001B[1;32m    229\u001B[0m \u001B[38;5;250m    \u001B[39m\u001B[38;5;124;03m\"\"\"Provide the information related to model/dataset.\u001B[39;00m\n\u001B[1;32m    230\u001B[0m \n\u001B[1;32m    231\u001B[0m \u001B[38;5;124;03m    Parameters\u001B[39;00m\n\u001B[0;32m   (...)\u001B[0m\n\u001B[1;32m    266\u001B[0m \n\u001B[1;32m    267\u001B[0m \u001B[38;5;124;03m    \"\"\"\u001B[39;00m\n\u001B[0;32m--> 268\u001B[0m     information \u001B[38;5;241m=\u001B[39m \u001B[43m_load_info\u001B[49m\u001B[43m(\u001B[49m\u001B[43m)\u001B[49m\n\u001B[1;32m    270\u001B[0m     \u001B[38;5;28;01mif\u001B[39;00m name \u001B[38;5;129;01mis\u001B[39;00m \u001B[38;5;129;01mnot\u001B[39;00m \u001B[38;5;28;01mNone\u001B[39;00m:\n\u001B[1;32m    271\u001B[0m         corpora \u001B[38;5;241m=\u001B[39m information[\u001B[38;5;124m'\u001B[39m\u001B[38;5;124mcorpora\u001B[39m\u001B[38;5;124m'\u001B[39m]\n",
      "File \u001B[0;32m~/PycharmProjects/CNN-exploration/venvv/lib/python3.11/site-packages/gensim/downloader.py:199\u001B[0m, in \u001B[0;36m_load_info\u001B[0;34m(url, encoding)\u001B[0m\n\u001B[1;32m    196\u001B[0m _create_base_dir()\n\u001B[1;32m    198\u001B[0m \u001B[38;5;28;01mtry\u001B[39;00m:\n\u001B[0;32m--> 199\u001B[0m     info_bytes \u001B[38;5;241m=\u001B[39m \u001B[43murlopen\u001B[49m\u001B[43m(\u001B[49m\u001B[43murl\u001B[49m\u001B[43m)\u001B[49m\u001B[38;5;241m.\u001B[39mread()\n\u001B[1;32m    200\u001B[0m \u001B[38;5;28;01mexcept\u001B[39;00m (\u001B[38;5;167;01mOSError\u001B[39;00m, \u001B[38;5;167;01mIOError\u001B[39;00m):\n\u001B[1;32m    201\u001B[0m     \u001B[38;5;66;03m#\u001B[39;00m\n\u001B[1;32m    202\u001B[0m     \u001B[38;5;66;03m# The exception raised by urlopen differs between Py2 and Py3.\u001B[39;00m\n\u001B[0;32m   (...)\u001B[0m\n\u001B[1;32m    205\u001B[0m     \u001B[38;5;66;03m# https://docs.python.org/2/library/urllib.html\u001B[39;00m\n\u001B[1;32m    206\u001B[0m     \u001B[38;5;66;03m#\u001B[39;00m\n\u001B[1;32m    207\u001B[0m     logger\u001B[38;5;241m.\u001B[39mexception(\n\u001B[1;32m    208\u001B[0m         \u001B[38;5;124m'\u001B[39m\u001B[38;5;124mcaught non-fatal exception while trying to update gensim-data cache from \u001B[39m\u001B[38;5;132;01m%r\u001B[39;00m\u001B[38;5;124m; \u001B[39m\u001B[38;5;124m'\u001B[39m\n\u001B[1;32m    209\u001B[0m         \u001B[38;5;124m'\u001B[39m\u001B[38;5;124musing local cache at \u001B[39m\u001B[38;5;132;01m%r\u001B[39;00m\u001B[38;5;124m instead\u001B[39m\u001B[38;5;124m'\u001B[39m, url, cache_path\n\u001B[1;32m    210\u001B[0m     )\n",
      "File \u001B[0;32m/Library/Frameworks/Python.framework/Versions/3.11/lib/python3.11/urllib/request.py:216\u001B[0m, in \u001B[0;36murlopen\u001B[0;34m(url, data, timeout, cafile, capath, cadefault, context)\u001B[0m\n\u001B[1;32m    214\u001B[0m \u001B[38;5;28;01melse\u001B[39;00m:\n\u001B[1;32m    215\u001B[0m     opener \u001B[38;5;241m=\u001B[39m _opener\n\u001B[0;32m--> 216\u001B[0m \u001B[38;5;28;01mreturn\u001B[39;00m \u001B[43mopener\u001B[49m\u001B[38;5;241;43m.\u001B[39;49m\u001B[43mopen\u001B[49m\u001B[43m(\u001B[49m\u001B[43murl\u001B[49m\u001B[43m,\u001B[49m\u001B[43m \u001B[49m\u001B[43mdata\u001B[49m\u001B[43m,\u001B[49m\u001B[43m \u001B[49m\u001B[43mtimeout\u001B[49m\u001B[43m)\u001B[49m\n",
      "File \u001B[0;32m/Library/Frameworks/Python.framework/Versions/3.11/lib/python3.11/urllib/request.py:519\u001B[0m, in \u001B[0;36mOpenerDirector.open\u001B[0;34m(self, fullurl, data, timeout)\u001B[0m\n\u001B[1;32m    516\u001B[0m     req \u001B[38;5;241m=\u001B[39m meth(req)\n\u001B[1;32m    518\u001B[0m sys\u001B[38;5;241m.\u001B[39maudit(\u001B[38;5;124m'\u001B[39m\u001B[38;5;124murllib.Request\u001B[39m\u001B[38;5;124m'\u001B[39m, req\u001B[38;5;241m.\u001B[39mfull_url, req\u001B[38;5;241m.\u001B[39mdata, req\u001B[38;5;241m.\u001B[39mheaders, req\u001B[38;5;241m.\u001B[39mget_method())\n\u001B[0;32m--> 519\u001B[0m response \u001B[38;5;241m=\u001B[39m \u001B[38;5;28;43mself\u001B[39;49m\u001B[38;5;241;43m.\u001B[39;49m\u001B[43m_open\u001B[49m\u001B[43m(\u001B[49m\u001B[43mreq\u001B[49m\u001B[43m,\u001B[49m\u001B[43m \u001B[49m\u001B[43mdata\u001B[49m\u001B[43m)\u001B[49m\n\u001B[1;32m    521\u001B[0m \u001B[38;5;66;03m# post-process response\u001B[39;00m\n\u001B[1;32m    522\u001B[0m meth_name \u001B[38;5;241m=\u001B[39m protocol\u001B[38;5;241m+\u001B[39m\u001B[38;5;124m\"\u001B[39m\u001B[38;5;124m_response\u001B[39m\u001B[38;5;124m\"\u001B[39m\n",
      "File \u001B[0;32m/Library/Frameworks/Python.framework/Versions/3.11/lib/python3.11/urllib/request.py:536\u001B[0m, in \u001B[0;36mOpenerDirector._open\u001B[0;34m(self, req, data)\u001B[0m\n\u001B[1;32m    533\u001B[0m     \u001B[38;5;28;01mreturn\u001B[39;00m result\n\u001B[1;32m    535\u001B[0m protocol \u001B[38;5;241m=\u001B[39m req\u001B[38;5;241m.\u001B[39mtype\n\u001B[0;32m--> 536\u001B[0m result \u001B[38;5;241m=\u001B[39m \u001B[38;5;28;43mself\u001B[39;49m\u001B[38;5;241;43m.\u001B[39;49m\u001B[43m_call_chain\u001B[49m\u001B[43m(\u001B[49m\u001B[38;5;28;43mself\u001B[39;49m\u001B[38;5;241;43m.\u001B[39;49m\u001B[43mhandle_open\u001B[49m\u001B[43m,\u001B[49m\u001B[43m \u001B[49m\u001B[43mprotocol\u001B[49m\u001B[43m,\u001B[49m\u001B[43m \u001B[49m\u001B[43mprotocol\u001B[49m\u001B[43m \u001B[49m\u001B[38;5;241;43m+\u001B[39;49m\n\u001B[1;32m    537\u001B[0m \u001B[43m                          \u001B[49m\u001B[38;5;124;43m'\u001B[39;49m\u001B[38;5;124;43m_open\u001B[39;49m\u001B[38;5;124;43m'\u001B[39;49m\u001B[43m,\u001B[49m\u001B[43m \u001B[49m\u001B[43mreq\u001B[49m\u001B[43m)\u001B[49m\n\u001B[1;32m    538\u001B[0m \u001B[38;5;28;01mif\u001B[39;00m result:\n\u001B[1;32m    539\u001B[0m     \u001B[38;5;28;01mreturn\u001B[39;00m result\n",
      "File \u001B[0;32m/Library/Frameworks/Python.framework/Versions/3.11/lib/python3.11/urllib/request.py:496\u001B[0m, in \u001B[0;36mOpenerDirector._call_chain\u001B[0;34m(self, chain, kind, meth_name, *args)\u001B[0m\n\u001B[1;32m    494\u001B[0m \u001B[38;5;28;01mfor\u001B[39;00m handler \u001B[38;5;129;01min\u001B[39;00m handlers:\n\u001B[1;32m    495\u001B[0m     func \u001B[38;5;241m=\u001B[39m \u001B[38;5;28mgetattr\u001B[39m(handler, meth_name)\n\u001B[0;32m--> 496\u001B[0m     result \u001B[38;5;241m=\u001B[39m \u001B[43mfunc\u001B[49m\u001B[43m(\u001B[49m\u001B[38;5;241;43m*\u001B[39;49m\u001B[43margs\u001B[49m\u001B[43m)\u001B[49m\n\u001B[1;32m    497\u001B[0m     \u001B[38;5;28;01mif\u001B[39;00m result \u001B[38;5;129;01mis\u001B[39;00m \u001B[38;5;129;01mnot\u001B[39;00m \u001B[38;5;28;01mNone\u001B[39;00m:\n\u001B[1;32m    498\u001B[0m         \u001B[38;5;28;01mreturn\u001B[39;00m result\n",
      "File \u001B[0;32m/Library/Frameworks/Python.framework/Versions/3.11/lib/python3.11/urllib/request.py:1391\u001B[0m, in \u001B[0;36mHTTPSHandler.https_open\u001B[0;34m(self, req)\u001B[0m\n\u001B[1;32m   1390\u001B[0m \u001B[38;5;28;01mdef\u001B[39;00m \u001B[38;5;21mhttps_open\u001B[39m(\u001B[38;5;28mself\u001B[39m, req):\n\u001B[0;32m-> 1391\u001B[0m     \u001B[38;5;28;01mreturn\u001B[39;00m \u001B[38;5;28;43mself\u001B[39;49m\u001B[38;5;241;43m.\u001B[39;49m\u001B[43mdo_open\u001B[49m\u001B[43m(\u001B[49m\u001B[43mhttp\u001B[49m\u001B[38;5;241;43m.\u001B[39;49m\u001B[43mclient\u001B[49m\u001B[38;5;241;43m.\u001B[39;49m\u001B[43mHTTPSConnection\u001B[49m\u001B[43m,\u001B[49m\u001B[43m \u001B[49m\u001B[43mreq\u001B[49m\u001B[43m,\u001B[49m\n\u001B[1;32m   1392\u001B[0m \u001B[43m        \u001B[49m\u001B[43mcontext\u001B[49m\u001B[38;5;241;43m=\u001B[39;49m\u001B[38;5;28;43mself\u001B[39;49m\u001B[38;5;241;43m.\u001B[39;49m\u001B[43m_context\u001B[49m\u001B[43m,\u001B[49m\u001B[43m \u001B[49m\u001B[43mcheck_hostname\u001B[49m\u001B[38;5;241;43m=\u001B[39;49m\u001B[38;5;28;43mself\u001B[39;49m\u001B[38;5;241;43m.\u001B[39;49m\u001B[43m_check_hostname\u001B[49m\u001B[43m)\u001B[49m\n",
      "File \u001B[0;32m/Library/Frameworks/Python.framework/Versions/3.11/lib/python3.11/urllib/request.py:1348\u001B[0m, in \u001B[0;36mAbstractHTTPHandler.do_open\u001B[0;34m(self, http_class, req, **http_conn_args)\u001B[0m\n\u001B[1;32m   1346\u001B[0m \u001B[38;5;28;01mtry\u001B[39;00m:\n\u001B[1;32m   1347\u001B[0m     \u001B[38;5;28;01mtry\u001B[39;00m:\n\u001B[0;32m-> 1348\u001B[0m         \u001B[43mh\u001B[49m\u001B[38;5;241;43m.\u001B[39;49m\u001B[43mrequest\u001B[49m\u001B[43m(\u001B[49m\u001B[43mreq\u001B[49m\u001B[38;5;241;43m.\u001B[39;49m\u001B[43mget_method\u001B[49m\u001B[43m(\u001B[49m\u001B[43m)\u001B[49m\u001B[43m,\u001B[49m\u001B[43m \u001B[49m\u001B[43mreq\u001B[49m\u001B[38;5;241;43m.\u001B[39;49m\u001B[43mselector\u001B[49m\u001B[43m,\u001B[49m\u001B[43m \u001B[49m\u001B[43mreq\u001B[49m\u001B[38;5;241;43m.\u001B[39;49m\u001B[43mdata\u001B[49m\u001B[43m,\u001B[49m\u001B[43m \u001B[49m\u001B[43mheaders\u001B[49m\u001B[43m,\u001B[49m\n\u001B[1;32m   1349\u001B[0m \u001B[43m                  \u001B[49m\u001B[43mencode_chunked\u001B[49m\u001B[38;5;241;43m=\u001B[39;49m\u001B[43mreq\u001B[49m\u001B[38;5;241;43m.\u001B[39;49m\u001B[43mhas_header\u001B[49m\u001B[43m(\u001B[49m\u001B[38;5;124;43m'\u001B[39;49m\u001B[38;5;124;43mTransfer-encoding\u001B[39;49m\u001B[38;5;124;43m'\u001B[39;49m\u001B[43m)\u001B[49m\u001B[43m)\u001B[49m\n\u001B[1;32m   1350\u001B[0m     \u001B[38;5;28;01mexcept\u001B[39;00m \u001B[38;5;167;01mOSError\u001B[39;00m \u001B[38;5;28;01mas\u001B[39;00m err: \u001B[38;5;66;03m# timeout error\u001B[39;00m\n\u001B[1;32m   1351\u001B[0m         \u001B[38;5;28;01mraise\u001B[39;00m URLError(err)\n",
      "File \u001B[0;32m/Library/Frameworks/Python.framework/Versions/3.11/lib/python3.11/http/client.py:1282\u001B[0m, in \u001B[0;36mHTTPConnection.request\u001B[0;34m(self, method, url, body, headers, encode_chunked)\u001B[0m\n\u001B[1;32m   1279\u001B[0m \u001B[38;5;28;01mdef\u001B[39;00m \u001B[38;5;21mrequest\u001B[39m(\u001B[38;5;28mself\u001B[39m, method, url, body\u001B[38;5;241m=\u001B[39m\u001B[38;5;28;01mNone\u001B[39;00m, headers\u001B[38;5;241m=\u001B[39m{}, \u001B[38;5;241m*\u001B[39m,\n\u001B[1;32m   1280\u001B[0m             encode_chunked\u001B[38;5;241m=\u001B[39m\u001B[38;5;28;01mFalse\u001B[39;00m):\n\u001B[1;32m   1281\u001B[0m \u001B[38;5;250m    \u001B[39m\u001B[38;5;124;03m\"\"\"Send a complete request to the server.\"\"\"\u001B[39;00m\n\u001B[0;32m-> 1282\u001B[0m     \u001B[38;5;28;43mself\u001B[39;49m\u001B[38;5;241;43m.\u001B[39;49m\u001B[43m_send_request\u001B[49m\u001B[43m(\u001B[49m\u001B[43mmethod\u001B[49m\u001B[43m,\u001B[49m\u001B[43m \u001B[49m\u001B[43murl\u001B[49m\u001B[43m,\u001B[49m\u001B[43m \u001B[49m\u001B[43mbody\u001B[49m\u001B[43m,\u001B[49m\u001B[43m \u001B[49m\u001B[43mheaders\u001B[49m\u001B[43m,\u001B[49m\u001B[43m \u001B[49m\u001B[43mencode_chunked\u001B[49m\u001B[43m)\u001B[49m\n",
      "File \u001B[0;32m/Library/Frameworks/Python.framework/Versions/3.11/lib/python3.11/http/client.py:1328\u001B[0m, in \u001B[0;36mHTTPConnection._send_request\u001B[0;34m(self, method, url, body, headers, encode_chunked)\u001B[0m\n\u001B[1;32m   1324\u001B[0m \u001B[38;5;28;01mif\u001B[39;00m \u001B[38;5;28misinstance\u001B[39m(body, \u001B[38;5;28mstr\u001B[39m):\n\u001B[1;32m   1325\u001B[0m     \u001B[38;5;66;03m# RFC 2616 Section 3.7.1 says that text default has a\u001B[39;00m\n\u001B[1;32m   1326\u001B[0m     \u001B[38;5;66;03m# default charset of iso-8859-1.\u001B[39;00m\n\u001B[1;32m   1327\u001B[0m     body \u001B[38;5;241m=\u001B[39m _encode(body, \u001B[38;5;124m'\u001B[39m\u001B[38;5;124mbody\u001B[39m\u001B[38;5;124m'\u001B[39m)\n\u001B[0;32m-> 1328\u001B[0m \u001B[38;5;28;43mself\u001B[39;49m\u001B[38;5;241;43m.\u001B[39;49m\u001B[43mendheaders\u001B[49m\u001B[43m(\u001B[49m\u001B[43mbody\u001B[49m\u001B[43m,\u001B[49m\u001B[43m \u001B[49m\u001B[43mencode_chunked\u001B[49m\u001B[38;5;241;43m=\u001B[39;49m\u001B[43mencode_chunked\u001B[49m\u001B[43m)\u001B[49m\n",
      "File \u001B[0;32m/Library/Frameworks/Python.framework/Versions/3.11/lib/python3.11/http/client.py:1277\u001B[0m, in \u001B[0;36mHTTPConnection.endheaders\u001B[0;34m(self, message_body, encode_chunked)\u001B[0m\n\u001B[1;32m   1275\u001B[0m \u001B[38;5;28;01melse\u001B[39;00m:\n\u001B[1;32m   1276\u001B[0m     \u001B[38;5;28;01mraise\u001B[39;00m CannotSendHeader()\n\u001B[0;32m-> 1277\u001B[0m \u001B[38;5;28;43mself\u001B[39;49m\u001B[38;5;241;43m.\u001B[39;49m\u001B[43m_send_output\u001B[49m\u001B[43m(\u001B[49m\u001B[43mmessage_body\u001B[49m\u001B[43m,\u001B[49m\u001B[43m \u001B[49m\u001B[43mencode_chunked\u001B[49m\u001B[38;5;241;43m=\u001B[39;49m\u001B[43mencode_chunked\u001B[49m\u001B[43m)\u001B[49m\n",
      "File \u001B[0;32m/Library/Frameworks/Python.framework/Versions/3.11/lib/python3.11/http/client.py:1037\u001B[0m, in \u001B[0;36mHTTPConnection._send_output\u001B[0;34m(self, message_body, encode_chunked)\u001B[0m\n\u001B[1;32m   1035\u001B[0m msg \u001B[38;5;241m=\u001B[39m \u001B[38;5;124mb\u001B[39m\u001B[38;5;124m\"\u001B[39m\u001B[38;5;130;01m\\r\u001B[39;00m\u001B[38;5;130;01m\\n\u001B[39;00m\u001B[38;5;124m\"\u001B[39m\u001B[38;5;241m.\u001B[39mjoin(\u001B[38;5;28mself\u001B[39m\u001B[38;5;241m.\u001B[39m_buffer)\n\u001B[1;32m   1036\u001B[0m \u001B[38;5;28;01mdel\u001B[39;00m \u001B[38;5;28mself\u001B[39m\u001B[38;5;241m.\u001B[39m_buffer[:]\n\u001B[0;32m-> 1037\u001B[0m \u001B[38;5;28;43mself\u001B[39;49m\u001B[38;5;241;43m.\u001B[39;49m\u001B[43msend\u001B[49m\u001B[43m(\u001B[49m\u001B[43mmsg\u001B[49m\u001B[43m)\u001B[49m\n\u001B[1;32m   1039\u001B[0m \u001B[38;5;28;01mif\u001B[39;00m message_body \u001B[38;5;129;01mis\u001B[39;00m \u001B[38;5;129;01mnot\u001B[39;00m \u001B[38;5;28;01mNone\u001B[39;00m:\n\u001B[1;32m   1040\u001B[0m \n\u001B[1;32m   1041\u001B[0m     \u001B[38;5;66;03m# create a consistent interface to message_body\u001B[39;00m\n\u001B[1;32m   1042\u001B[0m     \u001B[38;5;28;01mif\u001B[39;00m \u001B[38;5;28mhasattr\u001B[39m(message_body, \u001B[38;5;124m'\u001B[39m\u001B[38;5;124mread\u001B[39m\u001B[38;5;124m'\u001B[39m):\n\u001B[1;32m   1043\u001B[0m         \u001B[38;5;66;03m# Let file-like take precedence over byte-like.  This\u001B[39;00m\n\u001B[1;32m   1044\u001B[0m         \u001B[38;5;66;03m# is needed to allow the current position of mmap'ed\u001B[39;00m\n\u001B[1;32m   1045\u001B[0m         \u001B[38;5;66;03m# files to be taken into account.\u001B[39;00m\n",
      "File \u001B[0;32m/Library/Frameworks/Python.framework/Versions/3.11/lib/python3.11/http/client.py:975\u001B[0m, in \u001B[0;36mHTTPConnection.send\u001B[0;34m(self, data)\u001B[0m\n\u001B[1;32m    973\u001B[0m \u001B[38;5;28;01mif\u001B[39;00m \u001B[38;5;28mself\u001B[39m\u001B[38;5;241m.\u001B[39msock \u001B[38;5;129;01mis\u001B[39;00m \u001B[38;5;28;01mNone\u001B[39;00m:\n\u001B[1;32m    974\u001B[0m     \u001B[38;5;28;01mif\u001B[39;00m \u001B[38;5;28mself\u001B[39m\u001B[38;5;241m.\u001B[39mauto_open:\n\u001B[0;32m--> 975\u001B[0m         \u001B[38;5;28;43mself\u001B[39;49m\u001B[38;5;241;43m.\u001B[39;49m\u001B[43mconnect\u001B[49m\u001B[43m(\u001B[49m\u001B[43m)\u001B[49m\n\u001B[1;32m    976\u001B[0m     \u001B[38;5;28;01melse\u001B[39;00m:\n\u001B[1;32m    977\u001B[0m         \u001B[38;5;28;01mraise\u001B[39;00m NotConnected()\n",
      "File \u001B[0;32m/Library/Frameworks/Python.framework/Versions/3.11/lib/python3.11/http/client.py:1447\u001B[0m, in \u001B[0;36mHTTPSConnection.connect\u001B[0;34m(self)\u001B[0m\n\u001B[1;32m   1444\u001B[0m \u001B[38;5;28;01mdef\u001B[39;00m \u001B[38;5;21mconnect\u001B[39m(\u001B[38;5;28mself\u001B[39m):\n\u001B[1;32m   1445\u001B[0m     \u001B[38;5;124m\"\u001B[39m\u001B[38;5;124mConnect to a host on a given (SSL) port.\u001B[39m\u001B[38;5;124m\"\u001B[39m\n\u001B[0;32m-> 1447\u001B[0m     \u001B[38;5;28;43msuper\u001B[39;49m\u001B[43m(\u001B[49m\u001B[43m)\u001B[49m\u001B[38;5;241;43m.\u001B[39;49m\u001B[43mconnect\u001B[49m\u001B[43m(\u001B[49m\u001B[43m)\u001B[49m\n\u001B[1;32m   1449\u001B[0m     \u001B[38;5;28;01mif\u001B[39;00m \u001B[38;5;28mself\u001B[39m\u001B[38;5;241m.\u001B[39m_tunnel_host:\n\u001B[1;32m   1450\u001B[0m         server_hostname \u001B[38;5;241m=\u001B[39m \u001B[38;5;28mself\u001B[39m\u001B[38;5;241m.\u001B[39m_tunnel_host\n",
      "File \u001B[0;32m/Library/Frameworks/Python.framework/Versions/3.11/lib/python3.11/http/client.py:941\u001B[0m, in \u001B[0;36mHTTPConnection.connect\u001B[0;34m(self)\u001B[0m\n\u001B[1;32m    939\u001B[0m \u001B[38;5;250m\u001B[39m\u001B[38;5;124;03m\"\"\"Connect to the host and port specified in __init__.\"\"\"\u001B[39;00m\n\u001B[1;32m    940\u001B[0m sys\u001B[38;5;241m.\u001B[39maudit(\u001B[38;5;124m\"\u001B[39m\u001B[38;5;124mhttp.client.connect\u001B[39m\u001B[38;5;124m\"\u001B[39m, \u001B[38;5;28mself\u001B[39m, \u001B[38;5;28mself\u001B[39m\u001B[38;5;241m.\u001B[39mhost, \u001B[38;5;28mself\u001B[39m\u001B[38;5;241m.\u001B[39mport)\n\u001B[0;32m--> 941\u001B[0m \u001B[38;5;28mself\u001B[39m\u001B[38;5;241m.\u001B[39msock \u001B[38;5;241m=\u001B[39m \u001B[38;5;28;43mself\u001B[39;49m\u001B[38;5;241;43m.\u001B[39;49m\u001B[43m_create_connection\u001B[49m\u001B[43m(\u001B[49m\n\u001B[1;32m    942\u001B[0m \u001B[43m    \u001B[49m\u001B[43m(\u001B[49m\u001B[38;5;28;43mself\u001B[39;49m\u001B[38;5;241;43m.\u001B[39;49m\u001B[43mhost\u001B[49m\u001B[43m,\u001B[49m\u001B[38;5;28;43mself\u001B[39;49m\u001B[38;5;241;43m.\u001B[39;49m\u001B[43mport\u001B[49m\u001B[43m)\u001B[49m\u001B[43m,\u001B[49m\u001B[43m \u001B[49m\u001B[38;5;28;43mself\u001B[39;49m\u001B[38;5;241;43m.\u001B[39;49m\u001B[43mtimeout\u001B[49m\u001B[43m,\u001B[49m\u001B[43m \u001B[49m\u001B[38;5;28;43mself\u001B[39;49m\u001B[38;5;241;43m.\u001B[39;49m\u001B[43msource_address\u001B[49m\u001B[43m)\u001B[49m\n\u001B[1;32m    943\u001B[0m \u001B[38;5;66;03m# Might fail in OSs that don't implement TCP_NODELAY\u001B[39;00m\n\u001B[1;32m    944\u001B[0m \u001B[38;5;28;01mtry\u001B[39;00m:\n",
      "File \u001B[0;32m/Library/Frameworks/Python.framework/Versions/3.11/lib/python3.11/socket.py:835\u001B[0m, in \u001B[0;36mcreate_connection\u001B[0;34m(address, timeout, source_address, all_errors)\u001B[0m\n\u001B[1;32m    833\u001B[0m \u001B[38;5;28;01mif\u001B[39;00m source_address:\n\u001B[1;32m    834\u001B[0m     sock\u001B[38;5;241m.\u001B[39mbind(source_address)\n\u001B[0;32m--> 835\u001B[0m \u001B[43msock\u001B[49m\u001B[38;5;241;43m.\u001B[39;49m\u001B[43mconnect\u001B[49m\u001B[43m(\u001B[49m\u001B[43msa\u001B[49m\u001B[43m)\u001B[49m\n\u001B[1;32m    836\u001B[0m \u001B[38;5;66;03m# Break explicitly a reference cycle\u001B[39;00m\n\u001B[1;32m    837\u001B[0m exceptions\u001B[38;5;241m.\u001B[39mclear()\n",
      "\u001B[0;31mKeyboardInterrupt\u001B[0m: "
     ]
    }
   ],
   "source": [
    "if os.path.exists(W2V_PATH):\n",
    "    print(\"Loading Word2Vec model...\")\n",
    "    w2v_model = gensim.models.KeyedVectors.load(W2V_PATH, mmap='r')\n",
    "else:\n",
    "    print(\"Downloading Word2Vec model...\")\n",
    "    w2v_model = api.load(\"word2vec-google-news-300\")\n",
    "    print(\"Saving Word2Vec model...\")\n",
    "    w2v_model.save(W2V_PATH)\n",
    "    "
   ],
   "metadata": {
    "collapsed": false,
    "ExecuteTime": {
     "end_time": "2023-12-18T17:52:35.173246Z",
     "start_time": "2023-12-18T17:52:29.433800Z"
    }
   },
   "id": "55bbe6faa1226b8d"
  },
  {
   "cell_type": "code",
   "execution_count": null,
   "outputs": [],
   "source": [
    "EMBEDDING_VECTOR_DIM = w2v_model.vector_size"
   ],
   "metadata": {
    "collapsed": false,
    "ExecuteTime": {
     "end_time": "2023-12-18T17:52:35.175688Z",
     "start_time": "2023-12-18T17:52:35.174276Z"
    }
   },
   "id": "7d53926889defc38"
  },
  {
   "cell_type": "markdown",
   "source": [
    "# DataSet"
   ],
   "metadata": {
    "collapsed": false
   },
   "id": "21730f8dd01e5b4e"
  },
  {
   "cell_type": "code",
   "execution_count": null,
   "outputs": [],
   "source": [
    "class Twitter(Dataset):\n",
    "    def __init__(self, dataframe: pd.DataFrame, w2v_model: gensim.models.KeyedVectors):\n",
    "        self.dataframe = dataframe\n",
    "        self.w2v_model = w2v_model\n",
    "        self.dataframe[\"tokens\"] = self.dataframe[\"tweet\"].apply(preprocess_data)\n",
    "        self.dataframe[\"tokens\"] = self.dataframe[\"tokens\"].apply(self._to_tensor)\n",
    "        self.dataframe[\"tokens\"] = self.dataframe[\"tokens\"].apply(self._get_word_vectors)\n",
    "        \n",
    "        self.len = len(self.dataframe)\n",
    "        self.vector_size = w2v_model.vector_size\n",
    "        \n",
    "    def __len__(self):\n",
    "        return self.len\n",
    "    \n",
    "    def __getitem__(self, idx):\n",
    "        return self.dataframe.iloc[idx][\"tokens\"], self.dataframe.iloc[idx][\"intention\"]\n",
    "    \n",
    "    def _get_word_vectors(self, tokens: list):\n",
    "        # return [self.w2v_model[token] for token in tokens if token in self.w2v_model]\n",
    "        wv = torch.zeros(self.vector_size)\n",
    "        count = 0\n",
    "        for token in tokens:\n",
    "            if token in self.w2v_model:\n",
    "                wv += torch.tensor(self.w2v_model[token])\n",
    "                count += 1\n",
    "        return wv / max(1, count)\n",
    "    \n",
    "    # def _pad(self, tokens: list):\n",
    "    #     if len(tokens) >= self.max_length:\n",
    "    #         return tokens[:self.max_length]\n",
    "    #     return tokens + [np.zeros(EMBEDDING_VECTOR_DIM)] * (self.max_length - len(tokens))\n",
    "    \n",
    "    @staticmethod\n",
    "    def _to_tensor(tokens: list):\n",
    "        return torch.tensor(tokens, dtype=torch.float32)"
   ],
   "metadata": {
    "collapsed": false,
    "ExecuteTime": {
     "start_time": "2023-12-18T17:52:35.175541Z"
    }
   },
   "id": "5e3f4dc9d30a97f9"
  },
  {
   "cell_type": "markdown",
   "source": [
    "# Prepare Data"
   ],
   "metadata": {
    "collapsed": false
   },
   "id": "4b87e7e8b267a1c8"
  },
  {
   "cell_type": "markdown",
   "source": [
    "## Split Data into train-valid"
   ],
   "metadata": {
    "collapsed": false
   },
   "id": "bd00ab880892e646"
  },
  {
   "cell_type": "code",
   "execution_count": 12,
   "outputs": [],
   "source": [
    "train_df, valid_df = train_test_split(df, test_size=0.2, random_state=42, stratify=df[\"intention\"])\n",
    "\n",
    "train_df.reset_index(drop=True, inplace=True)\n",
    "valid_df.reset_index(drop=True, inplace=True)"
   ],
   "metadata": {
    "collapsed": false,
    "ExecuteTime": {
     "end_time": "2023-12-18T19:01:06.135821Z",
     "start_time": "2023-12-18T19:01:06.116922Z"
    }
   },
   "id": "6a54facda2729872"
  },
  {
   "cell_type": "markdown",
   "source": [
    "## Create DataSet"
   ],
   "metadata": {
    "collapsed": false
   },
   "id": "670fcd8db0e5651c"
  },
  {
   "cell_type": "code",
   "execution_count": 13,
   "outputs": [
    {
     "ename": "NameError",
     "evalue": "name 'Twitter' is not defined",
     "output_type": "error",
     "traceback": [
      "\u001B[0;31m---------------------------------------------------------------------------\u001B[0m",
      "\u001B[0;31mNameError\u001B[0m                                 Traceback (most recent call last)",
      "Cell \u001B[0;32mIn[13], line 1\u001B[0m\n\u001B[0;32m----> 1\u001B[0m train_dataset \u001B[38;5;241m=\u001B[39m \u001B[43mTwitter\u001B[49m(train_df, w2v_model)\n\u001B[1;32m      2\u001B[0m valid_dataset \u001B[38;5;241m=\u001B[39m Twitter(valid_df, w2v_model)\n\u001B[1;32m      4\u001B[0m \u001B[38;5;28mprint\u001B[39m(\u001B[38;5;124mf\u001B[39m\u001B[38;5;124m\"\u001B[39m\u001B[38;5;124mTrain dataset length: \u001B[39m\u001B[38;5;132;01m{\u001B[39;00m\u001B[38;5;28mlen\u001B[39m(train_dataset)\u001B[38;5;132;01m}\u001B[39;00m\u001B[38;5;124m\"\u001B[39m)\n",
      "\u001B[0;31mNameError\u001B[0m: name 'Twitter' is not defined"
     ]
    }
   ],
   "source": [
    "train_dataset = Twitter(train_df, w2v_model)\n",
    "valid_dataset = Twitter(valid_df, w2v_model)\n",
    "\n",
    "print(f\"Train dataset length: {len(train_dataset)}\")\n",
    "print(f\"Valid dataset length: {len(valid_dataset)}\")"
   ],
   "metadata": {
    "collapsed": false,
    "ExecuteTime": {
     "end_time": "2023-12-18T19:01:06.822907Z",
     "start_time": "2023-12-18T19:01:06.773507Z"
    }
   },
   "id": "3e4a5b690afadad5"
  },
  {
   "cell_type": "markdown",
   "source": [
    "# Model"
   ],
   "metadata": {
    "collapsed": false
   },
   "id": "fd1da733e79676ff"
  },
  {
   "cell_type": "markdown",
   "source": [
    "## LSTM"
   ],
   "metadata": {
    "collapsed": false
   },
   "id": "bed208d730342fc9"
  },
  {
   "cell_type": "code",
   "execution_count": null,
   "outputs": [],
   "source": [
    "class DetectorLSTM(nn.Module):"
   ],
   "metadata": {
    "collapsed": false
   },
   "id": "ad5a723d9c509e7b"
  },
  {
   "cell_type": "markdown",
   "source": [
    "## 2-Layer LSTM"
   ],
   "metadata": {
    "collapsed": false
   },
   "id": "26f9b51f8fe11d2d"
  },
  {
   "cell_type": "code",
   "execution_count": null,
   "outputs": [],
   "source": [],
   "metadata": {
    "collapsed": false
   },
   "id": "38205ca41f01b782"
  },
  {
   "cell_type": "markdown",
   "source": [
    "## CNN+2-Layer-LSTM"
   ],
   "metadata": {
    "collapsed": false
   },
   "id": "1566b2a8428318c8"
  },
  {
   "cell_type": "code",
   "execution_count": null,
   "outputs": [],
   "source": [],
   "metadata": {
    "collapsed": false
   },
   "id": "a2ed27ccf8d0307c"
  },
  {
   "cell_type": "markdown",
   "source": [],
   "metadata": {
    "collapsed": false
   },
   "id": "1c28b309816a4d85"
  }
 ],
 "metadata": {
  "kernelspec": {
   "display_name": "Python 3",
   "language": "python",
   "name": "python3"
  },
  "language_info": {
   "codemirror_mode": {
    "name": "ipython",
    "version": 2
   },
   "file_extension": ".py",
   "mimetype": "text/x-python",
   "name": "python",
   "nbconvert_exporter": "python",
   "pygments_lexer": "ipython2",
   "version": "2.7.6"
  }
 },
 "nbformat": 4,
 "nbformat_minor": 5
}
