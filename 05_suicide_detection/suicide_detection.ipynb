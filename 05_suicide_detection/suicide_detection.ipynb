{
 "cells": [
  {
   "cell_type": "code",
   "execution_count": 1,
   "outputs": [
    {
     "output_type": "stream",
     "name": "stdout",
     "text": [
      "\u001B[?25l     \u001B[90m━━━━━━━━━━━━━━━━━━━━━━━━━━━━━━━━━━━━━━━━\u001B[0m \u001B[32m0.0/397.5 kB\u001B[0m \u001B[31m?\u001B[0m eta \u001B[36m-:--:--\u001B[0m\r\u001B[2K     \u001B[91m━━━━━━━━━\u001B[0m\u001B[90m╺\u001B[0m\u001B[90m━━━━━━━━━━━━━━━━━━━━━━━━━━━━━━\u001B[0m \u001B[32m92.2/397.5 kB\u001B[0m \u001B[31m2.5 MB/s\u001B[0m eta \u001B[36m0:00:01\u001B[0m\r\u001B[2K     \u001B[91m━━━━━━━━━━━━━━━━━━━━━━━━━━━━━━━━━━━━━━━\u001B[0m\u001B[90m╺\u001B[0m \u001B[32m389.1/397.5 kB\u001B[0m \u001B[31m5.7 MB/s\u001B[0m eta \u001B[36m0:00:01\u001B[0m\r\u001B[2K     \u001B[90m━━━━━━━━━━━━━━━━━━━━━━━━━━━━━━━━━━━━━━━━\u001B[0m \u001B[32m397.5/397.5 kB\u001B[0m \u001B[31m3.7 MB/s\u001B[0m eta \u001B[36m0:00:00\u001B[0m\n",
      "\u001B[?25h"
     ]
    }
   ],
   "source": [
    "!pip install gensim emoji nltk tqdm seaborn torch torchsummary -q"
   ],
   "metadata": {
    "colab": {
     "base_uri": "https://localhost:8080/"
    },
    "id": "fec65989e04597f0",
    "outputId": "6656a05c-feee-4070-8941-534b3e745249"
   },
   "id": "fec65989e04597f0"
  },
  {
   "cell_type": "code",
   "execution_count": 2,
   "id": "initial_id",
   "metadata": {
    "collapsed": true,
    "id": "initial_id"
   },
   "outputs": [],
   "source": [
    "import pandas as pd\n",
    "import torch\n",
    "from torch import nn\n",
    "from torch.utils.data import DataLoader, Dataset\n",
    "\n",
    "import gensim\n",
    "\n",
    "from sklearn.model_selection import train_test_split\n",
    "import sklearn.metrics as metrics\n",
    "\n",
    "import matplotlib.pyplot as plt\n",
    "import seaborn as sns\n",
    "import numpy as np\n",
    "from tqdm import tqdm\n",
    "import gc\n",
    "import os\n",
    "\n",
    "import ssl\n",
    "ssl._create_default_https_context = ssl._create_unverified_context"
   ]
  },
  {
   "cell_type": "markdown",
   "source": [
    "# Config"
   ],
   "metadata": {
    "collapsed": false,
    "id": "cf946d026ed2d98e"
   },
   "id": "cf946d026ed2d98e"
  },
  {
   "cell_type": "markdown",
   "source": [
    "## Environment config"
   ],
   "metadata": {
    "collapsed": false,
    "id": "466c99ea9e39eb77"
   },
   "id": "466c99ea9e39eb77"
  },
  {
   "cell_type": "code",
   "execution_count": 3,
   "outputs": [],
   "source": [
    "MODE = \"colab\" # valid modes are 'local', 'colab' and 'kaggle'\n",
    "SAMPLE_NUMBERS = 4\n",
    "TEST_PORTION = 0.2"
   ],
   "metadata": {
    "id": "7a284f33993328c"
   },
   "id": "7a284f33993328c"
  },
  {
   "cell_type": "markdown",
   "source": [
    "## Model training config"
   ],
   "metadata": {
    "collapsed": false,
    "id": "3e83a8b72b644c2"
   },
   "id": "3e83a8b72b644c2"
  },
  {
   "cell_type": "code",
   "execution_count": 4,
   "outputs": [],
   "source": [
    "LEARNING_RATE = 4e-4\n",
    "WEIGHT_DECAY = 1e-2\n",
    "BATCH_SIZE = 64\n",
    "EPOCHS = 20\n",
    "\n",
    "SEQUENCE_LEN = 64\n",
    "CNN_FILTERS = 64\n",
    "LSTM_HIDDEN_DIM = 196\n",
    "LSTM_BIDIRECTIONAL = False"
   ],
   "metadata": {
    "id": "2d0826c5b8eb52c9"
   },
   "id": "2d0826c5b8eb52c9"
  },
  {
   "cell_type": "markdown",
   "source": [
    "## Auto setup"
   ],
   "metadata": {
    "collapsed": false,
    "id": "c9aa697ae043e65e"
   },
   "id": "c9aa697ae043e65e"
  },
  {
   "cell_type": "code",
   "execution_count": 5,
   "outputs": [
    {
     "output_type": "stream",
     "name": "stdout",
     "text": [
      "Mounted at /content/drive\n"
     ]
    }
   ],
   "source": [
    "if   MODE == \"local\":\n",
    "    BASE_PATH = \".\"\n",
    "elif MODE == \"colab\":\n",
    "    BASE_PATH = \"/content/drive/MyDrive/Deep Neural Network - UT/CA 04\"\n",
    "    from google.colab import drive\n",
    "    drive.mount('/content/drive')\n",
    "else:\n",
    "    print(f\"Unknown mode {MODE}\")\n",
    "    exit(1)"
   ],
   "metadata": {
    "colab": {
     "base_uri": "https://localhost:8080/"
    },
    "id": "183e3ae190990fe3",
    "outputId": "aac65f6b-c4e5-415b-d206-68d3c923ab98"
   },
   "id": "183e3ae190990fe3"
  },
  {
   "cell_type": "code",
   "execution_count": 6,
   "outputs": [],
   "source": [
    "DATA_PATH = os.path.join(BASE_PATH, \"twitter-suicidal_data.csv\")\n",
    "\n",
    "W2V_PATH = os.path.join(BASE_PATH, \"w2v_vectors.kv\")\n",
    "\n",
    "DEVICE = torch.device(\"cuda\" if torch.cuda.is_available() else \"cpu\")\n"
   ],
   "metadata": {
    "id": "b1f939dd5898a0b6"
   },
   "id": "b1f939dd5898a0b6"
  },
  {
   "cell_type": "markdown",
   "source": [
    "# Data Exploration"
   ],
   "metadata": {
    "collapsed": false,
    "id": "27110752c038c1d0"
   },
   "id": "27110752c038c1d0"
  },
  {
   "cell_type": "markdown",
   "source": [
    "## Load Data"
   ],
   "metadata": {
    "collapsed": false,
    "id": "32b050729991fec9"
   },
   "id": "32b050729991fec9"
  },
  {
   "cell_type": "code",
   "execution_count": 7,
   "outputs": [],
   "source": [
    "df = pd.read_csv(DATA_PATH)"
   ],
   "metadata": {
    "id": "88e92f34d72c6f62"
   },
   "id": "88e92f34d72c6f62"
  },
  {
   "cell_type": "markdown",
   "source": [
    "## Data statistics"
   ],
   "metadata": {
    "collapsed": false,
    "id": "194e8bd73f51d23b"
   },
   "id": "194e8bd73f51d23b"
  },
  {
   "cell_type": "code",
   "execution_count": 8,
   "outputs": [
    {
     "output_type": "execute_result",
     "data": {
      "text/plain": [
       "                                               tweet  intention\n",
       "0  my life is meaningless i just want to end my l...          1\n",
       "1  muttering i wanna die to myself daily for a fe...          1\n",
       "2  work slave i really feel like my only purpose ...          1\n",
       "3  i did something on the 2 of october i overdose...          1\n",
       "4  i feel like no one cares i just want to die ma...          1"
      ],
      "text/html": [
       "\n",
       "  <div id=\"df-686c6302-0a68-4e81-8b80-c3726f1f2ae8\" class=\"colab-df-container\">\n",
       "    <div>\n",
       "<style scoped>\n",
       "    .dataframe tbody tr th:only-of-type {\n",
       "        vertical-align: middle;\n",
       "    }\n",
       "\n",
       "    .dataframe tbody tr th {\n",
       "        vertical-align: top;\n",
       "    }\n",
       "\n",
       "    .dataframe thead th {\n",
       "        text-align: right;\n",
       "    }\n",
       "</style>\n",
       "<table border=\"1\" class=\"dataframe\">\n",
       "  <thead>\n",
       "    <tr style=\"text-align: right;\">\n",
       "      <th></th>\n",
       "      <th>tweet</th>\n",
       "      <th>intention</th>\n",
       "    </tr>\n",
       "  </thead>\n",
       "  <tbody>\n",
       "    <tr>\n",
       "      <th>0</th>\n",
       "      <td>my life is meaningless i just want to end my l...</td>\n",
       "      <td>1</td>\n",
       "    </tr>\n",
       "    <tr>\n",
       "      <th>1</th>\n",
       "      <td>muttering i wanna die to myself daily for a fe...</td>\n",
       "      <td>1</td>\n",
       "    </tr>\n",
       "    <tr>\n",
       "      <th>2</th>\n",
       "      <td>work slave i really feel like my only purpose ...</td>\n",
       "      <td>1</td>\n",
       "    </tr>\n",
       "    <tr>\n",
       "      <th>3</th>\n",
       "      <td>i did something on the 2 of october i overdose...</td>\n",
       "      <td>1</td>\n",
       "    </tr>\n",
       "    <tr>\n",
       "      <th>4</th>\n",
       "      <td>i feel like no one cares i just want to die ma...</td>\n",
       "      <td>1</td>\n",
       "    </tr>\n",
       "  </tbody>\n",
       "</table>\n",
       "</div>\n",
       "    <div class=\"colab-df-buttons\">\n",
       "\n",
       "  <div class=\"colab-df-container\">\n",
       "    <button class=\"colab-df-convert\" onclick=\"convertToInteractive('df-686c6302-0a68-4e81-8b80-c3726f1f2ae8')\"\n",
       "            title=\"Convert this dataframe to an interactive table.\"\n",
       "            style=\"display:none;\">\n",
       "\n",
       "  <svg xmlns=\"http://www.w3.org/2000/svg\" height=\"24px\" viewBox=\"0 -960 960 960\">\n",
       "    <path d=\"M120-120v-720h720v720H120Zm60-500h600v-160H180v160Zm220 220h160v-160H400v160Zm0 220h160v-160H400v160ZM180-400h160v-160H180v160Zm440 0h160v-160H620v160ZM180-180h160v-160H180v160Zm440 0h160v-160H620v160Z\"/>\n",
       "  </svg>\n",
       "    </button>\n",
       "\n",
       "  <style>\n",
       "    .colab-df-container {\n",
       "      display:flex;\n",
       "      gap: 12px;\n",
       "    }\n",
       "\n",
       "    .colab-df-convert {\n",
       "      background-color: #E8F0FE;\n",
       "      border: none;\n",
       "      border-radius: 50%;\n",
       "      cursor: pointer;\n",
       "      display: none;\n",
       "      fill: #1967D2;\n",
       "      height: 32px;\n",
       "      padding: 0 0 0 0;\n",
       "      width: 32px;\n",
       "    }\n",
       "\n",
       "    .colab-df-convert:hover {\n",
       "      background-color: #E2EBFA;\n",
       "      box-shadow: 0px 1px 2px rgba(60, 64, 67, 0.3), 0px 1px 3px 1px rgba(60, 64, 67, 0.15);\n",
       "      fill: #174EA6;\n",
       "    }\n",
       "\n",
       "    .colab-df-buttons div {\n",
       "      margin-bottom: 4px;\n",
       "    }\n",
       "\n",
       "    [theme=dark] .colab-df-convert {\n",
       "      background-color: #3B4455;\n",
       "      fill: #D2E3FC;\n",
       "    }\n",
       "\n",
       "    [theme=dark] .colab-df-convert:hover {\n",
       "      background-color: #434B5C;\n",
       "      box-shadow: 0px 1px 3px 1px rgba(0, 0, 0, 0.15);\n",
       "      filter: drop-shadow(0px 1px 2px rgba(0, 0, 0, 0.3));\n",
       "      fill: #FFFFFF;\n",
       "    }\n",
       "  </style>\n",
       "\n",
       "    <script>\n",
       "      const buttonEl =\n",
       "        document.querySelector('#df-686c6302-0a68-4e81-8b80-c3726f1f2ae8 button.colab-df-convert');\n",
       "      buttonEl.style.display =\n",
       "        google.colab.kernel.accessAllowed ? 'block' : 'none';\n",
       "\n",
       "      async function convertToInteractive(key) {\n",
       "        const element = document.querySelector('#df-686c6302-0a68-4e81-8b80-c3726f1f2ae8');\n",
       "        const dataTable =\n",
       "          await google.colab.kernel.invokeFunction('convertToInteractive',\n",
       "                                                    [key], {});\n",
       "        if (!dataTable) return;\n",
       "\n",
       "        const docLinkHtml = 'Like what you see? Visit the ' +\n",
       "          '<a target=\"_blank\" href=https://colab.research.google.com/notebooks/data_table.ipynb>data table notebook</a>'\n",
       "          + ' to learn more about interactive tables.';\n",
       "        element.innerHTML = '';\n",
       "        dataTable['output_type'] = 'display_data';\n",
       "        await google.colab.output.renderOutput(dataTable, element);\n",
       "        const docLink = document.createElement('div');\n",
       "        docLink.innerHTML = docLinkHtml;\n",
       "        element.appendChild(docLink);\n",
       "      }\n",
       "    </script>\n",
       "  </div>\n",
       "\n",
       "\n",
       "<div id=\"df-2813cd8c-d555-46ef-a175-14ff8ae837c8\">\n",
       "  <button class=\"colab-df-quickchart\" onclick=\"quickchart('df-2813cd8c-d555-46ef-a175-14ff8ae837c8')\"\n",
       "            title=\"Suggest charts\"\n",
       "            style=\"display:none;\">\n",
       "\n",
       "<svg xmlns=\"http://www.w3.org/2000/svg\" height=\"24px\"viewBox=\"0 0 24 24\"\n",
       "     width=\"24px\">\n",
       "    <g>\n",
       "        <path d=\"M19 3H5c-1.1 0-2 .9-2 2v14c0 1.1.9 2 2 2h14c1.1 0 2-.9 2-2V5c0-1.1-.9-2-2-2zM9 17H7v-7h2v7zm4 0h-2V7h2v10zm4 0h-2v-4h2v4z\"/>\n",
       "    </g>\n",
       "</svg>\n",
       "  </button>\n",
       "\n",
       "<style>\n",
       "  .colab-df-quickchart {\n",
       "      --bg-color: #E8F0FE;\n",
       "      --fill-color: #1967D2;\n",
       "      --hover-bg-color: #E2EBFA;\n",
       "      --hover-fill-color: #174EA6;\n",
       "      --disabled-fill-color: #AAA;\n",
       "      --disabled-bg-color: #DDD;\n",
       "  }\n",
       "\n",
       "  [theme=dark] .colab-df-quickchart {\n",
       "      --bg-color: #3B4455;\n",
       "      --fill-color: #D2E3FC;\n",
       "      --hover-bg-color: #434B5C;\n",
       "      --hover-fill-color: #FFFFFF;\n",
       "      --disabled-bg-color: #3B4455;\n",
       "      --disabled-fill-color: #666;\n",
       "  }\n",
       "\n",
       "  .colab-df-quickchart {\n",
       "    background-color: var(--bg-color);\n",
       "    border: none;\n",
       "    border-radius: 50%;\n",
       "    cursor: pointer;\n",
       "    display: none;\n",
       "    fill: var(--fill-color);\n",
       "    height: 32px;\n",
       "    padding: 0;\n",
       "    width: 32px;\n",
       "  }\n",
       "\n",
       "  .colab-df-quickchart:hover {\n",
       "    background-color: var(--hover-bg-color);\n",
       "    box-shadow: 0 1px 2px rgba(60, 64, 67, 0.3), 0 1px 3px 1px rgba(60, 64, 67, 0.15);\n",
       "    fill: var(--button-hover-fill-color);\n",
       "  }\n",
       "\n",
       "  .colab-df-quickchart-complete:disabled,\n",
       "  .colab-df-quickchart-complete:disabled:hover {\n",
       "    background-color: var(--disabled-bg-color);\n",
       "    fill: var(--disabled-fill-color);\n",
       "    box-shadow: none;\n",
       "  }\n",
       "\n",
       "  .colab-df-spinner {\n",
       "    border: 2px solid var(--fill-color);\n",
       "    border-color: transparent;\n",
       "    border-bottom-color: var(--fill-color);\n",
       "    animation:\n",
       "      spin 1s steps(1) infinite;\n",
       "  }\n",
       "\n",
       "  @keyframes spin {\n",
       "    0% {\n",
       "      border-color: transparent;\n",
       "      border-bottom-color: var(--fill-color);\n",
       "      border-left-color: var(--fill-color);\n",
       "    }\n",
       "    20% {\n",
       "      border-color: transparent;\n",
       "      border-left-color: var(--fill-color);\n",
       "      border-top-color: var(--fill-color);\n",
       "    }\n",
       "    30% {\n",
       "      border-color: transparent;\n",
       "      border-left-color: var(--fill-color);\n",
       "      border-top-color: var(--fill-color);\n",
       "      border-right-color: var(--fill-color);\n",
       "    }\n",
       "    40% {\n",
       "      border-color: transparent;\n",
       "      border-right-color: var(--fill-color);\n",
       "      border-top-color: var(--fill-color);\n",
       "    }\n",
       "    60% {\n",
       "      border-color: transparent;\n",
       "      border-right-color: var(--fill-color);\n",
       "    }\n",
       "    80% {\n",
       "      border-color: transparent;\n",
       "      border-right-color: var(--fill-color);\n",
       "      border-bottom-color: var(--fill-color);\n",
       "    }\n",
       "    90% {\n",
       "      border-color: transparent;\n",
       "      border-bottom-color: var(--fill-color);\n",
       "    }\n",
       "  }\n",
       "</style>\n",
       "\n",
       "  <script>\n",
       "    async function quickchart(key) {\n",
       "      const quickchartButtonEl =\n",
       "        document.querySelector('#' + key + ' button');\n",
       "      quickchartButtonEl.disabled = true;  // To prevent multiple clicks.\n",
       "      quickchartButtonEl.classList.add('colab-df-spinner');\n",
       "      try {\n",
       "        const charts = await google.colab.kernel.invokeFunction(\n",
       "            'suggestCharts', [key], {});\n",
       "      } catch (error) {\n",
       "        console.error('Error during call to suggestCharts:', error);\n",
       "      }\n",
       "      quickchartButtonEl.classList.remove('colab-df-spinner');\n",
       "      quickchartButtonEl.classList.add('colab-df-quickchart-complete');\n",
       "    }\n",
       "    (() => {\n",
       "      let quickchartButtonEl =\n",
       "        document.querySelector('#df-2813cd8c-d555-46ef-a175-14ff8ae837c8 button');\n",
       "      quickchartButtonEl.style.display =\n",
       "        google.colab.kernel.accessAllowed ? 'block' : 'none';\n",
       "    })();\n",
       "  </script>\n",
       "</div>\n",
       "    </div>\n",
       "  </div>\n"
      ]
     },
     "metadata": {},
     "execution_count": 8
    }
   ],
   "source": [
    "df.head(5)"
   ],
   "metadata": {
    "colab": {
     "base_uri": "https://localhost:8080/",
     "height": 204
    },
    "id": "eaa0e791280d469b",
    "outputId": "4843f3de-e367-43ae-86f9-7befa60b5114"
   },
   "id": "eaa0e791280d469b"
  },
  {
   "cell_type": "code",
   "execution_count": 9,
   "outputs": [
    {
     "output_type": "stream",
     "name": "stdout",
     "text": [
      "<class 'pandas.core.frame.DataFrame'>\n",
      "RangeIndex: 9119 entries, 0 to 9118\n",
      "Data columns (total 2 columns):\n",
      " #   Column     Non-Null Count  Dtype \n",
      "---  ------     --------------  ----- \n",
      " 0   tweet      9119 non-null   object\n",
      " 1   intention  9119 non-null   int64 \n",
      "dtypes: int64(1), object(1)\n",
      "memory usage: 142.6+ KB\n"
     ]
    }
   ],
   "source": [
    "df.info()"
   ],
   "metadata": {
    "colab": {
     "base_uri": "https://localhost:8080/"
    },
    "id": "9f8728ed33e76432",
    "outputId": "d3808165-960d-4bbb-aa79-1bad51f7db5e"
   },
   "id": "9f8728ed33e76432"
  },
  {
   "cell_type": "code",
   "execution_count": 10,
   "outputs": [
    {
     "output_type": "stream",
     "name": "stdout",
     "text": [
      "Number of samples: 9119\n"
     ]
    }
   ],
   "source": [
    "print(f\"Number of samples: {len(df)}\")"
   ],
   "metadata": {
    "colab": {
     "base_uri": "https://localhost:8080/"
    },
    "id": "be081ae5bbcd06a6",
    "outputId": "347ce438-519a-4f57-9c8b-46f01faf2675"
   },
   "id": "be081ae5bbcd06a6"
  },
  {
   "cell_type": "code",
   "execution_count": 11,
   "outputs": [
    {
     "output_type": "display_data",
     "data": {
      "text/plain": [
       "<Figure size 700x500 with 1 Axes>"
      ],
      "image/png": "[encoded data removed]"
     },
     "metadata": {}
    }
   ],
   "source": [
    "intentions = df[\"intention\"].value_counts()\n",
    "\n",
    "plt.figure(figsize=(7, 5))\n",
    "sns.barplot(x=intentions.index, y=intentions.values)\n",
    "plt.title(\"Intentions Distribution\")\n",
    "plt.show()"
   ],
   "metadata": {
    "colab": {
     "base_uri": "https://localhost:8080/",
     "height": 468
    },
    "id": "7b8c06e8ae4c8406",
    "outputId": "b2e57177-ee35-4dac-baaf-5c44e9ee390b"
   },
   "id": "7b8c06e8ae4c8406"
  },
  {
   "cell_type": "code",
   "execution_count": 12,
   "outputs": [
    {
     "output_type": "stream",
     "name": "stdout",
     "text": [
      "[0.89035345 1.14044522]\n"
     ]
    }
   ],
   "source": [
    "from sklearn.utils import compute_class_weight\n",
    "\n",
    "labels = df[\"intention\"]\n",
    "class_weights = compute_class_weight('balanced', classes=np.unique(labels), y=labels)\n",
    "weights = torch.tensor(class_weights, dtype=torch.float32, device=DEVICE)\n",
    "print(class_weights)\n",
    "del labels"
   ],
   "metadata": {
    "colab": {
     "base_uri": "https://localhost:8080/"
    },
    "id": "e9323acf7f7de0ef",
    "outputId": "dd7363a4-c6f8-44ec-ec2c-21dc9e9ac3c2"
   },
   "id": "e9323acf7f7de0ef"
  },
  {
   "cell_type": "markdown",
   "source": [
    "# Data Preprocessing"
   ],
   "metadata": {
    "collapsed": false,
    "id": "57f7552c58ea498e"
   },
   "id": "57f7552c58ea498e"
  },
  {
   "cell_type": "code",
   "execution_count": 13,
   "outputs": [
    {
     "output_type": "stream",
     "name": "stderr",
     "text": [
      "[nltk_data] Downloading package stopwords to /root/nltk_data...\n",
      "[nltk_data]   Unzipping corpora/stopwords.zip.\n",
      "[nltk_data] Downloading package punkt to /root/nltk_data...\n",
      "[nltk_data]   Unzipping tokenizers/punkt.zip.\n",
      "[nltk_data] Downloading package wordnet to /root/nltk_data...\n",
      "[nltk_data] Downloading package averaged_perceptron_tagger to\n",
      "[nltk_data]     /root/nltk_data...\n",
      "[nltk_data]   Unzipping taggers/averaged_perceptron_tagger.zip.\n"
     ]
    },
    {
     "output_type": "execute_result",
     "data": {
      "text/plain": [
       "True"
      ]
     },
     "metadata": {},
     "execution_count": 13
    }
   ],
   "source": [
    "import nltk\n",
    "import emoji\n",
    "import re\n",
    "\n",
    "nltk.download([\"stopwords\", \"punkt\", \"wordnet\", \"averaged_perceptron_tagger\"])"
   ],
   "metadata": {
    "colab": {
     "base_uri": "https://localhost:8080/"
    },
    "id": "f16efd0184e90f40",
    "outputId": "bd639766-d8ee-46f4-f486-bb824749e25c"
   },
   "id": "f16efd0184e90f40"
  },
  {
   "cell_type": "code",
   "execution_count": 14,
   "outputs": [],
   "source": [
    "def convert_emoji_to_text(text):\n",
    "    return emoji.demojize(text, delimiters=(\" \", \" \"))\n",
    "\n",
    "stopwords = nltk.corpus.stopwords.words(\"english\")\n",
    "lemmatizer = nltk.stem.WordNetLemmatizer()\n",
    "\n",
    "def nltk_pos_tagger(nltk_tag):\n",
    "    if nltk_tag.startswith('J'):\n",
    "        return 'a'\n",
    "    elif nltk_tag.startswith('V'):\n",
    "        return 'v'\n",
    "    elif nltk_tag.startswith('N'):\n",
    "        return 'n'\n",
    "    elif nltk_tag.startswith('R'):\n",
    "        return 'r'\n",
    "    else:\n",
    "        return 'n'\n",
    "\n",
    "def preprocess_data(text: str):\n",
    "    \"\"\"\n",
    "    Preprocessing steps are as follows:\n",
    "    0. concatenation of the text (not necessary)\n",
    "    1. lowercase the text\n",
    "    2. remove punctuation\n",
    "    3. remove numbers\n",
    "    4. remove urls\n",
    "    5. remove usernames\n",
    "    6. remove extra spaces\n",
    "    7. convert emojis to text\n",
    "    8. remove non-word characters\n",
    "    9. lemmatization and tokenization of the text\n",
    "    10. remove stopwords\n",
    "    :param text: str\n",
    "    :return: tokens: list[str]\n",
    "    \"\"\"\n",
    "    # text = ''.join(text)\n",
    "    # lowercase the text\n",
    "    text = text.lower()\n",
    "    # remove punctuation\n",
    "    text = re.sub(r\"[^\\w\\s]\", \"\", text)\n",
    "    # remove numbers\n",
    "    text = re.sub(r\"\\d+\", \"\", text)\n",
    "    # remove urls,\n",
    "    text = re.sub(r'http\\S+|www\\S+|https\\S+', '', text)\n",
    "    # remove usernames\n",
    "    text = re.sub(r'@\\S+', '', text)\n",
    "    # remove extra spaces\n",
    "    text = re.sub(r'\\s+', ' ', text)\n",
    "    # convert emojis to text\n",
    "    text = convert_emoji_to_text(text)\n",
    "    # remove non-word characters\n",
    "    text = re.sub(r\"[^\\w\\s]\", \"\", text)\n",
    "    # lemmatization and tokenization of the text\n",
    "    tokenized = nltk.word_tokenize(text)\n",
    "    pos_tag = nltk.pos_tag(tokenized)\n",
    "    tokens = [\n",
    "        lemmatizer.lemmatize(token, nltk_pos_tagger(tag))\n",
    "        for token, tag in pos_tag\n",
    "    ]\n",
    "    # remove stopwords\n",
    "    tokens = [token for token in tokens if token not in stopwords]\n",
    "\n",
    "    return tokens\n"
   ],
   "metadata": {
    "id": "dbe50f445aa09ecc"
   },
   "id": "dbe50f445aa09ecc"
  },
  {
   "cell_type": "code",
   "execution_count": 15,
   "outputs": [],
   "source": [
    "def format_length_bound(text: str, length:int):\n",
    "    if len(text) <= length:\n",
    "        return text\n",
    "    mm = length // 2 - 3\n",
    "    rr = length - mm - 5\n",
    "    return text[:mm] + \"|...|\" + text[-rr:]\n",
    "\n",
    "def draw_sample_processing(dataframe: pd.DataFrame, sample_numbers: int = SAMPLE_NUMBERS, show=True):\n",
    "    sample_text = dataframe.sample(sample_numbers)\n",
    "    label_rawT_procT = [\n",
    "        (label, tweet, preprocess_data(tweet))\n",
    "        for tweet, label in zip(sample_text[\"tweet\"], sample_text[\"intention\"])\n",
    "    ]\n",
    "    if show:\n",
    "        for idx, (label, rawT, procT) in enumerate(label_rawT_procT, start=1):\n",
    "            procT = str(procT)\n",
    "            print(f\"Sample {idx}:\")\n",
    "            print(f\":::::::Label          : {label}\")\n",
    "            print(f\":::::::Raw Tweet      : {format_length_bound(rawT, 50):<50} ({len(rawT)})\")\n",
    "            print(f\":::::::Processed Tweet: {format_length_bound(procT, 50):<50} ({len(procT)})\")\n",
    "        return\n",
    "    return pd.DataFrame(label_rawT_procT, columns=[\"Intention\", \"Raw Tweet\", \"Processed Tweet\"])"
   ],
   "metadata": {
    "id": "11ac7d394e03d9f"
   },
   "id": "11ac7d394e03d9f"
  },
  {
   "cell_type": "code",
   "execution_count": 16,
   "outputs": [
    {
     "output_type": "stream",
     "name": "stdout",
     "text": [
      "Sample 1:\n",
      ":::::::Label          : 1\n",
      ":::::::Raw Tweet      : anyone else feel like |...|t so scared of doing it (630)\n",
      ":::::::Processed Tweet: ['anyone', 'else', 'fe|...|out', 'amjust', 'scar'] (580)\n",
      "Sample 2:\n",
      ":::::::Label          : 1\n",
      ":::::::Raw Tweet      : suicide i want to kill|...| i just know how i feel (980)\n",
      ":::::::Processed Tweet: ['suicide', 'want', 'k|...|'know', 'know', 'feel'] (851)\n",
      "Sample 3:\n",
      ":::::::Label          : 1\n",
      ":::::::Raw Tweet      : it seems i have two op|...|fe then so why the wait (1088)\n",
      ":::::::Processed Tweet: ['seem', 'two', 'optio|...| 'end', 'life', 'wait'] (1044)\n",
      "Sample 4:\n",
      ":::::::Label          : 0\n",
      ":::::::Raw Tweet      :  quite the opposite in nyc sadly                   (33)\n",
      ":::::::Processed Tweet: ['quite', 'opposite', 'nyc', 'sadly']              (37)\n"
     ]
    }
   ],
   "source": [
    "draw_sample_processing(df, show=True)"
   ],
   "metadata": {
    "colab": {
     "base_uri": "https://localhost:8080/"
    },
    "id": "6a757363e6e6cbf",
    "outputId": "6f6f9a24-2e52-4dd2-abb1-c718ec901e3b"
   },
   "id": "6a757363e6e6cbf"
  },
  {
   "cell_type": "markdown",
   "source": [
    "# Word2Vec - Word Embedding"
   ],
   "metadata": {
    "collapsed": false,
    "id": "2e129c7a31663741"
   },
   "id": "2e129c7a31663741"
  },
  {
   "cell_type": "code",
   "execution_count": 17,
   "outputs": [
    {
     "output_type": "stream",
     "name": "stdout",
     "text": [
      "['fasttext-wiki-news-subwords-300', 'conceptnet-numberbatch-17-06-300', 'word2vec-ruscorpora-300', 'word2vec-google-news-300', 'glove-wiki-gigaword-50', 'glove-wiki-gigaword-100', 'glove-wiki-gigaword-200', 'glove-wiki-gigaword-300', 'glove-twitter-25', 'glove-twitter-50', 'glove-twitter-100', 'glove-twitter-200', '__testing_word2vec-matrix-synopsis']\n"
     ]
    }
   ],
   "source": [
    "# print available word2vec models\n",
    "import gensim.downloader as api\n",
    "print(list(api.info()['models'].keys()))"
   ],
   "metadata": {
    "colab": {
     "base_uri": "https://localhost:8080/"
    },
    "id": "8d15b31459fd1e5",
    "outputId": "7b9eb1b4-0907-446f-adb6-a791d616e1e2"
   },
   "id": "8d15b31459fd1e5"
  },
  {
   "cell_type": "code",
   "execution_count": 18,
   "outputs": [
    {
     "output_type": "stream",
     "name": "stdout",
     "text": [
      "Loading Word2Vec model...\n"
     ]
    }
   ],
   "source": [
    "if os.path.exists(W2V_PATH):\n",
    "    print(\"Loading Word2Vec model...\")\n",
    "    w2v_model = gensim.models.KeyedVectors.load(W2V_PATH, mmap='r')\n",
    "else:\n",
    "    print(\"Downloading Word2Vec model...\")\n",
    "    w2v_model = api.load(\"word2vec-google-news-300\")\n",
    "    print(\"Saving Word2Vec model...\")\n",
    "    w2v_model.save(W2V_PATH)\n"
   ],
   "metadata": {
    "colab": {
     "base_uri": "https://localhost:8080/"
    },
    "id": "55bbe6faa1226b8d",
    "outputId": "1dc4d57a-3ef8-4147-8eef-d880859c699d"
   },
   "id": "55bbe6faa1226b8d"
  },
  {
   "cell_type": "code",
   "execution_count": 19,
   "outputs": [],
   "source": [
    "EMBEDDING_VECTOR_DIM = w2v_model.vector_size"
   ],
   "metadata": {
    "id": "7d53926889defc38"
   },
   "id": "7d53926889defc38"
  },
  {
   "cell_type": "markdown",
   "source": [
    "# Dataset"
   ],
   "metadata": {
    "collapsed": false,
    "id": "21730f8dd01e5b4e"
   },
   "id": "21730f8dd01e5b4e"
  },
  {
   "cell_type": "code",
   "execution_count": 20,
   "outputs": [],
   "source": [
    "class Twitter(Dataset):\n",
    "    def __init__(self, dataframe: pd.DataFrame, w2v_model: gensim.models.KeyedVectors, aggregate=True, **kw_args):\n",
    "        self.dataframe = dataframe\n",
    "        self.w2v_model = w2v_model\n",
    "        self.aggregate = aggregate\n",
    "        self.max_sequence_len = kw_args.get(\"sequence_len\", 64)\n",
    "        if not aggregate and \"sequence_len\" not in kw_args:\n",
    "            print(\"You Should provide 'sequence_len' to use not aggregate option!\")\n",
    "            print(f\":::: Continue with sequence_len = {self.max_sequence_len} !\")\n",
    "\n",
    "        self.vector_size = w2v_model.vector_size\n",
    "        self.lazy_mode = kw_args.get(\"lazy\", True)\n",
    "\n",
    "        self._proc_dataset()\n",
    "\n",
    "        self.len = len(self.dataframe)\n",
    "\n",
    "    def __len__(self):\n",
    "        return self.len\n",
    "\n",
    "    def __getitem__(self, idx):\n",
    "        if self.lazy_mode:\n",
    "            vector = self._get_word_vectors(self.dataframe.iloc[idx][\"tokens\"])\n",
    "            return vector, self.dataframe.iloc[idx][\"intention\"]\n",
    "        return self.dataframe.iloc[idx][\"vector\"], self.dataframe.iloc[idx][\"intention\"]\n",
    "\n",
    "    def get_vector_size(self):\n",
    "        return self.vector_size\n",
    "\n",
    "    def _proc_dataset(self):\n",
    "        self.dataframe[\"tokens\"] = self.dataframe[\"tweet\"].map(preprocess_data)\n",
    "\n",
    "        # delete samples with empty tokens\n",
    "        lwz = len(self.dataframe)\n",
    "        self.dataframe = self.dataframe[self.dataframe[\"tokens\"].map(len) > 0]\n",
    "        self.dataframe.reset_index(drop=True, inplace=True)\n",
    "        print(f\"Deleted 0-Len Samples: {lwz - len(self.dataframe)}\")\n",
    "        # self.seq_report()\n",
    "\n",
    "        if not self.aggregate:\n",
    "            self.dataframe[\"tokens\"] = self.dataframe[\"tokens\"].map(self._pad)\n",
    "\n",
    "        if not self.lazy_mode:\n",
    "            self.dataframe[\"vector\"] = self.dataframe[\"tokens\"].map(self._get_word_vectors)\n",
    "\n",
    "    def _get_word_vectors(self, tokens: list) -> torch.tensor:\n",
    "        if not self.aggregate:\n",
    "            return torch.stack([\n",
    "                torch.tensor(self.w2v_model[token] if token in self.w2v_model else np.zeros(self.vector_size), dtype=torch.float32)\n",
    "                for token in tokens\n",
    "            ])\n",
    "        wv = np.zeros(self.vector_size)\n",
    "        vc = 0\n",
    "        for token in tokens:\n",
    "            if token in self.w2v_model:\n",
    "                wv += self.w2v_model[token]\n",
    "                vc += 1\n",
    "        wv = torch.tensor(wv / max(vc, 1), dtype=torch.float32)\n",
    "        return wv\n",
    "\n",
    "    def _pad(self, tokens: list):\n",
    "        if len(tokens) >= self.max_sequence_len:\n",
    "            return tokens[:self.max_sequence_len]\n",
    "        return tokens + [\"<pad>\"] * (self.max_sequence_len - len(tokens))\n",
    "\n",
    "    def seq_report(self):\n",
    "        length_all = self.dataframe[\"tokens\"].map(len).tolist()\n",
    "        max_length = np.max(length_all)\n",
    "        print(f\"Sequence Length Report\")\n",
    "        print(f\":::::MAX  LENGTH:::[{max_length:^5}]\")\n",
    "        print(f\":::::MIN  LENGTH:::[{np.min(length_all):^5}]\")\n",
    "        print(f\":::::MEAN LENGTH:::[{np.mean(length_all):^5}]\")\n",
    "\n",
    "        all_tokens = set()\n",
    "        for token_set in self.dataframe[\"tokens\"].tolist():\n",
    "            all_tokens = all_tokens.union(set(token_set))\n",
    "        unique_tokens_count = len(all_tokens)\n",
    "        valid_tokens = sum(1 if token in self.w2v_model else 0 for token in all_tokens)\n",
    "        print(\"Sequence Tokenization Report\")\n",
    "        print(f\":::::All Unique Tokens:::[{unique_tokens_count:^6}\")\n",
    "        print(f\":::::All Valid Tokens:::[{valid_tokens:^6}\")\n",
    "        print(f\":::::Valid Tokens:::[{round(100*valid_tokens/unique_tokens_count, 2):^5}%]\")\n",
    "\n",
    "    @staticmethod\n",
    "    def _to_tensor(tokens: list):\n",
    "        return torch.tensor(tokens, dtype=torch.float32)"
   ],
   "metadata": {
    "id": "5e3f4dc9d30a97f9"
   },
   "id": "5e3f4dc9d30a97f9"
  },
  {
   "cell_type": "markdown",
   "source": [
    "# Prepare Data"
   ],
   "metadata": {
    "collapsed": false,
    "id": "4b87e7e8b267a1c8"
   },
   "id": "4b87e7e8b267a1c8"
  },
  {
   "cell_type": "markdown",
   "source": [
    "## Split Data into train-valid"
   ],
   "metadata": {
    "collapsed": false,
    "id": "bd00ab880892e646"
   },
   "id": "bd00ab880892e646"
  },
  {
   "cell_type": "code",
   "execution_count": 21,
   "outputs": [
    {
     "output_type": "execute_result",
     "data": {
      "text/plain": [
       "0"
      ]
     },
     "metadata": {},
     "execution_count": 21
    }
   ],
   "source": [
    "train_df, valid_df = train_test_split(df, test_size=TEST_PORTION, random_state=42, stratify=df[\"intention\"])\n",
    "\n",
    "train_df.reset_index(drop=True, inplace=True)\n",
    "valid_df.reset_index(drop=True, inplace=True)\n",
    "\n",
    "del df\n",
    "gc.collect()"
   ],
   "metadata": {
    "colab": {
     "base_uri": "https://localhost:8080/"
    },
    "id": "6a54facda2729872",
    "outputId": "176cbe60-7e13-4986-b368-16cb5bc61c76"
   },
   "id": "6a54facda2729872"
  },
  {
   "cell_type": "markdown",
   "source": [
    "## Create Datasets"
   ],
   "metadata": {
    "collapsed": false,
    "id": "670fcd8db0e5651c"
   },
   "id": "670fcd8db0e5651c"
  },
  {
   "cell_type": "code",
   "execution_count": 22,
   "outputs": [
    {
     "output_type": "stream",
     "name": "stdout",
     "text": [
      "Deleted 0-Len Samples: 22\n"
     ]
    },
    {
     "output_type": "stream",
     "name": "stderr",
     "text": [
      "<ipython-input-20-998fd6045931>:41: SettingWithCopyWarning: \n",
      "A value is trying to be set on a copy of a slice from a DataFrame.\n",
      "Try using .loc[row_indexer,col_indexer] = value instead\n",
      "\n",
      "See the caveats in the documentation: https://pandas.pydata.org/pandas-docs/stable/user_guide/indexing.html#returning-a-view-versus-a-copy\n",
      "  self.dataframe[\"tokens\"] = self.dataframe[\"tokens\"].map(self._pad)\n"
     ]
    },
    {
     "output_type": "stream",
     "name": "stdout",
     "text": [
      "Deleted 0-Len Samples: 9\n",
      "Train dataset length: 7273\n",
      "Valid dataset length: 1815\n"
     ]
    },
    {
     "output_type": "stream",
     "name": "stderr",
     "text": [
      "<ipython-input-20-998fd6045931>:41: SettingWithCopyWarning: \n",
      "A value is trying to be set on a copy of a slice from a DataFrame.\n",
      "Try using .loc[row_indexer,col_indexer] = value instead\n",
      "\n",
      "See the caveats in the documentation: https://pandas.pydata.org/pandas-docs/stable/user_guide/indexing.html#returning-a-view-versus-a-copy\n",
      "  self.dataframe[\"tokens\"] = self.dataframe[\"tokens\"].map(self._pad)\n"
     ]
    }
   ],
   "source": [
    "train_dataset = Twitter(train_df, w2v_model, aggregate=False, sequence_len=SEQUENCE_LEN)\n",
    "valid_dataset = Twitter(valid_df, w2v_model, aggregate=False, sequence_len=SEQUENCE_LEN)\n",
    "\n",
    "print(f\"Train dataset length: {len(train_dataset)}\")\n",
    "print(f\"Valid dataset length: {len(valid_dataset)}\")\n"
   ],
   "metadata": {
    "colab": {
     "base_uri": "https://localhost:8080/"
    },
    "id": "3e4a5b690afadad5",
    "outputId": "e124ae8f-f01e-42bd-8f36-9f35bd1ce9f1"
   },
   "id": "3e4a5b690afadad5"
  },
  {
   "cell_type": "code",
   "execution_count": 23,
   "outputs": [
    {
     "output_type": "stream",
     "name": "stdout",
     "text": [
      "Sequence Length Report\n",
      ":::::MAX  LENGTH:::[ 64  ]\n",
      ":::::MIN  LENGTH:::[ 64  ]\n",
      ":::::MEAN LENGTH:::[64.0 ]\n",
      "Sequence Tokenization Report\n",
      ":::::All Unique Tokens:::[13951 \n",
      ":::::All Valid Tokens:::[ 9615 \n",
      ":::::Valid Tokens:::[68.92%]\n",
      "*----------------------------------*\n",
      "Sequence Length Report\n",
      ":::::MAX  LENGTH:::[ 64  ]\n",
      ":::::MIN  LENGTH:::[ 64  ]\n",
      ":::::MEAN LENGTH:::[64.0 ]\n",
      "Sequence Tokenization Report\n",
      ":::::All Unique Tokens:::[ 6056 \n",
      ":::::All Valid Tokens:::[ 4754 \n",
      ":::::Valid Tokens:::[78.5 %]\n"
     ]
    }
   ],
   "source": [
    "train_dataset.seq_report()\n",
    "print(\"*----------------------------------*\")\n",
    "valid_dataset.seq_report()"
   ],
   "metadata": {
    "colab": {
     "base_uri": "https://localhost:8080/"
    },
    "id": "b1a37e4da1bd343",
    "outputId": "852eab37-0c7d-42ce-ee7b-70512fc5bfe0"
   },
   "id": "b1a37e4da1bd343"
  },
  {
   "cell_type": "markdown",
   "source": [
    "# Model and Train"
   ],
   "metadata": {
    "collapsed": false,
    "id": "fd1da733e79676ff"
   },
   "id": "fd1da733e79676ff"
  },
  {
   "cell_type": "markdown",
   "source": [
    "## Utils"
   ],
   "metadata": {
    "collapsed": false,
    "id": "aa29012e257e3d9"
   },
   "id": "aa29012e257e3d9"
  },
  {
   "cell_type": "code",
   "execution_count": 24,
   "outputs": [],
   "source": [
    "@torch.no_grad()\n",
    "def model_eval(model, loader, loss_function, device):\n",
    "    \"\"\"Returns test_loss, test_acc\"\"\"\n",
    "    test_loss = 0.0\n",
    "    test_acc = 0.0\n",
    "    total_samples = 0\n",
    "    if device == \"auto\":\n",
    "        device = torch.device(\"cuda\" if torch.cuda.is_available() else \"cpu\")\n",
    "\n",
    "    model = model.to(device)\n",
    "    itr = tqdm(loader, total=len(loader), leave=False)\n",
    "\n",
    "    for inputs, labels in itr:\n",
    "        inputs = inputs.to(device)\n",
    "        labels = labels.to(device)\n",
    "\n",
    "        outputs = model(inputs)\n",
    "        loss = loss_function(outputs, labels)\n",
    "\n",
    "        sample_count = len(inputs)\n",
    "\n",
    "        test_loss += loss.item()\n",
    "\n",
    "        _, preds = torch.max(outputs, 1)\n",
    "        test_correct = torch.sum(preds == labels).item()\n",
    "        test_acc += test_correct\n",
    "\n",
    "        itr.set_description(\"(Eval)\")\n",
    "        itr.set_postfix(\n",
    "            loss=round(loss.item(), 5),\n",
    "            accuracy=round(test_correct/sample_count, 5),\n",
    "\n",
    "            )\n",
    "        total_samples += sample_count\n",
    "\n",
    "    test_loss = test_loss / len(loader)\n",
    "    test_acc = test_acc / total_samples\n",
    "\n",
    "    return test_loss, test_acc\n"
   ],
   "metadata": {
    "id": "d5b33657ae501516"
   },
   "id": "d5b33657ae501516"
  },
  {
   "cell_type": "code",
   "execution_count": 25,
   "outputs": [],
   "source": [
    "def train_model(\n",
    "        model,\n",
    "        batch_size,\n",
    "        loss_function,\n",
    "        optimizer,\n",
    "        epochs,\n",
    "        train_set,\n",
    "        valid_set,\n",
    "        device,\n",
    "):\n",
    "\n",
    "    if device == \"auto\":\n",
    "        device = torch.device(\"cuda\" if torch.cuda.is_available() else \"cpu\")\n",
    "\n",
    "    model.to(device)\n",
    "\n",
    "    train_losses = []\n",
    "    train_accs = []\n",
    "\n",
    "    valid_losses = []\n",
    "    valid_accs = []\n",
    "\n",
    "    train_loader = DataLoader(train_set, batch_size=batch_size, shuffle=True)\n",
    "    valid_loader = DataLoader(valid_set, batch_size=batch_size, shuffle=False)\n",
    "\n",
    "    model.to(device)\n",
    "\n",
    "    itr = tqdm(train_loader, total=len(train_loader), leave=False)\n",
    "\n",
    "    for epoch in range(epochs):\n",
    "        model.train()\n",
    "        epoch_loss = 0\n",
    "        epoch_acc = 0\n",
    "        epoch_samples = 0\n",
    "        for idx, (inputs, labels) in enumerate(itr, start=1):\n",
    "            epoch_samples += len(inputs)\n",
    "\n",
    "            inputs = inputs.to(device)\n",
    "            labels = labels.to(device)\n",
    "\n",
    "            outputs = model(inputs)\n",
    "\n",
    "            _, preds = torch.max(outputs, 1)\n",
    "            epoch_acc += torch.sum(preds == labels).item()\n",
    "\n",
    "            loss = loss_function(outputs, labels)\n",
    "            epoch_loss += loss.item()\n",
    "\n",
    "            optimizer.zero_grad()\n",
    "            loss.backward()\n",
    "\n",
    "            optimizer.step()\n",
    "\n",
    "            itr.set_description(f\"(Training) Epoch [{epoch + 1}/{epochs}]\")\n",
    "            itr.set_postfix(\n",
    "              loss=round(loss.item(), 5),\n",
    "              accuracy=round(epoch_acc/epoch_samples, 5),\n",
    "              )\n",
    "\n",
    "        epoch_loss = epoch_loss / len(train_loader)\n",
    "\n",
    "        train_losses.append(epoch_loss)\n",
    "        train_accs.append(epoch_acc/epoch_samples)\n",
    "\n",
    "        model.eval()\n",
    "        valid_loss, valid_acc = model_eval(\n",
    "            model=model,\n",
    "            loader=valid_loader,\n",
    "            loss_function=loss_function,\n",
    "            device=device\n",
    "            )\n",
    "        valid_losses.append(valid_loss)\n",
    "        valid_accs.append(valid_acc)\n",
    "\n",
    "    history = {\n",
    "      \"train_loss\": train_losses,\n",
    "      \"train_acc\": train_accs,\n",
    "\n",
    "      \"valid_loss\": valid_losses,\n",
    "      \"valid_acc\": valid_accs,\n",
    "    }\n",
    "    return history"
   ],
   "metadata": {
    "id": "1bc1edee98f616b5"
   },
   "id": "1bc1edee98f616b5"
  },
  {
   "cell_type": "code",
   "execution_count": 26,
   "outputs": [],
   "source": [
    "def trend_plot_helper(pobj):\n",
    "    plt.figure(figsize=(5*len(pobj), 5))\n",
    "    for idx, (titler, plots) in enumerate(pobj.items(), start=1):\n",
    "        plt.subplot(1, len(pobj), idx)\n",
    "        for label, trend in plots:\n",
    "            plt.plot(range(1, len(trend)+1), trend, label=label)\n",
    "        yt, xt = titler.split(' - ')\n",
    "        plt.xlabel(xt)\n",
    "        plt.ylabel(yt)\n",
    "        plt.legend()"
   ],
   "metadata": {
    "id": "6e5acc20a7d5d446"
   },
   "id": "6e5acc20a7d5d446"
  },
  {
   "cell_type": "code",
   "execution_count": 27,
   "outputs": [],
   "source": [
    "@torch.no_grad()\n",
    "def generate_confusion_matrix(model, dataset, device='auto'):\n",
    "    if device == 'auto':\n",
    "        device = torch.device(\"cuda\" if torch.cuda.is_available() else \"cpu\")\n",
    "    model = model.to(device)\n",
    "\n",
    "    loader = DataLoader(dataset, batch_size=32, shuffle=False)\n",
    "    probabilities = []\n",
    "    labels = []\n",
    "\n",
    "    for data, label in tqdm(loader, leave=False, desc=\"Generate data\"):\n",
    "        data = data.to(device)\n",
    "\n",
    "        prob = model(data)\n",
    "\n",
    "        probabilities.append(prob.detach())\n",
    "        labels.append(label.detach())\n",
    "    probabilities = torch.cat(probabilities, dim=0)\n",
    "    _, predicted = torch.max(probabilities.detach(), dim=1)\n",
    "    labels = torch.cat(labels, dim=0).detach().cpu().squeeze().numpy()\n",
    "    predicted = predicted.detach().cpu().squeeze().numpy()\n",
    "\n",
    "    cm = metrics.confusion_matrix(\n",
    "        y_true=labels,\n",
    "        y_pred=predicted,\n",
    "    )\n",
    "\n",
    "    plt.figure(figsize=(10,10))\n",
    "    sns.heatmap(cm, cmap='Blues', annot=True, cbar=False, fmt=\".0f\",)\n",
    "    plt.xlabel('Predicted Label', labelpad=20)\n",
    "    plt.ylabel('True Label', labelpad=20)\n",
    "    plt.title('Confusion Matrix', fontsize=30)\n",
    "\n",
    "    recall = metrics.recall_score(y_true=labels, y_pred=predicted, average='macro')\n",
    "    f1 = metrics.f1_score(y_true=labels, y_pred=predicted, average='macro')\n",
    "    precision = metrics.precision_score(y_true=labels, y_pred=predicted, average='macro')\n",
    "    report = metrics.classification_report(y_true=labels, y_pred=predicted)\n",
    "\n",
    "    return {'recall': recall, 'f1': f1, 'precision': precision, 'report': report}\n"
   ],
   "metadata": {
    "id": "819f88c36492de48"
   },
   "id": "819f88c36492de48"
  },
  {
   "cell_type": "markdown",
   "source": [
    "## LSTM"
   ],
   "metadata": {
    "collapsed": false,
    "id": "bed208d730342fc9"
   },
   "id": "bed208d730342fc9"
  },
  {
   "cell_type": "code",
   "execution_count": 28,
   "outputs": [],
   "source": [
    "class DetectorLSTM(nn.Module):\n",
    "    def __init__(self, input_size, hidden_size, num_layers, num_classes, dropout=0.1, bidirectional=False):\n",
    "        super(DetectorLSTM, self).__init__()\n",
    "        self.hidden_size = hidden_size\n",
    "        self.num_layers = num_layers\n",
    "        self.bidirectional = bidirectional\n",
    "        self.hidden_bi_dim = 2 if bidirectional else 1\n",
    "        self.lstm = nn.LSTM(\n",
    "            input_size=input_size,\n",
    "            hidden_size=hidden_size,\n",
    "            num_layers=num_layers,\n",
    "            batch_first=True,\n",
    "            dropout=dropout if num_layers>1 else 0.0,\n",
    "            bidirectional=bidirectional\n",
    "        )\n",
    "        self.fc = nn.Linear(hidden_size, num_classes)\n",
    "\n",
    "    def forward(self, x):\n",
    "        h0 = torch.zeros(self.hidden_bi_dim * self.num_layers, x.size(0), self.hidden_size).to(x.device)\n",
    "        c0 = torch.zeros(self.hidden_bi_dim * self.num_layers, x.size(0), self.hidden_size).to(x.device)\n",
    "\n",
    "        out, _ = self.lstm(x, (h0, c0))\n",
    "        out = self.fc(out[:, -1, :])\n",
    "        return out"
   ],
   "metadata": {
    "id": "ad5a723d9c509e7b"
   },
   "id": "ad5a723d9c509e7b"
  },
  {
   "cell_type": "markdown",
   "source": [
    "### Train modes"
   ],
   "metadata": {
    "collapsed": false,
    "id": "e073c31a727473a8"
   },
   "id": "e073c31a727473a8"
  },
  {
   "cell_type": "code",
   "execution_count": 29,
   "outputs": [],
   "source": [
    "# Train\n",
    "lstm_1l_model = DetectorLSTM(\n",
    "    input_size=EMBEDDING_VECTOR_DIM,\n",
    "    hidden_size=LSTM_HIDDEN_DIM,\n",
    "    bidirectional=LSTM_BIDIRECTIONAL,\n",
    "    num_layers=1,\n",
    "    num_classes=2,\n",
    ")"
   ],
   "metadata": {
    "id": "82644f31350a2d35"
   },
   "id": "82644f31350a2d35"
  },
  {
   "cell_type": "code",
   "execution_count": 30,
   "outputs": [
    {
     "output_type": "stream",
     "name": "stderr",
     "text": []
    }
   ],
   "source": [
    "lstm_1l_model_train_history = train_model(\n",
    "    model=lstm_1l_model,\n",
    "    batch_size=BATCH_SIZE,\n",
    "    loss_function=nn.CrossEntropyLoss(weight=weights),\n",
    "    optimizer=torch.optim.Adam(lstm_1l_model.parameters(), lr=LEARNING_RATE, weight_decay=WEIGHT_DECAY),\n",
    "    epochs=EPOCHS,\n",
    "    train_set=train_dataset,\n",
    "    valid_set=valid_dataset,\n",
    "    device=DEVICE\n",
    ")"
   ],
   "metadata": {
    "colab": {
     "base_uri": "https://localhost:8080/"
    },
    "id": "205eeb10bcb61818",
    "outputId": "c8bef94f-4d2b-4aca-b8a9-3a9ea704c12a"
   },
   "id": "205eeb10bcb61818"
  },
  {
   "cell_type": "code",
   "execution_count": 31,
   "outputs": [
    {
     "output_type": "display_data",
     "data": {
      "text/plain": [
       "<Figure size 1000x500 with 2 Axes>"
      ],
      "image/png": "[encoded data removed]"
     },
     "metadata": {}
    }
   ],
   "source": [
    "trend_plot_helper(\n",
    "    {\n",
    "        \"Accuracy - Epoch\": [\n",
    "            (\"Train Acc\", lstm_1l_model_train_history[\"train_acc\"]),\n",
    "            (\"Validation Acc\", lstm_1l_model_train_history[\"valid_acc\"]),\n",
    "        ],\n",
    "        \"Loss - Epoch\": [\n",
    "            (\"Train Loss\", lstm_1l_model_train_history[\"train_loss\"]),\n",
    "            (\"Validation Loss\", lstm_1l_model_train_history[\"valid_loss\"])\n",
    "        ]\n",
    "    }\n",
    ")\n"
   ],
   "metadata": {
    "colab": {
     "base_uri": "https://localhost:8080/",
     "height": 470
    },
    "id": "f71ccd8933f362f9",
    "outputId": "b558e1a4-e6ea-4416-d372-85c7565ac57f"
   },
   "id": "f71ccd8933f362f9"
  },
  {
   "cell_type": "code",
   "execution_count": 32,
   "outputs": [
    {
     "output_type": "stream",
     "name": "stderr",
     "text": []
    },
    {
     "output_type": "display_data",
     "data": {
      "text/plain": [
       "<Figure size 1000x1000 with 1 Axes>"
      ],
      "image/png": "[encoded data removed]"
     },
     "metadata": {}
    }
   ],
   "source": [
    "lstm_1l_model_report = generate_confusion_matrix(\n",
    "    model=lstm_1l_model,\n",
    "    dataset=valid_dataset,\n",
    ")"
   ],
   "metadata": {
    "colab": {
     "base_uri": "https://localhost:8080/",
     "height": 914
    },
    "id": "c8df256aa2c7a982",
    "outputId": "62526535-59a2-47db-9d7b-be5213453cf3"
   },
   "id": "c8df256aa2c7a982"
  },
  {
   "cell_type": "code",
   "execution_count": 33,
   "outputs": [
    {
     "output_type": "stream",
     "name": "stdout",
     "text": [
      "Recall:    0.861\n",
      "F1:        0.858\n",
      "Precision: 0.857\n",
      "              precision    recall  f1-score   support\n",
      "\n",
      "           0       0.90      0.85      0.87      1015\n",
      "           1       0.82      0.87      0.85       800\n",
      "\n",
      "    accuracy                           0.86      1815\n",
      "   macro avg       0.86      0.86      0.86      1815\n",
      "weighted avg       0.86      0.86      0.86      1815\n"
     ]
    }
   ],
   "source": [
    "print(f\"Recall:    {lstm_1l_model_report['recall']:.3f}\")\n",
    "print(f\"F1:        {lstm_1l_model_report['f1']:.3f}\")\n",
    "print(f\"Precision: {lstm_1l_model_report['precision']:.3f}\")\n",
    "print(lstm_1l_model_report['report'])"
   ],
   "metadata": {
    "colab": {
     "base_uri": "https://localhost:8080/"
    },
    "id": "69d280b2b3d16f98",
    "outputId": "fd5ff7ca-f823-4b78-d70a-34b41fb678c4"
   },
   "id": "69d280b2b3d16f98"
  },
  {
   "cell_type": "code",
   "execution_count": 34,
   "outputs": [
    {
     "output_type": "execute_result",
     "data": {
      "text/plain": [
       "9581"
      ]
     },
     "metadata": {},
     "execution_count": 34
    }
   ],
   "source": [
    "del lstm_1l_model_train_history, lstm_1l_model, lstm_1l_model_report\n",
    "\n",
    "if torch.cuda.is_available():\n",
    "    torch.cuda.empty_cache()\n",
    "gc.collect()"
   ],
   "metadata": {
    "colab": {
     "base_uri": "https://localhost:8080/"
    },
    "id": "b723a2160d4c00c8",
    "outputId": "f5c5b9d1-07a3-41eb-e22e-6c0fa693b0bb"
   },
   "id": "b723a2160d4c00c8"
  },
  {
   "cell_type": "markdown",
   "source": [
    "## 2-Layer LSTM"
   ],
   "metadata": {
    "collapsed": false,
    "id": "26f9b51f8fe11d2d"
   },
   "id": "26f9b51f8fe11d2d"
  },
  {
   "cell_type": "code",
   "execution_count": 35,
   "outputs": [],
   "source": [
    "lstm_2l_model = DetectorLSTM(\n",
    "    input_size=EMBEDDING_VECTOR_DIM,\n",
    "    hidden_size=LSTM_HIDDEN_DIM,\n",
    "    bidirectional=LSTM_BIDIRECTIONAL,\n",
    "    num_layers=2,\n",
    "    num_classes=2\n",
    ")"
   ],
   "metadata": {
    "id": "38205ca41f01b782"
   },
   "id": "38205ca41f01b782"
  },
  {
   "cell_type": "code",
   "execution_count": 36,
   "outputs": [
    {
     "output_type": "stream",
     "name": "stderr",
     "text": []
    }
   ],
   "source": [
    "lstm_2l_model_train_history = train_model(\n",
    "    model=lstm_2l_model,\n",
    "    batch_size=BATCH_SIZE,\n",
    "    loss_function=nn.CrossEntropyLoss(weight=weights),\n",
    "    optimizer=torch.optim.Adam(lstm_2l_model.parameters(), lr=LEARNING_RATE, weight_decay=WEIGHT_DECAY),\n",
    "    epochs=EPOCHS,\n",
    "    train_set=train_dataset,\n",
    "    valid_set=valid_dataset,\n",
    "    device=DEVICE\n",
    ")"
   ],
   "metadata": {
    "colab": {
     "base_uri": "https://localhost:8080/"
    },
    "id": "d12a8548a160858a",
    "outputId": "8dee6287-ab64-437d-f404-d416df19c38d"
   },
   "id": "d12a8548a160858a"
  },
  {
   "cell_type": "code",
   "execution_count": 37,
   "outputs": [
    {
     "output_type": "display_data",
     "data": {
      "text/plain": [
       "<Figure size 1000x500 with 2 Axes>"
      ],
      "image/png": "[encoded data removed]"
     },
     "metadata": {}
    }
   ],
   "source": [
    "trend_plot_helper(\n",
    "    {\n",
    "        \"Accuracy - Epoch\": [\n",
    "            (\"Train Acc\", lstm_2l_model_train_history[\"train_acc\"]),\n",
    "            (\"Validation Acc\", lstm_2l_model_train_history[\"valid_acc\"]),\n",
    "        ],\n",
    "        \"Loss - Epoch\": [\n",
    "            (\"Train Loss\", lstm_2l_model_train_history[\"train_loss\"]),\n",
    "            (\"Validation Loss\", lstm_2l_model_train_history[\"valid_loss\"])\n",
    "        ]\n",
    "    }\n",
    ")\n"
   ],
   "metadata": {
    "colab": {
     "base_uri": "https://localhost:8080/",
     "height": 465
    },
    "id": "949e5c8c8632cc0f",
    "outputId": "f6b05b66-ce92-4fe5-ab49-633964821f45"
   },
   "id": "949e5c8c8632cc0f"
  },
  {
   "cell_type": "code",
   "execution_count": 38,
   "outputs": [
    {
     "output_type": "stream",
     "name": "stderr",
     "text": []
    },
    {
     "output_type": "display_data",
     "data": {
      "text/plain": [
       "<Figure size 1000x1000 with 1 Axes>"
      ],
      "image/png": "[encoded data removed]"
     },
     "metadata": {}
    }
   ],
   "source": [
    "lstm_2l_model_report = generate_confusion_matrix(\n",
    "    model=lstm_2l_model,\n",
    "    dataset=valid_dataset,\n",
    ")"
   ],
   "metadata": {
    "colab": {
     "base_uri": "https://localhost:8080/",
     "height": 914
    },
    "id": "993d3a89f8b008b0",
    "outputId": "e66977c3-bf79-43d2-a68d-e324195bc7a3"
   },
   "id": "993d3a89f8b008b0"
  },
  {
   "cell_type": "code",
   "execution_count": 39,
   "outputs": [
    {
     "output_type": "stream",
     "name": "stdout",
     "text": [
      "Recall:    0.880\n",
      "F1:        0.882\n",
      "Precision: 0.886\n",
      "              precision    recall  f1-score   support\n",
      "\n",
      "           0       0.88      0.92      0.90      1015\n",
      "           1       0.90      0.84      0.86       800\n",
      "\n",
      "    accuracy                           0.88      1815\n",
      "   macro avg       0.89      0.88      0.88      1815\n",
      "weighted avg       0.89      0.88      0.88      1815\n"
     ]
    }
   ],
   "source": [
    "print(f\"Recall:    {lstm_2l_model_report['recall']:.3f}\")\n",
    "print(f\"F1:        {lstm_2l_model_report['f1']:.3f}\")\n",
    "print(f\"Precision: {lstm_2l_model_report['precision']:.3f}\")\n",
    "print(lstm_2l_model_report['report'])"
   ],
   "metadata": {
    "colab": {
     "base_uri": "https://localhost:8080/"
    },
    "id": "7efe99f137d9ddc1",
    "outputId": "4e60ef49-225b-4ba0-81a1-da91687c6722"
   },
   "id": "7efe99f137d9ddc1"
  },
  {
   "cell_type": "code",
   "execution_count": 40,
   "outputs": [
    {
     "output_type": "execute_result",
     "data": {
      "text/plain": [
       "9276"
      ]
     },
     "metadata": {},
     "execution_count": 40
    }
   ],
   "source": [
    "del lstm_2l_model_train_history, lstm_2l_model, lstm_2l_model_report\n",
    "\n",
    "if torch.cuda.is_available():\n",
    "    torch.cuda.empty_cache()\n",
    "gc.collect()"
   ],
   "metadata": {
    "colab": {
     "base_uri": "https://localhost:8080/"
    },
    "id": "f4945fd541fe218c",
    "outputId": "ff58fc3e-d830-42c4-c8c6-0392006b9013"
   },
   "id": "f4945fd541fe218c"
  },
  {
   "cell_type": "markdown",
   "source": [
    "## CNN+2-Layer-LSTM"
   ],
   "metadata": {
    "collapsed": false,
    "id": "1566b2a8428318c8"
   },
   "id": "1566b2a8428318c8"
  },
  {
   "cell_type": "code",
   "execution_count": 41,
   "outputs": [],
   "source": [
    "class DetectorCNNLSTM(nn.Module):\n",
    "    def __init__(self, input_size, hidden_size, filters, num_lstm_layers, bidirectional, num_classes, dropout=0.1, seq_len=64):\n",
    "        super(DetectorCNNLSTM, self).__init__()\n",
    "        self.network = nn.Sequential(\n",
    "            nn.Conv1d(in_channels=input_size, out_channels=filters, kernel_size=3, padding='same'),\n",
    "            nn.ReLU(),\n",
    "            nn.MaxPool1d(kernel_size=2, stride=2),\n",
    "            nn.Flatten(),\n",
    "            nn.Dropout(dropout),\n",
    "            nn.Unflatten(-1, (filters, seq_len//2)),\n",
    "            DetectorLSTM(\n",
    "                input_size=seq_len//2,\n",
    "                hidden_size=hidden_size,\n",
    "                bidirectional=bidirectional,\n",
    "                num_layers=num_lstm_layers,\n",
    "                num_classes=num_classes,\n",
    "            ),\n",
    "        )\n",
    "\n",
    "    def forward(self, x):\n",
    "        out = x.permute(0, 2, 1)\n",
    "        out = self.network(out)\n",
    "        return out"
   ],
   "metadata": {
    "id": "a2ed27ccf8d0307c"
   },
   "id": "a2ed27ccf8d0307c"
  },
  {
   "cell_type": "code",
   "execution_count": 42,
   "outputs": [],
   "source": [
    "cnn_lstm_model = DetectorCNNLSTM(\n",
    "    input_size=EMBEDDING_VECTOR_DIM,\n",
    "    hidden_size=SEQUENCE_LEN,\n",
    "    filters=CNN_FILTERS,\n",
    "    bidirectional=LSTM_BIDIRECTIONAL,\n",
    "    num_lstm_layers=2,\n",
    "    num_classes=2,\n",
    "    dropout=0.5,\n",
    "    seq_len=SEQUENCE_LEN,\n",
    ")"
   ],
   "metadata": {
    "id": "76d30ba6554b6c48"
   },
   "id": "76d30ba6554b6c48"
  },
  {
   "cell_type": "code",
   "execution_count": 43,
   "outputs": [
    {
     "output_type": "stream",
     "name": "stderr",
     "text": []
    }
   ],
   "source": [
    "cnn_lstm_model_train_history = train_model(\n",
    "    model=cnn_lstm_model,\n",
    "    batch_size=BATCH_SIZE,\n",
    "    loss_function=nn.CrossEntropyLoss(weight=weights),\n",
    "    optimizer=torch.optim.Adam(cnn_lstm_model.parameters(), lr=LEARNING_RATE, weight_decay=WEIGHT_DECAY),\n",
    "    epochs=EPOCHS,\n",
    "    train_set=train_dataset,\n",
    "    valid_set=valid_dataset,\n",
    "    device=DEVICE\n",
    ")"
   ],
   "metadata": {
    "colab": {
     "base_uri": "https://localhost:8080/"
    },
    "id": "a57ddcb0836683ec",
    "outputId": "01d9ee7f-80d6-49c0-bd13-a00d25a89279"
   },
   "id": "a57ddcb0836683ec"
  },
  {
   "cell_type": "code",
   "execution_count": 44,
   "outputs": [
    {
     "output_type": "display_data",
     "data": {
      "text/plain": [
       "<Figure size 1000x500 with 2 Axes>"
      ],
      "image/png": "[encoded data removed]"
     },
     "metadata": {}
    }
   ],
   "source": [
    "trend_plot_helper(\n",
    "    {\n",
    "        \"Accuracy - Epoch\": [\n",
    "            (\"Train Acc\", cnn_lstm_model_train_history[\"train_acc\"]),\n",
    "            (\"Validation Acc\", cnn_lstm_model_train_history[\"valid_acc\"]),\n",
    "        ],\n",
    "        \"Loss - Epoch\": [\n",
    "            (\"Train Loss\", cnn_lstm_model_train_history[\"train_loss\"]),\n",
    "            (\"Validation Loss\", cnn_lstm_model_train_history[\"valid_loss\"])\n",
    "        ]\n",
    "    }\n",
    ")"
   ],
   "metadata": {
    "colab": {
     "base_uri": "https://localhost:8080/",
     "height": 467
    },
    "id": "ac375ced89f224ce",
    "outputId": "64344c98-5d02-4b8a-db42-c9635405c82d"
   },
   "id": "ac375ced89f224ce"
  },
  {
   "cell_type": "code",
   "execution_count": 45,
   "outputs": [
    {
     "output_type": "stream",
     "name": "stderr",
     "text": []
    },
    {
     "output_type": "display_data",
     "data": {
      "text/plain": [
       "<Figure size 1000x1000 with 1 Axes>"
      ],
      "image/png": "[encoded data removed]"
     },
     "metadata": {}
    }
   ],
   "source": [
    "cnn_lstm_model_report = generate_confusion_matrix(\n",
    "    model=cnn_lstm_model,\n",
    "    dataset=valid_dataset,\n",
    ")"
   ],
   "metadata": {
    "colab": {
     "base_uri": "https://localhost:8080/",
     "height": 914
    },
    "id": "a09473d5783fa70f",
    "outputId": "d1d7f125-7295-4b38-9f5e-ad82fb987376"
   },
   "id": "a09473d5783fa70f"
  },
  {
   "cell_type": "code",
   "execution_count": 46,
   "outputs": [
    {
     "output_type": "stream",
     "name": "stdout",
     "text": [
      "Recall:    0.894\n",
      "F1:        0.897\n",
      "Precision: 0.901\n",
      "              precision    recall  f1-score   support\n",
      "\n",
      "           0       0.89      0.93      0.91      1015\n",
      "           1       0.91      0.85      0.88       800\n",
      "\n",
      "    accuracy                           0.90      1815\n",
      "   macro avg       0.90      0.89      0.90      1815\n",
      "weighted avg       0.90      0.90      0.90      1815\n"
     ]
    }
   ],
   "source": [
    "print(f\"Recall:    {cnn_lstm_model_report['recall']:.3f}\")\n",
    "print(f\"F1:        {cnn_lstm_model_report['f1']:.3f}\")\n",
    "print(f\"Precision: {cnn_lstm_model_report['precision']:.3f}\")\n",
    "print(cnn_lstm_model_report['report'])"
   ],
   "metadata": {
    "colab": {
     "base_uri": "https://localhost:8080/"
    },
    "id": "8ee01e4607601dd8",
    "outputId": "aa9cb5a5-3de8-4685-c435-963e77e0c813"
   },
   "id": "8ee01e4607601dd8"
  },
  {
   "cell_type": "code",
   "execution_count": 47,
   "outputs": [],
   "source": [
    "del cnn_lstm_model_train_history, cnn_lstm_model, cnn_lstm_model_report\n",
    "\n",
    "if torch.cuda.is_available():\n",
    "    torch.cuda.empty_cache()"
   ],
   "metadata": {
    "id": "f31ce53febd6246e"
   },
   "id": "f31ce53febd6246e"
  }
 ],
 "metadata": {
  "kernelspec": {
   "display_name": "Python 3",
   "name": "python3"
  },
  "language_info": {
   "codemirror_mode": {
    "name": "ipython",
    "version": 2
   },
   "file_extension": ".py",
   "mimetype": "text/x-python",
   "name": "python",
   "nbconvert_exporter": "python",
   "pygments_lexer": "ipython2",
   "version": "2.7.6"
  },
  "colab": {
   "provenance": [],
   "gpuType": "T4"
  },
  "accelerator": "GPU"
 },
 "nbformat": 4,
 "nbformat_minor": 5
}
